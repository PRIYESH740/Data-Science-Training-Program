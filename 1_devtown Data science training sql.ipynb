{
 "cells": [
  {
   "cell_type": "code",
   "execution_count": 2,
   "id": "c8ce1614",
   "metadata": {},
   "outputs": [],
   "source": [
    "import sqlite3 as sq"
   ]
  },
  {
   "cell_type": "markdown",
   "id": "d4b398d8",
   "metadata": {},
   "source": [
    "## Create the database "
   ]
  },
  {
   "cell_type": "code",
   "execution_count": 3,
   "id": "dde71371",
   "metadata": {},
   "outputs": [
    {
     "name": "stdout",
     "output_type": "stream",
     "text": [
      "Database successful created\n"
     ]
    }
   ],
   "source": [
    "database =sq.connect(\"test.db\")\n",
    "print(\"Database successful created\")"
   ]
  },
  {
   "cell_type": "markdown",
   "id": "6e4bb83e",
   "metadata": {},
   "source": [
    "## perform query"
   ]
  },
  {
   "cell_type": "markdown",
   "id": "bf97c94c",
   "metadata": {},
   "source": [
    "CREATE TABLE Table_name(\n",
    "    Name char(100),\n",
    "    Age int\n",
    ");"
   ]
  },
  {
   "cell_type": "markdown",
   "id": "56793363",
   "metadata": {},
   "source": [
    "## create table in database"
   ]
  },
  {
   "cell_type": "code",
   "execution_count": 4,
   "id": "f7060e6b",
   "metadata": {},
   "outputs": [
    {
     "name": "stdout",
     "output_type": "stream",
     "text": [
      "Table created\n"
     ]
    }
   ],
   "source": [
    "database.execute(\n",
    "'''CREATE TABLE Table_name(\n",
    "    Name char(100),\n",
    "    Age int\n",
    ");''')\n",
    "\n",
    "\n",
    "print(\"Table created\")"
   ]
  },
  {
   "cell_type": "code",
   "execution_count": 8,
   "id": "4a1b13f9",
   "metadata": {},
   "outputs": [
    {
     "name": "stdout",
     "output_type": "stream",
     "text": [
      "Data has been inserted \n"
     ]
    }
   ],
   "source": [
    "database.execute(\"INSERT INTO Table_name VALUES('smith',25);\")\n",
    "database.execute(\"INSERT INTO Table_name VALUES('Devansh',12);\")\n",
    "database.execute(\"INSERT INTO Table_name VALUES('Parikh',36);\")\n",
    "\n",
    "print(\"Data has been inserted \")"
   ]
  },
  {
   "cell_type": "code",
   "execution_count": 10,
   "id": "e3a80805",
   "metadata": {},
   "outputs": [],
   "source": [
    "data=database.execute(\"SELECT * FROM Table_name;\")"
   ]
  },
  {
   "cell_type": "code",
   "execution_count": 11,
   "id": "356898f2",
   "metadata": {},
   "outputs": [
    {
     "name": "stdout",
     "output_type": "stream",
     "text": [
      "('smith', 25)\n",
      "('Devansh', 12)\n",
      "('Parikh', 36)\n"
     ]
    }
   ],
   "source": [
    "for i in data:\n",
    "    print(i)"
   ]
  },
  {
   "cell_type": "code",
   "execution_count": null,
   "id": "35d4fd32",
   "metadata": {},
   "outputs": [],
   "source": []
  }
 ],
 "metadata": {
  "kernelspec": {
   "display_name": "Python 3 (ipykernel)",
   "language": "python",
   "name": "python3"
  },
  "language_info": {
   "codemirror_mode": {
    "name": "ipython",
    "version": 3
   },
   "file_extension": ".py",
   "mimetype": "text/x-python",
   "name": "python",
   "nbconvert_exporter": "python",
   "pygments_lexer": "ipython3",
   "version": "3.11.5"
  }
 },
 "nbformat": 4,
 "nbformat_minor": 5
}
