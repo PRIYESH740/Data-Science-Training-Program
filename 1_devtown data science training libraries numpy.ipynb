{
 "cells": [
  {
   "cell_type": "code",
   "execution_count": 2,
   "id": "103536ef",
   "metadata": {},
   "outputs": [
    {
     "name": "stdout",
     "output_type": "stream",
     "text": [
      "imported numpy libraries\n"
     ]
    }
   ],
   "source": [
    "import numpy as np\n",
    "import time\n",
    "print(\"imported numpy libraries\")"
   ]
  },
  {
   "cell_type": "code",
   "execution_count": 3,
   "id": "9347158f",
   "metadata": {},
   "outputs": [],
   "source": [
    "a=np.random.rand(1000000000)\n"
   ]
  },
  {
   "cell_type": "code",
   "execution_count": 5,
   "id": "1747c180",
   "metadata": {},
   "outputs": [
    {
     "data": {
      "text/plain": [
       "array([0.65834346, 0.74159126, 0.11559781, ..., 0.55413503, 0.12076221,\n",
       "       0.53242555])"
      ]
     },
     "execution_count": 5,
     "metadata": {},
     "output_type": "execute_result"
    }
   ],
   "source": [
    "a"
   ]
  },
  {
   "cell_type": "code",
   "execution_count": 6,
   "id": "629193c9",
   "metadata": {},
   "outputs": [
    {
     "name": "stdout",
     "output_type": "stream",
     "text": [
      "116.29736948013306\n"
     ]
    }
   ],
   "source": [
    "#list \n",
    "\n",
    "start =time.time()\n",
    "mean_list=sum(a)/len(a)\n",
    "print(time.time()-start)"
   ]
  },
  {
   "cell_type": "code",
   "execution_count": 9,
   "id": "3ff5933b",
   "metadata": {},
   "outputs": [
    {
     "name": "stdout",
     "output_type": "stream",
     "text": [
      "27.359089136123657\n"
     ]
    }
   ],
   "source": [
    "# numpy \n",
    "\n",
    "start =time.time()\n",
    "mean_np=np.mean(a)\n",
    "print(time.time()-start)"
   ]
  },
  {
   "cell_type": "code",
   "execution_count": 10,
   "id": "07750d25",
   "metadata": {},
   "outputs": [
    {
     "data": {
      "text/plain": [
       "0.499999540092543"
      ]
     },
     "execution_count": 10,
     "metadata": {},
     "output_type": "execute_result"
    }
   ],
   "source": [
    "mean_list\n"
   ]
  },
  {
   "cell_type": "code",
   "execution_count": 11,
   "id": "18eac676",
   "metadata": {},
   "outputs": [
    {
     "data": {
      "text/plain": [
       "0.499999540092543"
      ]
     },
     "execution_count": 11,
     "metadata": {},
     "output_type": "execute_result"
    }
   ],
   "source": [
    "mean_np"
   ]
  },
  {
   "cell_type": "code",
   "execution_count": 15,
   "id": "e0c0ea1f",
   "metadata": {},
   "outputs": [
    {
     "data": {
      "text/plain": [
       "'1.24.3'"
      ]
     },
     "execution_count": 15,
     "metadata": {},
     "output_type": "execute_result"
    }
   ],
   "source": [
    "# what version i use numpy\n",
    "\n",
    "np.__version__"
   ]
  },
  {
   "cell_type": "code",
   "execution_count": 14,
   "id": "7838473c",
   "metadata": {},
   "outputs": [
    {
     "name": "stdout",
     "output_type": "stream",
     "text": [
      "Defaulting to user installation because normal site-packages is not writeable\n",
      "Requirement already satisfied: numpy in c:\\programdata\\anaconda3\\lib\\site-packages (1.24.3)\n"
     ]
    }
   ],
   "source": [
    "!pip install numpy\n"
   ]
  },
  {
   "cell_type": "markdown",
   "id": "415e3a45",
   "metadata": {},
   "source": [
    "## operation"
   ]
  },
  {
   "cell_type": "raw",
   "id": "fcffd10c",
   "metadata": {},
   "source": [
    "Initializing the numpy array"
   ]
  },
  {
   "cell_type": "code",
   "execution_count": 17,
   "id": "67ccbf21",
   "metadata": {},
   "outputs": [],
   "source": [
    "#arr=np.array()   --> syntax"
   ]
  },
  {
   "cell_type": "code",
   "execution_count": 18,
   "id": "e3c0a061",
   "metadata": {},
   "outputs": [],
   "source": [
    "#0D Zero Dimensional \n",
    "arr=np.array(4)"
   ]
  },
  {
   "cell_type": "code",
   "execution_count": 19,
   "id": "30f1c515",
   "metadata": {},
   "outputs": [
    {
     "data": {
      "text/plain": [
       "array(4)"
      ]
     },
     "execution_count": 19,
     "metadata": {},
     "output_type": "execute_result"
    }
   ],
   "source": [
    "arr"
   ]
  },
  {
   "cell_type": "code",
   "execution_count": 20,
   "id": "4a8c25e8",
   "metadata": {},
   "outputs": [],
   "source": [
    "#1D= ARRAY\n",
    "ARR=np.array([1,2,3,4,5,6,9,10])"
   ]
  },
  {
   "cell_type": "code",
   "execution_count": 21,
   "id": "cb723cc5",
   "metadata": {},
   "outputs": [
    {
     "data": {
      "text/plain": [
       "array([ 1,  2,  3,  4,  5,  6,  9, 10])"
      ]
     },
     "execution_count": 21,
     "metadata": {},
     "output_type": "execute_result"
    }
   ],
   "source": [
    "ARR\n"
   ]
  },
  {
   "cell_type": "code",
   "execution_count": 22,
   "id": "08bc26b2",
   "metadata": {},
   "outputs": [],
   "source": [
    "#2D ARRAY\n",
    "arr2=np.array([[1,2,3],[3,4,5],[6,7,8]])"
   ]
  },
  {
   "cell_type": "code",
   "execution_count": 23,
   "id": "13328c2d",
   "metadata": {},
   "outputs": [
    {
     "data": {
      "text/plain": [
       "array([[1, 2, 3],\n",
       "       [3, 4, 5],\n",
       "       [6, 7, 8]])"
      ]
     },
     "execution_count": 23,
     "metadata": {},
     "output_type": "execute_result"
    }
   ],
   "source": [
    "arr2"
   ]
  },
  {
   "cell_type": "code",
   "execution_count": 33,
   "id": "8b587eee",
   "metadata": {},
   "outputs": [],
   "source": [
    "#3D Array\n",
    "arr3=np.array([[[1,2,3,4],\n",
    "               [5,4,6,7]]\n",
    "               ,[[1,2,3,4],\n",
    "                [4,54,6,7]]])"
   ]
  },
  {
   "cell_type": "code",
   "execution_count": 34,
   "id": "8a566ceb",
   "metadata": {},
   "outputs": [
    {
     "data": {
      "text/plain": [
       "array([[[ 1,  2,  3,  4],\n",
       "        [ 5,  4,  6,  7]],\n",
       "\n",
       "       [[ 1,  2,  3,  4],\n",
       "        [ 4, 54,  6,  7]]])"
      ]
     },
     "execution_count": 34,
     "metadata": {},
     "output_type": "execute_result"
    }
   ],
   "source": [
    "arr3"
   ]
  },
  {
   "cell_type": "code",
   "execution_count": 27,
   "id": "7a21632d",
   "metadata": {},
   "outputs": [],
   "source": [
    "arr4=np.array((1,2,3,4,5))"
   ]
  },
  {
   "cell_type": "code",
   "execution_count": 28,
   "id": "3eacb645",
   "metadata": {},
   "outputs": [
    {
     "data": {
      "text/plain": [
       "numpy.ndarray"
      ]
     },
     "execution_count": 28,
     "metadata": {},
     "output_type": "execute_result"
    }
   ],
   "source": [
    "type(arr)"
   ]
  },
  {
   "cell_type": "markdown",
   "id": "d6ad1b9b",
   "metadata": {},
   "source": [
    "#  ndim attribute - It will gonna return the deminsion of array"
   ]
  },
  {
   "cell_type": "code",
   "execution_count": 29,
   "id": "0a844d9e",
   "metadata": {},
   "outputs": [
    {
     "data": {
      "text/plain": [
       "0"
      ]
     },
     "execution_count": 29,
     "metadata": {},
     "output_type": "execute_result"
    }
   ],
   "source": [
    "arr.ndim"
   ]
  },
  {
   "cell_type": "code",
   "execution_count": 30,
   "id": "05c09193",
   "metadata": {},
   "outputs": [
    {
     "data": {
      "text/plain": [
       "1"
      ]
     },
     "execution_count": 30,
     "metadata": {},
     "output_type": "execute_result"
    }
   ],
   "source": [
    "ARR.ndim"
   ]
  },
  {
   "cell_type": "code",
   "execution_count": 31,
   "id": "e7bcaa71",
   "metadata": {},
   "outputs": [
    {
     "data": {
      "text/plain": [
       "2"
      ]
     },
     "execution_count": 31,
     "metadata": {},
     "output_type": "execute_result"
    }
   ],
   "source": [
    "arr2.ndim"
   ]
  },
  {
   "cell_type": "code",
   "execution_count": 35,
   "id": "b0e88944",
   "metadata": {},
   "outputs": [
    {
     "data": {
      "text/plain": [
       "3"
      ]
     },
     "execution_count": 35,
     "metadata": {},
     "output_type": "execute_result"
    }
   ],
   "source": [
    "arr3.ndim"
   ]
  },
  {
   "cell_type": "markdown",
   "id": "851b9220",
   "metadata": {},
   "source": [
    "# i want to convert 1D array in 10 demensional array"
   ]
  },
  {
   "cell_type": "code",
   "execution_count": 36,
   "id": "72fc35fe",
   "metadata": {},
   "outputs": [],
   "source": [
    "arr1=np.array([1,2,3,4,5],ndmin=10)"
   ]
  },
  {
   "cell_type": "code",
   "execution_count": 37,
   "id": "4fb4de78",
   "metadata": {},
   "outputs": [
    {
     "data": {
      "text/plain": [
       "10"
      ]
     },
     "execution_count": 37,
     "metadata": {},
     "output_type": "execute_result"
    }
   ],
   "source": [
    "arr1.ndim"
   ]
  },
  {
   "cell_type": "code",
   "execution_count": 38,
   "id": "3e1cd7c7",
   "metadata": {},
   "outputs": [
    {
     "data": {
      "text/plain": [
       "array([[[[[[[[[[1, 2, 3, 4, 5]]]]]]]]]])"
      ]
     },
     "execution_count": 38,
     "metadata": {},
     "output_type": "execute_result"
    }
   ],
   "source": [
    "arr1"
   ]
  },
  {
   "cell_type": "markdown",
   "id": "5a3a126b",
   "metadata": {},
   "source": [
    "# shape - it tells about the size of the array"
   ]
  },
  {
   "cell_type": "code",
   "execution_count": 40,
   "id": "d0b8be4d",
   "metadata": {},
   "outputs": [
    {
     "data": {
      "text/plain": [
       "(3, 3)"
      ]
     },
     "execution_count": 40,
     "metadata": {},
     "output_type": "execute_result"
    }
   ],
   "source": [
    "arr2.shape   #--> it specify the rows and columns of array"
   ]
  },
  {
   "cell_type": "code",
   "execution_count": 41,
   "id": "51053f75",
   "metadata": {},
   "outputs": [
    {
     "data": {
      "text/plain": [
       "(2, 2, 4)"
      ]
     },
     "execution_count": 41,
     "metadata": {},
     "output_type": "execute_result"
    }
   ],
   "source": [
    "arr3.shape  #--> how many 2d array do you have 2,no. of rows-2,no. of column-4"
   ]
  },
  {
   "cell_type": "code",
   "execution_count": 42,
   "id": "5f2cad62",
   "metadata": {},
   "outputs": [],
   "source": [
    "arr3=np.array([[[1,2,3,4],\n",
    "               [5,4,6,7]]\n",
    "               ,[[1,2,3,4],\n",
    "                [4,54,6,7]]],ndmin=10)"
   ]
  },
  {
   "cell_type": "code",
   "execution_count": 43,
   "id": "a81ebc5c",
   "metadata": {},
   "outputs": [
    {
     "data": {
      "text/plain": [
       "(1, 1, 1, 1, 1, 1, 1, 2, 2, 4)"
      ]
     },
     "execution_count": 43,
     "metadata": {},
     "output_type": "execute_result"
    }
   ],
   "source": [
    "arr3.shape   #--> how many 10d array do you have 1, and so on "
   ]
  },
  {
   "cell_type": "markdown",
   "id": "bb58c422",
   "metadata": {},
   "source": [
    "# dtype - it tell about the type of the data "
   ]
  },
  {
   "cell_type": "code",
   "execution_count": 45,
   "id": "0bb8dd63",
   "metadata": {},
   "outputs": [
    {
     "data": {
      "text/plain": [
       "dtype('int32')"
      ]
     },
     "execution_count": 45,
     "metadata": {},
     "output_type": "execute_result"
    }
   ],
   "source": [
    "ARR.dtype"
   ]
  },
  {
   "cell_type": "code",
   "execution_count": 46,
   "id": "0c0a3be3",
   "metadata": {},
   "outputs": [
    {
     "data": {
      "text/plain": [
       "dtype('int32')"
      ]
     },
     "execution_count": 46,
     "metadata": {},
     "output_type": "execute_result"
    }
   ],
   "source": [
    "arr2.dtype"
   ]
  },
  {
   "cell_type": "code",
   "execution_count": 49,
   "id": "f46c17e8",
   "metadata": {},
   "outputs": [],
   "source": [
    "arr5=np.array([\"apple\",\"mangoes\",\"cherry\",9.9])"
   ]
  },
  {
   "cell_type": "code",
   "execution_count": 50,
   "id": "b63813bf",
   "metadata": {},
   "outputs": [
    {
     "data": {
      "text/plain": [
       "dtype('<U32')"
      ]
     },
     "execution_count": 50,
     "metadata": {},
     "output_type": "execute_result"
    }
   ],
   "source": [
    "arr5.dtype"
   ]
  },
  {
   "cell_type": "code",
   "execution_count": 51,
   "id": "0cfe03e8",
   "metadata": {},
   "outputs": [
    {
     "data": {
      "text/plain": [
       "array(['apple', 'mangoes', 'cherry', '9.9'], dtype='<U32')"
      ]
     },
     "execution_count": 51,
     "metadata": {},
     "output_type": "execute_result"
    }
   ],
   "source": [
    "arr5"
   ]
  },
  {
   "cell_type": "code",
   "execution_count": 53,
   "id": "04263281",
   "metadata": {},
   "outputs": [],
   "source": [
    "arr2=np.array([[1,2,3],[3,4,5],[6,7,8]],dtype='int64')"
   ]
  },
  {
   "cell_type": "code",
   "execution_count": 54,
   "id": "46956a34",
   "metadata": {},
   "outputs": [
    {
     "data": {
      "text/plain": [
       "dtype('int64')"
      ]
     },
     "execution_count": 54,
     "metadata": {},
     "output_type": "execute_result"
    }
   ],
   "source": [
    "arr2.dtype"
   ]
  },
  {
   "cell_type": "raw",
   "id": "9b9b59f7",
   "metadata": {},
   "source": [
    "arr2=np.array([[1,2,3],[3,4,5],[6,7,8]],dtype='int16')"
   ]
  },
  {
   "cell_type": "code",
   "execution_count": 56,
   "id": "945a6172",
   "metadata": {},
   "outputs": [
    {
     "data": {
      "text/plain": [
       "dtype('int16')"
      ]
     },
     "execution_count": 56,
     "metadata": {},
     "output_type": "execute_result"
    }
   ],
   "source": [
    "arr2.dtype #--> space allocate to array  "
   ]
  },
  {
   "cell_type": "markdown",
   "id": "e6f8ed0d",
   "metadata": {},
   "source": [
    "# size - total number of the element in an array"
   ]
  },
  {
   "cell_type": "code",
   "execution_count": 57,
   "id": "5201e793",
   "metadata": {},
   "outputs": [
    {
     "data": {
      "text/plain": [
       "9"
      ]
     },
     "execution_count": 57,
     "metadata": {},
     "output_type": "execute_result"
    }
   ],
   "source": [
    "arr2.size"
   ]
  },
  {
   "cell_type": "code",
   "execution_count": 58,
   "id": "679129c8",
   "metadata": {},
   "outputs": [
    {
     "data": {
      "text/plain": [
       "array([[1, 2, 3],\n",
       "       [3, 4, 5],\n",
       "       [6, 7, 8]], dtype=int16)"
      ]
     },
     "execution_count": 58,
     "metadata": {},
     "output_type": "execute_result"
    }
   ],
   "source": [
    "arr2"
   ]
  },
  {
   "cell_type": "markdown",
   "id": "d9ac23b3",
   "metadata": {},
   "source": [
    "# --syntax    np.size(ndarraym,1(row),0(column))   #--> it uses this concept in index slicing "
   ]
  },
  {
   "cell_type": "code",
   "execution_count": 59,
   "id": "85084591",
   "metadata": {},
   "outputs": [
    {
     "data": {
      "text/plain": [
       "3"
      ]
     },
     "execution_count": 59,
     "metadata": {},
     "output_type": "execute_result"
    }
   ],
   "source": [
    "np.size(arr2,0)     #-->it specify the no. of elements in columns"
   ]
  },
  {
   "cell_type": "code",
   "execution_count": 60,
   "id": "a2f1fbac",
   "metadata": {},
   "outputs": [
    {
     "data": {
      "text/plain": [
       "3"
      ]
     },
     "execution_count": 60,
     "metadata": {},
     "output_type": "execute_result"
    }
   ],
   "source": [
    "np.size(arr2,1)   ##-->it specify the no. of elements in rows"
   ]
  },
  {
   "cell_type": "markdown",
   "id": "720f3faa",
   "metadata": {},
   "source": [
    "# itemsize  -it tells us about the length of the single element of array in bytes"
   ]
  },
  {
   "cell_type": "code",
   "execution_count": 63,
   "id": "0a1aa97c",
   "metadata": {},
   "outputs": [
    {
     "data": {
      "text/plain": [
       "2"
      ]
     },
     "execution_count": 63,
     "metadata": {},
     "output_type": "execute_result"
    }
   ],
   "source": [
    "arr2.itemsize   # --> \"2\" bytes given the each of the element in array [1,2,3],[3,4,5],[6,7,8]"
   ]
  },
  {
   "cell_type": "markdown",
   "id": "587af386",
   "metadata": {},
   "source": [
    "# nbytes  -total bytes occupied by array 's elements "
   ]
  },
  {
   "cell_type": "code",
   "execution_count": 64,
   "id": "b1e39785",
   "metadata": {},
   "outputs": [
    {
     "data": {
      "text/plain": [
       "18"
      ]
     },
     "execution_count": 64,
     "metadata": {},
     "output_type": "execute_result"
    }
   ],
   "source": [
    "arr2.nbytes"
   ]
  },
  {
   "cell_type": "code",
   "execution_count": 3,
   "id": "be1d54a4",
   "metadata": {},
   "outputs": [],
   "source": [
    "arr2=np.array([['1',2,3],[3,4,5],[6,7,8]])  #--> # --> \"2\" bytes given the each of the element in array"
   ]
  },
  {
   "cell_type": "code",
   "execution_count": 4,
   "id": "a0d8c7e7",
   "metadata": {},
   "outputs": [
    {
     "data": {
      "text/plain": [
       "44"
      ]
     },
     "execution_count": 4,
     "metadata": {},
     "output_type": "execute_result"
    }
   ],
   "source": [
    "arr2.itemsize"
   ]
  },
  {
   "cell_type": "code",
   "execution_count": 67,
   "id": "fb99b45a",
   "metadata": {},
   "outputs": [
    {
     "data": {
      "text/plain": [
       "396"
      ]
     },
     "execution_count": 67,
     "metadata": {},
     "output_type": "execute_result"
    }
   ],
   "source": [
    "arr2.nbytes"
   ]
  }
 ],
 "metadata": {
  "kernelspec": {
   "display_name": "Python 3 (ipykernel)",
   "language": "python",
   "name": "python3"
  },
  "language_info": {
   "codemirror_mode": {
    "name": "ipython",
    "version": 3
   },
   "file_extension": ".py",
   "mimetype": "text/x-python",
   "name": "python",
   "nbconvert_exporter": "python",
   "pygments_lexer": "ipython3",
   "version": "3.11.5"
  }
 },
 "nbformat": 4,
 "nbformat_minor": 5
}
