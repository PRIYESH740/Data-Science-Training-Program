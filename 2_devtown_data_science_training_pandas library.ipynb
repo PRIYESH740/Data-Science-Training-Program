{
 "cells": [
  {
   "cell_type": "markdown",
   "id": "3525e74c",
   "metadata": {},
   "source": [
    "data analysis - data cleaning ,data maniputing ,how man value,to manage missing value,changing datatype"
   ]
  },
  {
   "cell_type": "markdown",
   "id": "0abc3948",
   "metadata": {},
   "source": [
    "# pandas"
   ]
  },
  {
   "cell_type": "markdown",
   "id": "7eb08268",
   "metadata": {},
   "source": [
    "It is a python libray that is used while you are working with the datasets.it is also known as data manipulation tool."
   ]
  },
  {
   "cell_type": "markdown",
   "id": "0fbc1acc",
   "metadata": {},
   "source": [
    "property of pandas\n",
    "It has some function \n",
    "1.Analyze\n",
    "2.cleaning\n",
    "3.Explore\n",
    "4.Manipulation"
   ]
  },
  {
   "cell_type": "markdown",
   "id": "e8a8a960",
   "metadata": {},
   "source": [
    "why pandas?\n",
    "It allows us "
   ]
  },
  {
   "cell_type": "code",
   "execution_count": 1,
   "id": "81d00fee",
   "metadata": {},
   "outputs": [],
   "source": [
    "import pandas as pd "
   ]
  },
  {
   "cell_type": "code",
   "execution_count": 2,
   "id": "07d121bb",
   "metadata": {},
   "outputs": [
    {
     "data": {
      "text/plain": [
       "'2.0.3'"
      ]
     },
     "execution_count": 2,
     "metadata": {},
     "output_type": "execute_result"
    }
   ],
   "source": [
    "pd.__version__   # 2.2.3"
   ]
  },
  {
   "cell_type": "code",
   "execution_count": 3,
   "id": "40bc4b7b",
   "metadata": {},
   "outputs": [],
   "source": [
    "import numpy as np\n"
   ]
  },
  {
   "cell_type": "code",
   "execution_count": 4,
   "id": "7bfb5b68",
   "metadata": {},
   "outputs": [],
   "source": [
    "a=np.array([1,2,3,4])"
   ]
  },
  {
   "cell_type": "code",
   "execution_count": 7,
   "id": "de0c11a0",
   "metadata": {},
   "outputs": [
    {
     "data": {
      "text/plain": [
       "(4,)"
      ]
     },
     "execution_count": 7,
     "metadata": {},
     "output_type": "execute_result"
    }
   ],
   "source": [
    "a.shape  # this is column"
   ]
  },
  {
   "cell_type": "markdown",
   "id": "bb1a0978",
   "metadata": {},
   "source": [
    "there are three data structure "
   ]
  },
  {
   "cell_type": "markdown",
   "id": "0455faac",
   "metadata": {},
   "source": [
    "1. series,2.dataframe, 3.panel"
   ]
  },
  {
   "cell_type": "code",
   "execution_count": 9,
   "id": "bcba94d1",
   "metadata": {},
   "outputs": [],
   "source": [
    "#series  property\n",
    "#1. It is a 1D array likes DS\n",
    "#[1,2,3,4,5,6] -> known as column "
   ]
  },
  {
   "cell_type": "code",
   "execution_count": 10,
   "id": "de63f75e",
   "metadata": {},
   "outputs": [],
   "source": [
    "#syntax : pd.series(data,index,dtype)"
   ]
  },
  {
   "cell_type": "code",
   "execution_count": 11,
   "id": "653bed3e",
   "metadata": {},
   "outputs": [],
   "source": [
    "# you can create a series by using various input datas such as\n",
    "#1 Array\n",
    "#2. Dict\n",
    "#3. Scalar value"
   ]
  },
  {
   "cell_type": "code",
   "execution_count": 13,
   "id": "bfd5c1fc",
   "metadata": {},
   "outputs": [],
   "source": [
    "s=pd.Series()"
   ]
  },
  {
   "cell_type": "code",
   "execution_count": 14,
   "id": "82f3f879",
   "metadata": {},
   "outputs": [
    {
     "data": {
      "text/plain": [
       "Series([], dtype: object)"
      ]
     },
     "execution_count": 14,
     "metadata": {},
     "output_type": "execute_result"
    }
   ],
   "source": [
    "s"
   ]
  },
  {
   "cell_type": "code",
   "execution_count": 15,
   "id": "3c7d57f5",
   "metadata": {},
   "outputs": [],
   "source": [
    "#creating a series using Numpy array\n",
    "data=np.array([12,45,32,89])\n",
    "s=pd.Series(data)"
   ]
  },
  {
   "cell_type": "code",
   "execution_count": 16,
   "id": "e497393e",
   "metadata": {},
   "outputs": [
    {
     "data": {
      "text/plain": [
       "0    12\n",
       "1    45\n",
       "2    32\n",
       "3    89\n",
       "dtype: int32"
      ]
     },
     "execution_count": 16,
     "metadata": {},
     "output_type": "execute_result"
    }
   ],
   "source": [
    "s"
   ]
  },
  {
   "cell_type": "code",
   "execution_count": 17,
   "id": "4a197c88",
   "metadata": {},
   "outputs": [],
   "source": [
    "data=np.array([12,45,32,89])\n",
    "s=pd.Series(data,index=[101,102,103,104])"
   ]
  },
  {
   "cell_type": "code",
   "execution_count": 18,
   "id": "18e95025",
   "metadata": {},
   "outputs": [
    {
     "data": {
      "text/plain": [
       "101    12\n",
       "102    45\n",
       "103    32\n",
       "104    89\n",
       "dtype: int32"
      ]
     },
     "execution_count": 18,
     "metadata": {},
     "output_type": "execute_result"
    }
   ],
   "source": [
    "s"
   ]
  },
  {
   "cell_type": "markdown",
   "id": "f35aec29",
   "metadata": {},
   "source": [
    "creating a series using dictionary "
   ]
  },
  {
   "cell_type": "code",
   "execution_count": 20,
   "id": "c8b1f01f",
   "metadata": {},
   "outputs": [],
   "source": [
    "data={'a':10,'b':40,'c':90,'d':95}\n",
    "s=pd.Series(data)"
   ]
  },
  {
   "cell_type": "code",
   "execution_count": 21,
   "id": "3133db06",
   "metadata": {},
   "outputs": [
    {
     "data": {
      "text/plain": [
       "a    10\n",
       "b    40\n",
       "c    90\n",
       "d    95\n",
       "dtype: int64"
      ]
     },
     "execution_count": 21,
     "metadata": {},
     "output_type": "execute_result"
    }
   ],
   "source": [
    "s"
   ]
  },
  {
   "cell_type": "code",
   "execution_count": 22,
   "id": "061c6536",
   "metadata": {},
   "outputs": [],
   "source": [
    "data={'a':10,'b':40,'c':90,'d':95}\n",
    "s=pd.Series(data,index=['f','z','h','m'])"
   ]
  },
  {
   "cell_type": "code",
   "execution_count": 23,
   "id": "bcccfdcc",
   "metadata": {},
   "outputs": [
    {
     "data": {
      "text/plain": [
       "f   NaN\n",
       "z   NaN\n",
       "h   NaN\n",
       "m   NaN\n",
       "dtype: float64"
      ]
     },
     "execution_count": 23,
     "metadata": {},
     "output_type": "execute_result"
    }
   ],
   "source": [
    "s"
   ]
  },
  {
   "cell_type": "code",
   "execution_count": 24,
   "id": "1d7989ea",
   "metadata": {},
   "outputs": [],
   "source": [
    "data={'a':10,'b':40,'c':90,'d':95}\n",
    "s=pd.Series(data,index=['c','d','e','b','a'])"
   ]
  },
  {
   "cell_type": "code",
   "execution_count": 25,
   "id": "e4f225a3",
   "metadata": {},
   "outputs": [
    {
     "data": {
      "text/plain": [
       "c    90.0\n",
       "d    95.0\n",
       "e     NaN\n",
       "b    40.0\n",
       "a    10.0\n",
       "dtype: float64"
      ]
     },
     "execution_count": 25,
     "metadata": {},
     "output_type": "execute_result"
    }
   ],
   "source": [
    "s"
   ]
  },
  {
   "cell_type": "markdown",
   "id": "8ae3783f",
   "metadata": {},
   "source": [
    "Creating a series using the scalar value"
   ]
  },
  {
   "cell_type": "code",
   "execution_count": 27,
   "id": "8ae9a7ca",
   "metadata": {},
   "outputs": [],
   "source": [
    "data=99\n",
    "s=pd.Series(data,index=[101,102,103,104])"
   ]
  },
  {
   "cell_type": "markdown",
   "id": "1c5e4059",
   "metadata": {},
   "source": [
    "s"
   ]
  },
  {
   "cell_type": "markdown",
   "id": "d8fc2c60",
   "metadata": {},
   "source": [
    "u- updation "
   ]
  },
  {
   "cell_type": "markdown",
   "id": "ba31a2dc",
   "metadata": {},
   "source": [
    "1. Accessing the data  from the pandas series DS"
   ]
  },
  {
   "cell_type": "code",
   "execution_count": 31,
   "id": "c4ff09a7",
   "metadata": {
    "scrolled": true
   },
   "outputs": [],
   "source": [
    "data=np.array([12,45,32,89,7,-10,21,-0.5,-7,30])\n",
    "s=pd.Series(data)"
   ]
  },
  {
   "cell_type": "code",
   "execution_count": 32,
   "id": "df378405",
   "metadata": {},
   "outputs": [
    {
     "data": {
      "text/plain": [
       "0    12.0\n",
       "1    45.0\n",
       "2    32.0\n",
       "3    89.0\n",
       "4     7.0\n",
       "5   -10.0\n",
       "6    21.0\n",
       "7    -0.5\n",
       "8    -7.0\n",
       "9    30.0\n",
       "dtype: float64"
      ]
     },
     "execution_count": 32,
     "metadata": {},
     "output_type": "execute_result"
    }
   ],
   "source": [
    "s"
   ]
  },
  {
   "cell_type": "code",
   "execution_count": 33,
   "id": "c6103f30",
   "metadata": {},
   "outputs": [
    {
     "data": {
      "text/plain": [
       "7.0"
      ]
     },
     "execution_count": 33,
     "metadata": {},
     "output_type": "execute_result"
    }
   ],
   "source": [
    "s[4]"
   ]
  },
  {
   "cell_type": "code",
   "execution_count": 35,
   "id": "037d4626",
   "metadata": {},
   "outputs": [
    {
     "data": {
      "text/plain": [
       "0    12.0\n",
       "1    45.0\n",
       "2    32.0\n",
       "dtype: float64"
      ]
     },
     "execution_count": 35,
     "metadata": {},
     "output_type": "execute_result"
    }
   ],
   "source": [
    "s[:3]"
   ]
  },
  {
   "cell_type": "code",
   "execution_count": 36,
   "id": "c115da58",
   "metadata": {},
   "outputs": [
    {
     "data": {
      "text/plain": [
       "0    12.0\n",
       "1    45.0\n",
       "2    32.0\n",
       "3    89.0\n",
       "4     7.0\n",
       "5   -10.0\n",
       "6    21.0\n",
       "7    -0.5\n",
       "8    -7.0\n",
       "9    30.0\n",
       "dtype: float64"
      ]
     },
     "execution_count": 36,
     "metadata": {},
     "output_type": "execute_result"
    }
   ],
   "source": [
    "s[0:]"
   ]
  },
  {
   "cell_type": "code",
   "execution_count": 38,
   "id": "9a11baba",
   "metadata": {},
   "outputs": [
    {
     "data": {
      "text/plain": [
       "7    -0.5\n",
       "8    -7.0\n",
       "9    30.0\n",
       "dtype: float64"
      ]
     },
     "execution_count": 38,
     "metadata": {},
     "output_type": "execute_result"
    }
   ],
   "source": [
    "s[7:]"
   ]
  },
  {
   "cell_type": "code",
   "execution_count": 39,
   "id": "6676af59",
   "metadata": {},
   "outputs": [
    {
     "data": {
      "text/plain": [
       "7    -0.5\n",
       "8    -7.0\n",
       "9    30.0\n",
       "dtype: float64"
      ]
     },
     "execution_count": 39,
     "metadata": {},
     "output_type": "execute_result"
    }
   ],
   "source": [
    "s[-3:]"
   ]
  },
  {
   "cell_type": "code",
   "execution_count": 5,
   "id": "a702223a",
   "metadata": {},
   "outputs": [],
   "source": [
    "data={'a':10,'b':40,'c':90,'d':95}\n",
    "s=pd.Series(data,index=['c','d','e','b','a'])"
   ]
  },
  {
   "cell_type": "code",
   "execution_count": 6,
   "id": "5d5f3daa",
   "metadata": {},
   "outputs": [
    {
     "data": {
      "text/plain": [
       "d    95.0\n",
       "e     NaN\n",
       "b    40.0\n",
       "dtype: float64"
      ]
     },
     "execution_count": 6,
     "metadata": {},
     "output_type": "execute_result"
    }
   ],
   "source": [
    "s['d':'b']   #end index is inclusive"
   ]
  },
  {
   "cell_type": "code",
   "execution_count": 7,
   "id": "10b38a2a",
   "metadata": {},
   "outputs": [
    {
     "data": {
      "text/plain": [
       "c    90.0\n",
       "b    40.0\n",
       "dtype: float64"
      ]
     },
     "execution_count": 7,
     "metadata": {},
     "output_type": "execute_result"
    }
   ],
   "source": [
    "s[['c','b']]  # multiple indexing is occur "
   ]
  },
  {
   "cell_type": "code",
   "execution_count": 8,
   "id": "10694e26",
   "metadata": {},
   "outputs": [],
   "source": [
    "s['e']=85.5"
   ]
  },
  {
   "cell_type": "code",
   "execution_count": 9,
   "id": "0b4192bf",
   "metadata": {},
   "outputs": [
    {
     "data": {
      "text/plain": [
       "c    90.0\n",
       "d    95.0\n",
       "e    85.5\n",
       "b    40.0\n",
       "a    10.0\n",
       "dtype: float64"
      ]
     },
     "execution_count": 9,
     "metadata": {},
     "output_type": "execute_result"
    }
   ],
   "source": [
    "s"
   ]
  },
  {
   "cell_type": "markdown",
   "id": "8ed9054b",
   "metadata": {},
   "source": [
    "Boolean masking 0-False, 1-True"
   ]
  },
  {
   "cell_type": "code",
   "execution_count": 10,
   "id": "ec2fed4e",
   "metadata": {},
   "outputs": [
    {
     "data": {
      "text/plain": [
       "c     True\n",
       "d     True\n",
       "e     True\n",
       "b    False\n",
       "a    False\n",
       "dtype: bool"
      ]
     },
     "execution_count": 10,
     "metadata": {},
     "output_type": "execute_result"
    }
   ],
   "source": [
    "s>50"
   ]
  },
  {
   "cell_type": "code",
   "execution_count": 11,
   "id": "e5233015",
   "metadata": {},
   "outputs": [
    {
     "data": {
      "text/plain": [
       "c    90.0\n",
       "d    95.0\n",
       "e    85.5\n",
       "dtype: float64"
      ]
     },
     "execution_count": 11,
     "metadata": {},
     "output_type": "execute_result"
    }
   ],
   "source": [
    "s[s>50]\n",
    "    "
   ]
  },
  {
   "cell_type": "code",
   "execution_count": 17,
   "id": "0158e4ad",
   "metadata": {},
   "outputs": [
    {
     "data": {
      "text/plain": [
       "d    95.0\n",
       "a    10.0\n",
       "dtype: float64"
      ]
     },
     "execution_count": 17,
     "metadata": {},
     "output_type": "execute_result"
    }
   ],
   "source": [
    "s[(s>90) | (s==10)]"
   ]
  },
  {
   "cell_type": "code",
   "execution_count": 67,
   "id": "991546b7",
   "metadata": {},
   "outputs": [
    {
     "data": {
      "text/plain": [
       "(5,)"
      ]
     },
     "execution_count": 67,
     "metadata": {},
     "output_type": "execute_result"
    }
   ],
   "source": [
    "s.shape"
   ]
  },
  {
   "cell_type": "code",
   "execution_count": 68,
   "id": "b84d71ff",
   "metadata": {},
   "outputs": [],
   "source": [
    "#NaN->empty  0 "
   ]
  },
  {
   "cell_type": "code",
   "execution_count": 69,
   "id": "f439777c",
   "metadata": {},
   "outputs": [
    {
     "data": {
      "text/plain": [
       "1"
      ]
     },
     "execution_count": 69,
     "metadata": {},
     "output_type": "execute_result"
    }
   ],
   "source": [
    "s.ndim"
   ]
  },
  {
   "cell_type": "code",
   "execution_count": 70,
   "id": "c414c6ae",
   "metadata": {},
   "outputs": [
    {
     "data": {
      "text/plain": [
       "5"
      ]
     },
     "execution_count": 70,
     "metadata": {},
     "output_type": "execute_result"
    }
   ],
   "source": [
    "s.size"
   ]
  },
  {
   "cell_type": "code",
   "execution_count": 71,
   "id": "aa16eb35",
   "metadata": {},
   "outputs": [
    {
     "data": {
      "text/plain": [
       "Index(['c', 'd', 'e', 'b', 'a'], dtype='object')"
      ]
     },
     "execution_count": 71,
     "metadata": {},
     "output_type": "execute_result"
    }
   ],
   "source": [
    "s.index"
   ]
  },
  {
   "cell_type": "code",
   "execution_count": 72,
   "id": "5c7aa6e1",
   "metadata": {},
   "outputs": [
    {
     "data": {
      "text/plain": [
       "array([90. , 95. , 85.5, 40. , 10. ])"
      ]
     },
     "execution_count": 72,
     "metadata": {},
     "output_type": "execute_result"
    }
   ],
   "source": [
    "s.values\n",
    "#Decimal-3\n",
    "#float - 5.6"
   ]
  },
  {
   "cell_type": "code",
   "execution_count": 76,
   "id": "96feb0bc",
   "metadata": {},
   "outputs": [
    {
     "data": {
      "text/plain": [
       "True"
      ]
     },
     "execution_count": 76,
     "metadata": {},
     "output_type": "execute_result"
    }
   ],
   "source": [
    "'a' in s"
   ]
  },
  {
   "cell_type": "markdown",
   "id": "eca4fd0e",
   "metadata": {},
   "source": [
    "Deletion"
   ]
  },
  {
   "cell_type": "code",
   "execution_count": 77,
   "id": "a30f56bf",
   "metadata": {},
   "outputs": [
    {
     "data": {
      "text/plain": [
       "c    90.0\n",
       "d    95.0\n",
       "e    85.5\n",
       "b    40.0\n",
       "dtype: float64"
      ]
     },
     "execution_count": 77,
     "metadata": {},
     "output_type": "execute_result"
    }
   ],
   "source": [
    "s.drop('a')  #tempory  delete drop function is taken from pandas"
   ]
  },
  {
   "cell_type": "code",
   "execution_count": 78,
   "id": "d4b0dea9",
   "metadata": {},
   "outputs": [
    {
     "data": {
      "text/plain": [
       "c    90.0\n",
       "d    95.0\n",
       "e    85.5\n",
       "b    40.0\n",
       "a    10.0\n",
       "dtype: float64"
      ]
     },
     "execution_count": 78,
     "metadata": {},
     "output_type": "execute_result"
    }
   ],
   "source": [
    "s"
   ]
  },
  {
   "cell_type": "code",
   "execution_count": 79,
   "id": "ea243600",
   "metadata": {},
   "outputs": [],
   "source": [
    "s.drop('a',inplace=True)"
   ]
  },
  {
   "cell_type": "code",
   "execution_count": 80,
   "id": "5db15b99",
   "metadata": {},
   "outputs": [
    {
     "data": {
      "text/plain": [
       "c    90.0\n",
       "d    95.0\n",
       "e    85.5\n",
       "b    40.0\n",
       "dtype: float64"
      ]
     },
     "execution_count": 80,
     "metadata": {},
     "output_type": "execute_result"
    }
   ],
   "source": [
    "s"
   ]
  },
  {
   "cell_type": "code",
   "execution_count": 81,
   "id": "847dc9f9",
   "metadata": {},
   "outputs": [
    {
     "data": {
      "text/plain": [
       "c    90.0\n",
       "b    40.0\n",
       "dtype: float64"
      ]
     },
     "execution_count": 81,
     "metadata": {},
     "output_type": "execute_result"
    }
   ],
   "source": [
    "s.drop(['d','e'])"
   ]
  },
  {
   "cell_type": "code",
   "execution_count": 84,
   "id": "87a5d3e3",
   "metadata": {},
   "outputs": [
    {
     "data": {
      "text/plain": [
       "c    92.0\n",
       "d    97.0\n",
       "e    87.5\n",
       "b    42.0\n",
       "dtype: float64"
      ]
     },
     "execution_count": 84,
     "metadata": {},
     "output_type": "execute_result"
    }
   ],
   "source": [
    "s+2"
   ]
  },
  {
   "cell_type": "code",
   "execution_count": 85,
   "id": "56b958db",
   "metadata": {},
   "outputs": [
    {
     "data": {
      "text/plain": [
       "c    88.0\n",
       "d    93.0\n",
       "e    83.5\n",
       "b    38.0\n",
       "dtype: float64"
      ]
     },
     "execution_count": 85,
     "metadata": {},
     "output_type": "execute_result"
    }
   ],
   "source": [
    "s-2"
   ]
  },
  {
   "cell_type": "code",
   "execution_count": 86,
   "id": "dd4b6033",
   "metadata": {},
   "outputs": [
    {
     "data": {
      "text/plain": [
       "c    180.0\n",
       "d    190.0\n",
       "e    171.0\n",
       "b     80.0\n",
       "dtype: float64"
      ]
     },
     "execution_count": 86,
     "metadata": {},
     "output_type": "execute_result"
    }
   ],
   "source": [
    "s*2"
   ]
  },
  {
   "cell_type": "code",
   "execution_count": 87,
   "id": "7efabd70",
   "metadata": {},
   "outputs": [
    {
     "data": {
      "text/plain": [
       "c    9.00\n",
       "d    9.50\n",
       "e    8.55\n",
       "b    4.00\n",
       "dtype: float64"
      ]
     },
     "execution_count": 87,
     "metadata": {},
     "output_type": "execute_result"
    }
   ],
   "source": [
    "s/10"
   ]
  },
  {
   "cell_type": "code",
   "execution_count": 88,
   "id": "e88b8572",
   "metadata": {},
   "outputs": [
    {
     "data": {
      "text/plain": [
       "c    8100.00\n",
       "d    9025.00\n",
       "e    7310.25\n",
       "b    1600.00\n",
       "dtype: float64"
      ]
     },
     "execution_count": 88,
     "metadata": {},
     "output_type": "execute_result"
    }
   ],
   "source": [
    "np.power(s,2)"
   ]
  },
  {
   "cell_type": "code",
   "execution_count": 89,
   "id": "a153c974",
   "metadata": {},
   "outputs": [
    {
     "data": {
      "text/plain": [
       "c    8100.00\n",
       "d    9025.00\n",
       "e    7310.25\n",
       "b    1600.00\n",
       "dtype: float64"
      ]
     },
     "execution_count": 89,
     "metadata": {},
     "output_type": "execute_result"
    }
   ],
   "source": [
    "s**2"
   ]
  },
  {
   "cell_type": "code",
   "execution_count": 90,
   "id": "bba845fd",
   "metadata": {},
   "outputs": [
    {
     "data": {
      "text/plain": [
       "c    1.220403e+39\n",
       "d    1.811239e+41\n",
       "e    1.355746e+37\n",
       "b    2.353853e+17\n",
       "dtype: float64"
      ]
     },
     "execution_count": 90,
     "metadata": {},
     "output_type": "execute_result"
    }
   ],
   "source": [
    "np.exp(s)"
   ]
  },
  {
   "cell_type": "code",
   "execution_count": 91,
   "id": "e57864b3",
   "metadata": {},
   "outputs": [
    {
     "data": {
      "text/plain": [
       "75.5"
      ]
     },
     "execution_count": 91,
     "metadata": {},
     "output_type": "execute_result"
    }
   ],
   "source": [
    "s['e']-10"
   ]
  },
  {
   "cell_type": "code",
   "execution_count": 92,
   "id": "3a5aeb54",
   "metadata": {},
   "outputs": [
    {
     "data": {
      "text/plain": [
       "c    90.0\n",
       "d    95.0\n",
       "e    85.5\n",
       "b    40.0\n",
       "dtype: float64"
      ]
     },
     "execution_count": 92,
     "metadata": {},
     "output_type": "execute_result"
    }
   ],
   "source": [
    "s"
   ]
  }
 ],
 "metadata": {
  "kernelspec": {
   "display_name": "Python 3 (ipykernel)",
   "language": "python",
   "name": "python3"
  },
  "language_info": {
   "codemirror_mode": {
    "name": "ipython",
    "version": 3
   },
   "file_extension": ".py",
   "mimetype": "text/x-python",
   "name": "python",
   "nbconvert_exporter": "python",
   "pygments_lexer": "ipython3",
   "version": "3.11.5"
  }
 },
 "nbformat": 4,
 "nbformat_minor": 5
}
