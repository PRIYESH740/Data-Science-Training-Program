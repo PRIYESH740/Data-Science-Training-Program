{
 "cells": [
  {
   "cell_type": "code",
   "execution_count": 3,
   "id": "61b6d2a8",
   "metadata": {},
   "outputs": [],
   "source": [
    "import re "
   ]
  },
  {
   "cell_type": "code",
   "execution_count": 4,
   "id": "7f00aef9",
   "metadata": {},
   "outputs": [],
   "source": [
    "stri='''I was occupied on sunday and after I' ve got free,\n",
    "friend and his number was 111-9876543210 & 103-9999999999'''"
   ]
  },
  {
   "cell_type": "code",
   "execution_count": 5,
   "id": "0d4d0341",
   "metadata": {},
   "outputs": [],
   "source": [
    "number=re.findall('111-9876543210',stri)"
   ]
  },
  {
   "cell_type": "code",
   "execution_count": 4,
   "id": "24ae0359",
   "metadata": {},
   "outputs": [
    {
     "data": {
      "text/plain": [
       "['111-9876543210']"
      ]
     },
     "execution_count": 4,
     "metadata": {},
     "output_type": "execute_result"
    }
   ],
   "source": [
    "number"
   ]
  },
  {
   "cell_type": "code",
   "execution_count": 9,
   "id": "87202ba8",
   "metadata": {},
   "outputs": [],
   "source": [
    "number=re.findall('\\d',stri)"
   ]
  },
  {
   "cell_type": "code",
   "execution_count": 10,
   "id": "cb165aea",
   "metadata": {},
   "outputs": [
    {
     "data": {
      "text/plain": [
       "['1', '1', '1', '9', '8', '7', '6', '5', '4', '3', '2', '1', '0']"
      ]
     },
     "execution_count": 10,
     "metadata": {},
     "output_type": "execute_result"
    }
   ],
   "source": [
    "number"
   ]
  },
  {
   "cell_type": "code",
   "execution_count": 11,
   "id": "a68ca351",
   "metadata": {},
   "outputs": [],
   "source": [
    "number=re.findall('\\d+',stri)"
   ]
  },
  {
   "cell_type": "code",
   "execution_count": 12,
   "id": "a6f75b3e",
   "metadata": {},
   "outputs": [
    {
     "data": {
      "text/plain": [
       "['111', '9876543210']"
      ]
     },
     "execution_count": 12,
     "metadata": {},
     "output_type": "execute_result"
    }
   ],
   "source": [
    "number"
   ]
  },
  {
   "cell_type": "code",
   "execution_count": 6,
   "id": "556f4cf5",
   "metadata": {},
   "outputs": [],
   "source": [
    "number=re.findall('\\d{3}-\\d{10}',stri)"
   ]
  },
  {
   "cell_type": "code",
   "execution_count": 7,
   "id": "f4da98c4",
   "metadata": {},
   "outputs": [
    {
     "data": {
      "text/plain": [
       "['111-9876543210', '103-9999999999']"
      ]
     },
     "execution_count": 7,
     "metadata": {},
     "output_type": "execute_result"
    }
   ],
   "source": [
    "number"
   ]
  },
  {
   "cell_type": "code",
   "execution_count": 8,
   "id": "2db0aea5",
   "metadata": {},
   "outputs": [],
   "source": [
    "number=re.findall('\\d{3}-\\d+',stri)"
   ]
  },
  {
   "cell_type": "code",
   "execution_count": 19,
   "id": "b42d2b2a",
   "metadata": {},
   "outputs": [
    {
     "data": {
      "text/plain": [
       "['111-9876543210', '103-9999999999']"
      ]
     },
     "execution_count": 19,
     "metadata": {},
     "output_type": "execute_result"
    }
   ],
   "source": [
    "number"
   ]
  },
  {
   "cell_type": "markdown",
   "id": "62d370e3",
   "metadata": {},
   "source": [
    "Futher concepts"
   ]
  },
  {
   "cell_type": "code",
   "execution_count": 9,
   "id": "15c2d9f4",
   "metadata": {},
   "outputs": [],
   "source": [
    "stri=\"on Monday, there will be a chance for havey rainfall\""
   ]
  },
  {
   "cell_type": "code",
   "execution_count": 12,
   "id": "6e1e0c9d",
   "metadata": {},
   "outputs": [
    {
     "name": "stdout",
     "output_type": "stream",
     "text": [
      "matched\n"
     ]
    }
   ],
   "source": [
    "strin=re.search('^on',stri)\n",
    "if strin:\n",
    "    print(\"matched\")\n",
    "else:\n",
    "    print(\"not matched\")\n",
    "# ^on "
   ]
  },
  {
   "cell_type": "markdown",
   "id": "194974a8",
   "metadata": {},
   "source": [
    "match"
   ]
  },
  {
   "cell_type": "code",
   "execution_count": 29,
   "id": "8ac213c8",
   "metadata": {},
   "outputs": [],
   "source": [
    "stri=\"Dog is a pet animal Duck and Dob\""
   ]
  },
  {
   "cell_type": "code",
   "execution_count": 18,
   "id": "f896e66b",
   "metadata": {},
   "outputs": [],
   "source": [
    "mat=re.match('D\\w{2}',stri)\n",
    "mat1=re.match('D\\w\\w',stri)"
   ]
  },
  {
   "cell_type": "code",
   "execution_count": 16,
   "id": "579e3820",
   "metadata": {},
   "outputs": [
    {
     "data": {
      "text/plain": [
       "<re.Match object; span=(0, 3), match='Dog'>"
      ]
     },
     "execution_count": 16,
     "metadata": {},
     "output_type": "execute_result"
    }
   ],
   "source": [
    "mat"
   ]
  },
  {
   "cell_type": "code",
   "execution_count": 19,
   "id": "a5c8abd1",
   "metadata": {},
   "outputs": [
    {
     "data": {
      "text/plain": [
       "<re.Match object; span=(0, 3), match='Dog'>"
      ]
     },
     "execution_count": 19,
     "metadata": {},
     "output_type": "execute_result"
    }
   ],
   "source": [
    "mat1"
   ]
  },
  {
   "cell_type": "code",
   "execution_count": 20,
   "id": "e7599e22",
   "metadata": {},
   "outputs": [
    {
     "data": {
      "text/plain": [
       "'Dog'"
      ]
     },
     "execution_count": 20,
     "metadata": {},
     "output_type": "execute_result"
    }
   ],
   "source": [
    "mat.group()"
   ]
  },
  {
   "cell_type": "code",
   "execution_count": 30,
   "id": "9511ef84",
   "metadata": {},
   "outputs": [],
   "source": [
    "mat1=re.match('D\\w\\w',stri)"
   ]
  },
  {
   "cell_type": "code",
   "execution_count": 31,
   "id": "fc43aa5d",
   "metadata": {},
   "outputs": [
    {
     "data": {
      "text/plain": [
       "'Dog'"
      ]
     },
     "execution_count": 31,
     "metadata": {},
     "output_type": "execute_result"
    }
   ],
   "source": [
    "mat1.group()"
   ]
  },
  {
   "cell_type": "code",
   "execution_count": 32,
   "id": "c5fcddd6",
   "metadata": {},
   "outputs": [],
   "source": [
    "stri=\"on Monday, there will be a chance for havey rainfall\""
   ]
  },
  {
   "cell_type": "code",
   "execution_count": 33,
   "id": "c65e950d",
   "metadata": {},
   "outputs": [],
   "source": [
    "spli=re.split(' ',stri)\n",
    "spli=re.split('\\s',stri)"
   ]
  },
  {
   "cell_type": "code",
   "execution_count": 34,
   "id": "d2909e9f",
   "metadata": {},
   "outputs": [
    {
     "data": {
      "text/plain": [
       "['on',\n",
       " 'Monday,',\n",
       " 'there',\n",
       " 'will',\n",
       " 'be',\n",
       " 'a',\n",
       " 'chance',\n",
       " 'for',\n",
       " 'havey',\n",
       " 'rainfall']"
      ]
     },
     "execution_count": 34,
     "metadata": {},
     "output_type": "execute_result"
    }
   ],
   "source": [
    "spli"
   ]
  },
  {
   "cell_type": "code",
   "execution_count": 35,
   "id": "4e74eff5",
   "metadata": {},
   "outputs": [],
   "source": [
    "spli=re.split(' ',stri,2)    #2 occurance of space "
   ]
  },
  {
   "cell_type": "code",
   "execution_count": 36,
   "id": "63176741",
   "metadata": {},
   "outputs": [
    {
     "data": {
      "text/plain": [
       "['on', 'Monday,', 'there will be a chance for havey rainfall']"
      ]
     },
     "execution_count": 36,
     "metadata": {},
     "output_type": "execute_result"
    }
   ],
   "source": [
    "spli"
   ]
  },
  {
   "cell_type": "code",
   "execution_count": 38,
   "id": "24e47383",
   "metadata": {},
   "outputs": [],
   "source": [
    "day=spli[1]\n",
    "weather=spli[2]"
   ]
  },
  {
   "cell_type": "code",
   "execution_count": 39,
   "id": "2c7f5831",
   "metadata": {},
   "outputs": [
    {
     "data": {
      "text/plain": [
       "'Monday,'"
      ]
     },
     "execution_count": 39,
     "metadata": {},
     "output_type": "execute_result"
    }
   ],
   "source": [
    "day"
   ]
  },
  {
   "cell_type": "code",
   "execution_count": 40,
   "id": "edec185f",
   "metadata": {},
   "outputs": [
    {
     "data": {
      "text/plain": [
       "'there will be a chance for havey rainfall'"
      ]
     },
     "execution_count": 40,
     "metadata": {},
     "output_type": "execute_result"
    }
   ],
   "source": [
    "weather"
   ]
  },
  {
   "cell_type": "markdown",
   "id": "ddd4df8c",
   "metadata": {},
   "source": [
    "sub - replace"
   ]
  },
  {
   "cell_type": "code",
   "execution_count": 41,
   "id": "4685cdc8",
   "metadata": {},
   "outputs": [],
   "source": [
    "stri=\"Football is not a ball of foot\""
   ]
  },
  {
   "cell_type": "code",
   "execution_count": 42,
   "id": "df5236de",
   "metadata": {},
   "outputs": [],
   "source": [
    "rep=re.sub('o','e',stri)"
   ]
  },
  {
   "cell_type": "code",
   "execution_count": 43,
   "id": "deed1d6a",
   "metadata": {},
   "outputs": [
    {
     "data": {
      "text/plain": [
       "'Feetball is net a ball ef feet'"
      ]
     },
     "execution_count": 43,
     "metadata": {},
     "output_type": "execute_result"
    }
   ],
   "source": [
    "rep"
   ]
  },
  {
   "cell_type": "code",
   "execution_count": 44,
   "id": "9fe5a4a7",
   "metadata": {},
   "outputs": [],
   "source": [
    "rep=re.sub('o','e',stri,2)"
   ]
  },
  {
   "cell_type": "code",
   "execution_count": 45,
   "id": "920a16fe",
   "metadata": {},
   "outputs": [
    {
     "data": {
      "text/plain": [
       "'Feetball is not a ball of foot'"
      ]
     },
     "execution_count": 45,
     "metadata": {},
     "output_type": "execute_result"
    }
   ],
   "source": [
    "rep"
   ]
  },
  {
   "cell_type": "markdown",
   "id": "b89402c9",
   "metadata": {},
   "source": [
    "Metacharacters\n",
    "1.[a-b]-> a set of vcharacter"
   ]
  },
  {
   "cell_type": "code",
   "execution_count": 53,
   "id": "9cb3fc42",
   "metadata": {},
   "outputs": [],
   "source": [
    "stri=\"Mumbai is the finaccial capital of india\""
   ]
  },
  {
   "cell_type": "code",
   "execution_count": 47,
   "id": "84609007",
   "metadata": {},
   "outputs": [],
   "source": [
    "asd=re.findall('[b-e]',stri)"
   ]
  },
  {
   "cell_type": "code",
   "execution_count": 48,
   "id": "b1a155bd",
   "metadata": {},
   "outputs": [
    {
     "data": {
      "text/plain": [
       "['b', 'e', 'c', 'c', 'c', 'd']"
      ]
     },
     "execution_count": 48,
     "metadata": {},
     "output_type": "execute_result"
    }
   ],
   "source": [
    "asd"
   ]
  },
  {
   "cell_type": "code",
   "execution_count": 58,
   "id": "9e6fe118",
   "metadata": {},
   "outputs": [],
   "source": [
    "asd=re.findall('india$',stri)"
   ]
  },
  {
   "cell_type": "code",
   "execution_count": 59,
   "id": "f2f76939",
   "metadata": {},
   "outputs": [
    {
     "data": {
      "text/plain": [
       "['india']"
      ]
     },
     "execution_count": 59,
     "metadata": {},
     "output_type": "execute_result"
    }
   ],
   "source": [
    "asd"
   ]
  },
  {
   "cell_type": "markdown",
   "id": "81679e8e",
   "metadata": {},
   "source": [
    "4 .-> match single character except newline"
   ]
  },
  {
   "cell_type": "code",
   "execution_count": 70,
   "id": "d17f0a2e",
   "metadata": {},
   "outputs": [],
   "source": [
    "stri = \"Today is Monday\""
   ]
  },
  {
   "cell_type": "code",
   "execution_count": 71,
   "id": "88c82ad6",
   "metadata": {},
   "outputs": [],
   "source": [
    "asd =re.search('^Today.*Monday$',stri)"
   ]
  },
  {
   "cell_type": "code",
   "execution_count": 72,
   "id": "98914e4e",
   "metadata": {},
   "outputs": [
    {
     "data": {
      "text/plain": [
       "<re.Match object; span=(0, 15), match='Today is Monday'>"
      ]
     },
     "execution_count": 72,
     "metadata": {},
     "output_type": "execute_result"
    }
   ],
   "source": [
    "asd"
   ]
  },
  {
   "cell_type": "code",
   "execution_count": 62,
   "id": "55bd6c05",
   "metadata": {},
   "outputs": [],
   "source": [
    "stri=\"Delhi is in india and inside globe\""
   ]
  },
  {
   "cell_type": "code",
   "execution_count": 63,
   "id": "e3f9006d",
   "metadata": {},
   "outputs": [],
   "source": [
    "strin=re.findall('in',stri)"
   ]
  },
  {
   "cell_type": "code",
   "execution_count": 65,
   "id": "8c1ea14a",
   "metadata": {},
   "outputs": [
    {
     "data": {
      "text/plain": [
       "['in', 'in', 'in']"
      ]
     },
     "execution_count": 65,
     "metadata": {},
     "output_type": "execute_result"
    }
   ],
   "source": [
    "strin"
   ]
  },
  {
   "cell_type": "code",
   "execution_count": 66,
   "id": "06efb976",
   "metadata": {},
   "outputs": [],
   "source": [
    "strin=re.findall('in*',stri)"
   ]
  },
  {
   "cell_type": "code",
   "execution_count": 67,
   "id": "3d6cc1ae",
   "metadata": {},
   "outputs": [
    {
     "data": {
      "text/plain": [
       "['i', 'i', 'in', 'in', 'i', 'in', 'i']"
      ]
     },
     "execution_count": 67,
     "metadata": {},
     "output_type": "execute_result"
    }
   ],
   "source": [
    "strin"
   ]
  },
  {
   "cell_type": "code",
   "execution_count": 68,
   "id": "fcd19033",
   "metadata": {},
   "outputs": [],
   "source": [
    "strin=re.findall('in+',stri)"
   ]
  },
  {
   "cell_type": "code",
   "execution_count": 69,
   "id": "52ef14ef",
   "metadata": {},
   "outputs": [
    {
     "data": {
      "text/plain": [
       "['in', 'in', 'in']"
      ]
     },
     "execution_count": 69,
     "metadata": {},
     "output_type": "execute_result"
    }
   ],
   "source": [
    "strin"
   ]
  },
  {
   "cell_type": "code",
   "execution_count": null,
   "id": "8448fa45",
   "metadata": {},
   "outputs": [],
   "source": [
    "#Quiz\n",
    "user -> email (input)\n",
    "valid ->len(100) _________@______.(10).__(3)"
   ]
  },
  {
   "cell_type": "code",
   "execution_count": 80,
   "id": "b07e564a",
   "metadata": {},
   "outputs": [
    {
     "name": "stdout",
     "output_type": "stream",
     "text": [
      "Enter Email: abc12334@gmail.com\n",
      "valid\n"
     ]
    }
   ],
   "source": [
    "inp=input(\"Enter Email: \")\n",
    "if len(inp)<=100:\n",
    "    vali=re.findall('[\\w]+@[a-z]+.[\\w]+',inp)\n",
    "    if vali:\n",
    "        print(\"valid\")\n",
    "    else:\n",
    "        print(\"invalid\")"
   ]
  },
  {
   "cell_type": "code",
   "execution_count": null,
   "id": "c92abc77",
   "metadata": {},
   "outputs": [],
   "source": []
  },
  {
   "cell_type": "code",
   "execution_count": null,
   "id": "449e7d9a",
   "metadata": {},
   "outputs": [],
   "source": []
  }
 ],
 "metadata": {
  "kernelspec": {
   "display_name": "Python 3 (ipykernel)",
   "language": "python",
   "name": "python3"
  },
  "language_info": {
   "codemirror_mode": {
    "name": "ipython",
    "version": 3
   },
   "file_extension": ".py",
   "mimetype": "text/x-python",
   "name": "python",
   "nbconvert_exporter": "python",
   "pygments_lexer": "ipython3",
   "version": "3.11.5"
  }
 },
 "nbformat": 4,
 "nbformat_minor": 5
}
