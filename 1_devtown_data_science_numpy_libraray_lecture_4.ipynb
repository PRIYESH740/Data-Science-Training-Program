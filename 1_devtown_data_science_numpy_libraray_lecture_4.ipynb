{
 "cells": [
  {
   "cell_type": "code",
   "execution_count": 1,
   "id": "fd017427",
   "metadata": {},
   "outputs": [
    {
     "name": "stdout",
     "output_type": "stream",
     "text": [
      "True\n",
      "False\n"
     ]
    }
   ],
   "source": [
    "list1=[10,20,30,40,50]\n",
    "list2=[10,20,30,40,50]\n",
    "print(list1==list2)\n",
    "print(list1 is list2)"
   ]
  },
  {
   "cell_type": "code",
   "execution_count": 4,
   "id": "162bc491",
   "metadata": {},
   "outputs": [],
   "source": [
    "import numpy as np\n"
   ]
  },
  {
   "cell_type": "code",
   "execution_count": 5,
   "id": "f36e6534",
   "metadata": {},
   "outputs": [],
   "source": [
    "arr1=np.array([[1,2,3],[4,5,6]])\n",
    "arr2=np.array([[11,12,13],[14,15,16]])"
   ]
  },
  {
   "cell_type": "code",
   "execution_count": 12,
   "id": "aad03524",
   "metadata": {},
   "outputs": [
    {
     "data": {
      "text/plain": [
       "array([[ 1,  2,  3],\n",
       "       [ 4,  5,  6],\n",
       "       [11, 12, 13],\n",
       "       [14, 15, 16]])"
      ]
     },
     "execution_count": 12,
     "metadata": {},
     "output_type": "execute_result"
    }
   ],
   "source": [
    "np.concatenate((arr1,arr2))"
   ]
  },
  {
   "cell_type": "markdown",
   "id": "8f779d91",
   "metadata": {},
   "source": [
    "# Stacking\n"
   ]
  },
  {
   "cell_type": "code",
   "execution_count": 4,
   "id": "4a57a453",
   "metadata": {},
   "outputs": [
    {
     "data": {
      "text/plain": [
       "array([[1, 2, 3],\n",
       "       [4, 5, 6]])"
      ]
     },
     "execution_count": 4,
     "metadata": {},
     "output_type": "execute_result"
    }
   ],
   "source": [
    "arr1"
   ]
  },
  {
   "cell_type": "code",
   "execution_count": 5,
   "id": "7c8fdda9",
   "metadata": {},
   "outputs": [
    {
     "data": {
      "text/plain": [
       "array([[11, 12, 13],\n",
       "       [14, 15, 16]])"
      ]
     },
     "execution_count": 5,
     "metadata": {},
     "output_type": "execute_result"
    }
   ],
   "source": [
    "arr2"
   ]
  },
  {
   "cell_type": "code",
   "execution_count": 7,
   "id": "2c3251d3",
   "metadata": {},
   "outputs": [
    {
     "data": {
      "text/plain": [
       "array([[ 1,  2,  3],\n",
       "       [ 4,  5,  6],\n",
       "       [11, 12, 13],\n",
       "       [14, 15, 16]])"
      ]
     },
     "execution_count": 7,
     "metadata": {},
     "output_type": "execute_result"
    }
   ],
   "source": [
    "np.vstack((arr1,arr2))"
   ]
  },
  {
   "cell_type": "code",
   "execution_count": 8,
   "id": "8df6e31f",
   "metadata": {},
   "outputs": [
    {
     "data": {
      "text/plain": [
       "array([[ 1,  2,  3],\n",
       "       [ 4,  5,  6],\n",
       "       [11, 12, 13],\n",
       "       [14, 15, 16],\n",
       "       [ 1,  2,  3],\n",
       "       [ 4,  5,  6],\n",
       "       [11, 12, 13],\n",
       "       [14, 15, 16]])"
      ]
     },
     "execution_count": 8,
     "metadata": {},
     "output_type": "execute_result"
    }
   ],
   "source": [
    "np.vstack((arr1,arr2,arr1,arr2))"
   ]
  },
  {
   "cell_type": "code",
   "execution_count": 11,
   "id": "0df3dfcb",
   "metadata": {},
   "outputs": [
    {
     "data": {
      "text/plain": [
       "array([[ 1,  2,  3, 11, 12, 13],\n",
       "       [ 4,  5,  6, 14, 15, 16]])"
      ]
     },
     "execution_count": 11,
     "metadata": {},
     "output_type": "execute_result"
    }
   ],
   "source": [
    "np.hstack([arr1,arr2])"
   ]
  },
  {
   "cell_type": "code",
   "execution_count": 19,
   "id": "814f2200",
   "metadata": {},
   "outputs": [],
   "source": [
    "arr3=np.array((100,200,300))"
   ]
  },
  {
   "cell_type": "code",
   "execution_count": 20,
   "id": "bb4c0825",
   "metadata": {},
   "outputs": [
    {
     "data": {
      "text/plain": [
       "array([[  1,   2,   3],\n",
       "       [  4,   5,   6],\n",
       "       [100, 200, 300]])"
      ]
     },
     "execution_count": 20,
     "metadata": {},
     "output_type": "execute_result"
    }
   ],
   "source": [
    "np.vstack((arr1,arr3))  # both array having same column"
   ]
  },
  {
   "cell_type": "code",
   "execution_count": 21,
   "id": "9d412664",
   "metadata": {},
   "outputs": [
    {
     "ename": "ValueError",
     "evalue": "all the input arrays must have same number of dimensions, but the array at index 0 has 2 dimension(s) and the array at index 1 has 1 dimension(s)",
     "output_type": "error",
     "traceback": [
      "\u001b[1;31m---------------------------------------------------------------------------\u001b[0m",
      "\u001b[1;31mValueError\u001b[0m                                Traceback (most recent call last)",
      "Cell \u001b[1;32mIn[21], line 1\u001b[0m\n\u001b[1;32m----> 1\u001b[0m np\u001b[38;5;241m.\u001b[39mhstack((arr1,arr3))\n",
      "File \u001b[1;32m<__array_function__ internals>:200\u001b[0m, in \u001b[0;36mhstack\u001b[1;34m(*args, **kwargs)\u001b[0m\n",
      "File \u001b[1;32mC:\\ProgramData\\anaconda3\\Lib\\site-packages\\numpy\\core\\shape_base.py:370\u001b[0m, in \u001b[0;36mhstack\u001b[1;34m(tup, dtype, casting)\u001b[0m\n\u001b[0;32m    368\u001b[0m     \u001b[38;5;28;01mreturn\u001b[39;00m _nx\u001b[38;5;241m.\u001b[39mconcatenate(arrs, \u001b[38;5;241m0\u001b[39m, dtype\u001b[38;5;241m=\u001b[39mdtype, casting\u001b[38;5;241m=\u001b[39mcasting)\n\u001b[0;32m    369\u001b[0m \u001b[38;5;28;01melse\u001b[39;00m:\n\u001b[1;32m--> 370\u001b[0m     \u001b[38;5;28;01mreturn\u001b[39;00m _nx\u001b[38;5;241m.\u001b[39mconcatenate(arrs, \u001b[38;5;241m1\u001b[39m, dtype\u001b[38;5;241m=\u001b[39mdtype, casting\u001b[38;5;241m=\u001b[39mcasting)\n",
      "File \u001b[1;32m<__array_function__ internals>:200\u001b[0m, in \u001b[0;36mconcatenate\u001b[1;34m(*args, **kwargs)\u001b[0m\n",
      "\u001b[1;31mValueError\u001b[0m: all the input arrays must have same number of dimensions, but the array at index 0 has 2 dimension(s) and the array at index 1 has 1 dimension(s)"
     ]
    }
   ],
   "source": [
    "np.hstack((arr1,arr3)) # both you need both array having same row"
   ]
  },
  {
   "cell_type": "markdown",
   "id": "a03bad5e",
   "metadata": {},
   "source": [
    "dstack()"
   ]
  },
  {
   "cell_type": "code",
   "execution_count": 23,
   "id": "7f2b4cb1",
   "metadata": {},
   "outputs": [
    {
     "data": {
      "text/plain": [
       "array([[[ 1, 11,  1],\n",
       "        [ 2, 12,  2],\n",
       "        [ 3, 13,  3]],\n",
       "\n",
       "       [[ 4, 14,  4],\n",
       "        [ 5, 15,  5],\n",
       "        [ 6, 16,  6]]])"
      ]
     },
     "execution_count": 23,
     "metadata": {},
     "output_type": "execute_result"
    }
   ],
   "source": [
    "np.dstack((arr1,arr2,arr1))"
   ]
  },
  {
   "cell_type": "markdown",
   "id": "e61388df",
   "metadata": {},
   "source": [
    " spliting"
   ]
  },
  {
   "cell_type": "code",
   "execution_count": 28,
   "id": "4ef31c90",
   "metadata": {},
   "outputs": [],
   "source": [
    "#array_split()\n",
    "\n",
    "br=np.array_split(arr3,4)"
   ]
  },
  {
   "cell_type": "code",
   "execution_count": 27,
   "id": "c43f9bb7",
   "metadata": {},
   "outputs": [
    {
     "data": {
      "text/plain": [
       "array([200])"
      ]
     },
     "execution_count": 27,
     "metadata": {},
     "output_type": "execute_result"
    }
   ],
   "source": [
    "br[1]"
   ]
  },
  {
   "cell_type": "code",
   "execution_count": 29,
   "id": "a9a28b11",
   "metadata": {},
   "outputs": [
    {
     "data": {
      "text/plain": [
       "array([], dtype=int32)"
      ]
     },
     "execution_count": 29,
     "metadata": {},
     "output_type": "execute_result"
    }
   ],
   "source": [
    "br[3]"
   ]
  },
  {
   "cell_type": "code",
   "execution_count": 30,
   "id": "a9b3f8bc",
   "metadata": {},
   "outputs": [],
   "source": [
    "#array_split()\n",
    "\n",
    "br=np.array_split(arr3,2)"
   ]
  },
  {
   "cell_type": "code",
   "execution_count": 31,
   "id": "d381ff48",
   "metadata": {},
   "outputs": [
    {
     "data": {
      "text/plain": [
       "[array([100, 200]), array([300])]"
      ]
     },
     "execution_count": 31,
     "metadata": {},
     "output_type": "execute_result"
    }
   ],
   "source": [
    "br"
   ]
  },
  {
   "cell_type": "code",
   "execution_count": 32,
   "id": "ef10130d",
   "metadata": {},
   "outputs": [],
   "source": [
    "#array_split()\n",
    "\n",
    "br=np.array_split(arr3,10)"
   ]
  },
  {
   "cell_type": "code",
   "execution_count": 33,
   "id": "14dc22f0",
   "metadata": {},
   "outputs": [
    {
     "data": {
      "text/plain": [
       "[array([100]),\n",
       " array([200]),\n",
       " array([300]),\n",
       " array([], dtype=int32),\n",
       " array([], dtype=int32),\n",
       " array([], dtype=int32),\n",
       " array([], dtype=int32),\n",
       " array([], dtype=int32),\n",
       " array([], dtype=int32),\n",
       " array([], dtype=int32)]"
      ]
     },
     "execution_count": 33,
     "metadata": {},
     "output_type": "execute_result"
    }
   ],
   "source": [
    "br"
   ]
  },
  {
   "cell_type": "markdown",
   "id": "0439b8b2",
   "metadata": {},
   "source": [
    "Seaching"
   ]
  },
  {
   "cell_type": "code",
   "execution_count": 34,
   "id": "9712bdab",
   "metadata": {},
   "outputs": [],
   "source": [
    "newarr=np.array((1,2,3,4,5,4,4))"
   ]
  },
  {
   "cell_type": "code",
   "execution_count": 35,
   "id": "62ac3b21",
   "metadata": {},
   "outputs": [
    {
     "data": {
      "text/plain": [
       "array([1, 2, 3, 4, 5, 4, 4])"
      ]
     },
     "execution_count": 35,
     "metadata": {},
     "output_type": "execute_result"
    }
   ],
   "source": [
    "newarr"
   ]
  },
  {
   "cell_type": "code",
   "execution_count": 37,
   "id": "65ada277",
   "metadata": {},
   "outputs": [
    {
     "data": {
      "text/plain": [
       "(array([3, 5, 6], dtype=int64),)"
      ]
     },
     "execution_count": 37,
     "metadata": {},
     "output_type": "execute_result"
    }
   ],
   "source": [
    "#where \n",
    "\n",
    "np.where(newarr==4)"
   ]
  },
  {
   "cell_type": "code",
   "execution_count": 40,
   "id": "9dbf033b",
   "metadata": {},
   "outputs": [
    {
     "data": {
      "text/plain": [
       "(array([4], dtype=int64),)"
      ]
     },
     "execution_count": 40,
     "metadata": {},
     "output_type": "execute_result"
    }
   ],
   "source": [
    "\n",
    "np.where(newarr>4)   # return all indexes those elements that satisfy the condition "
   ]
  },
  {
   "cell_type": "code",
   "execution_count": 39,
   "id": "5f5e0330",
   "metadata": {},
   "outputs": [
    {
     "data": {
      "text/plain": [
       "(array([0, 1, 2], dtype=int64),)"
      ]
     },
     "execution_count": 39,
     "metadata": {},
     "output_type": "execute_result"
    }
   ],
   "source": [
    "#where \n",
    "\n",
    "np.where(newarr<4)"
   ]
  },
  {
   "cell_type": "markdown",
   "id": "b3c2accb",
   "metadata": {},
   "source": [
    "sorting"
   ]
  },
  {
   "cell_type": "code",
   "execution_count": 42,
   "id": "875f2f0d",
   "metadata": {},
   "outputs": [],
   "source": [
    "newarr=np.array((10,5,6,-10,-7,20,0,4,4.5,18))"
   ]
  },
  {
   "cell_type": "code",
   "execution_count": 43,
   "id": "e9857bb0",
   "metadata": {},
   "outputs": [
    {
     "data": {
      "text/plain": [
       "array([ 10. ,   5. ,   6. , -10. ,  -7. ,  20. ,   0. ,   4. ,   4.5,\n",
       "        18. ])"
      ]
     },
     "execution_count": 43,
     "metadata": {},
     "output_type": "execute_result"
    }
   ],
   "source": [
    "newarr"
   ]
  },
  {
   "cell_type": "code",
   "execution_count": 44,
   "id": "3f4c1e87",
   "metadata": {},
   "outputs": [
    {
     "data": {
      "text/plain": [
       "array([-10. ,  -7. ,   0. ,   4. ,   4.5,   5. ,   6. ,  10. ,  18. ,\n",
       "        20. ])"
      ]
     },
     "execution_count": 44,
     "metadata": {},
     "output_type": "execute_result"
    }
   ],
   "source": [
    "np.sort(newarr)   # ascending"
   ]
  },
  {
   "cell_type": "code",
   "execution_count": 46,
   "id": "e68c3324",
   "metadata": {},
   "outputs": [
    {
     "data": {
      "text/plain": [
       "array([[ 1,  3,  9],\n",
       "       [ 4,  6, 15]])"
      ]
     },
     "execution_count": 46,
     "metadata": {},
     "output_type": "execute_result"
    }
   ],
   "source": [
    "arr4=np.array([[1,9,3],[4,15,6]])\n",
    "np.sort(arr4)"
   ]
  },
  {
   "cell_type": "code",
   "execution_count": 47,
   "id": "dc75b698",
   "metadata": {},
   "outputs": [
    {
     "data": {
      "text/plain": [
       "(array([1], dtype=int64), array([2], dtype=int64))"
      ]
     },
     "execution_count": 47,
     "metadata": {},
     "output_type": "execute_result"
    }
   ],
   "source": [
    "np.where(arr4==6)"
   ]
  },
  {
   "cell_type": "code",
   "execution_count": 49,
   "id": "6b4399ae",
   "metadata": {},
   "outputs": [
    {
     "data": {
      "text/plain": [
       "array([ 20. ,  18. ,  10. ,   6. ,   5. ,   4.5,   4. ,   0. ,  -7. ,\n",
       "       -10. ])"
      ]
     },
     "execution_count": 49,
     "metadata": {},
     "output_type": "execute_result"
    }
   ],
   "source": [
    "-np.sort(-newarr)  #descending"
   ]
  },
  {
   "cell_type": "code",
   "execution_count": 50,
   "id": "944c53c3",
   "metadata": {},
   "outputs": [
    {
     "data": {
      "text/plain": [
       "array([-20. , -18. , -10. ,  -6. ,  -5. ,  -4.5,  -4. ,  -0. ,   7. ,\n",
       "        10. ])"
      ]
     },
     "execution_count": 50,
     "metadata": {},
     "output_type": "execute_result"
    }
   ],
   "source": [
    "np.sort(-newarr)   # it is not working"
   ]
  },
  {
   "cell_type": "markdown",
   "id": "f400e704",
   "metadata": {},
   "source": [
    "any(),all()"
   ]
  },
  {
   "cell_type": "code",
   "execution_count": 60,
   "id": "984d9a27",
   "metadata": {},
   "outputs": [],
   "source": [
    "newarr=np.array([2,4,6,8,9])"
   ]
  },
  {
   "cell_type": "code",
   "execution_count": 61,
   "id": "f9fecb6b",
   "metadata": {},
   "outputs": [
    {
     "data": {
      "text/plain": [
       "True"
      ]
     },
     "execution_count": 61,
     "metadata": {},
     "output_type": "execute_result"
    }
   ],
   "source": [
    "np.any(newarr%2==0)"
   ]
  },
  {
   "cell_type": "code",
   "execution_count": 62,
   "id": "e7cf2cf9",
   "metadata": {},
   "outputs": [
    {
     "data": {
      "text/plain": [
       "False"
      ]
     },
     "execution_count": 62,
     "metadata": {},
     "output_type": "execute_result"
    }
   ],
   "source": [
    "np.all(newarr%2==0)"
   ]
  },
  {
   "cell_type": "markdown",
   "id": "935551e7",
   "metadata": {},
   "source": []
  },
  {
   "cell_type": "code",
   "execution_count": 63,
   "id": "13fb13a8",
   "metadata": {},
   "outputs": [],
   "source": [
    "a=np.arange(12)"
   ]
  },
  {
   "cell_type": "code",
   "execution_count": 64,
   "id": "2ee26d18",
   "metadata": {},
   "outputs": [
    {
     "data": {
      "text/plain": [
       "array([ 0,  1,  2,  3,  4,  5,  6,  7,  8,  9, 10, 11])"
      ]
     },
     "execution_count": 64,
     "metadata": {},
     "output_type": "execute_result"
    }
   ],
   "source": [
    "a"
   ]
  },
  {
   "cell_type": "code",
   "execution_count": 65,
   "id": "e4936836",
   "metadata": {},
   "outputs": [
    {
     "data": {
      "text/plain": [
       "array([[ 0,  1,  2,  3],\n",
       "       [ 4,  5,  6,  7],\n",
       "       [ 8,  9, 10, 11]])"
      ]
     },
     "execution_count": 65,
     "metadata": {},
     "output_type": "execute_result"
    }
   ],
   "source": [
    "np.reshape(a,(3,4))"
   ]
  },
  {
   "cell_type": "markdown",
   "id": "69018c36",
   "metadata": {},
   "source": [
    "resize()"
   ]
  },
  {
   "cell_type": "code",
   "execution_count": 67,
   "id": "af0ed56b",
   "metadata": {},
   "outputs": [
    {
     "data": {
      "text/plain": [
       "array([[ 0,  1,  2,  3,  4],\n",
       "       [ 5,  6,  7,  8,  9],\n",
       "       [10, 11,  0,  1,  2]])"
      ]
     },
     "execution_count": 67,
     "metadata": {},
     "output_type": "execute_result"
    }
   ],
   "source": [
    "np.resize(a,(3,5))"
   ]
  },
  {
   "cell_type": "code",
   "execution_count": 68,
   "id": "ecacfb55",
   "metadata": {},
   "outputs": [
    {
     "data": {
      "text/plain": [
       "array([[ 0,  1,  2,  3,  4,  5,  6,  7,  8,  9],\n",
       "       [10, 11,  0,  1,  2,  3,  4,  5,  6,  7],\n",
       "       [ 8,  9, 10, 11,  0,  1,  2,  3,  4,  5],\n",
       "       [ 6,  7,  8,  9, 10, 11,  0,  1,  2,  3],\n",
       "       [ 4,  5,  6,  7,  8,  9, 10, 11,  0,  1],\n",
       "       [ 2,  3,  4,  5,  6,  7,  8,  9, 10, 11],\n",
       "       [ 0,  1,  2,  3,  4,  5,  6,  7,  8,  9],\n",
       "       [10, 11,  0,  1,  2,  3,  4,  5,  6,  7],\n",
       "       [ 8,  9, 10, 11,  0,  1,  2,  3,  4,  5],\n",
       "       [ 6,  7,  8,  9, 10, 11,  0,  1,  2,  3]])"
      ]
     },
     "execution_count": 68,
     "metadata": {},
     "output_type": "execute_result"
    }
   ],
   "source": [
    "np.resize(a,(10,10))"
   ]
  },
  {
   "cell_type": "markdown",
   "id": "1afe7f6e",
   "metadata": {},
   "source": [
    "Delete "
   ]
  },
  {
   "cell_type": "code",
   "execution_count": 69,
   "id": "6bc8132d",
   "metadata": {},
   "outputs": [
    {
     "data": {
      "text/plain": [
       "array([ 0,  1,  2,  3,  4,  5,  6,  7,  8,  9, 10, 11])"
      ]
     },
     "execution_count": 69,
     "metadata": {},
     "output_type": "execute_result"
    }
   ],
   "source": [
    "a"
   ]
  },
  {
   "cell_type": "code",
   "execution_count": 70,
   "id": "3ff86d00",
   "metadata": {},
   "outputs": [
    {
     "data": {
      "text/plain": [
       "array([ 0,  1,  2,  3,  4,  6,  7,  8,  9, 10, 11])"
      ]
     },
     "execution_count": 70,
     "metadata": {},
     "output_type": "execute_result"
    }
   ],
   "source": [
    "np.delete(a,5)"
   ]
  },
  {
   "cell_type": "code",
   "execution_count": 76,
   "id": "e3fca506",
   "metadata": {},
   "outputs": [],
   "source": [
    "delmat=np.array([[1,2,3],[4,3,5]])"
   ]
  },
  {
   "cell_type": "code",
   "execution_count": 77,
   "id": "fcffa56d",
   "metadata": {},
   "outputs": [
    {
     "data": {
      "text/plain": [
       "array([1, 2, 3, 3, 5])"
      ]
     },
     "execution_count": 77,
     "metadata": {},
     "output_type": "execute_result"
    }
   ],
   "source": [
    "np.delete(delmat,3)"
   ]
  },
  {
   "cell_type": "code",
   "execution_count": 81,
   "id": "fa394ce3",
   "metadata": {},
   "outputs": [
    {
     "data": {
      "text/plain": [
       "array([[1, 2],\n",
       "       [4, 3]])"
      ]
     },
     "execution_count": 81,
     "metadata": {},
     "output_type": "execute_result"
    }
   ],
   "source": [
    "np.delete(delmat,2,axis=1)   # it delete which value having rowwise index value is 2 of the matrix"
   ]
  },
  {
   "cell_type": "code",
   "execution_count": 80,
   "id": "cf7f4dff",
   "metadata": {},
   "outputs": [
    {
     "data": {
      "text/plain": [
       "array([[1, 2, 3]])"
      ]
     },
     "execution_count": 80,
     "metadata": {},
     "output_type": "execute_result"
    }
   ],
   "source": [
    "np.delete(delmat,1,axis=0)  # it delete which value having columnwie index value is 1 of the matrix"
   ]
  },
  {
   "cell_type": "code",
   "execution_count": 93,
   "id": "9a9a9acb",
   "metadata": {},
   "outputs": [
    {
     "data": {
      "text/plain": [
       "array([[1, 2, 3],\n",
       "       [4, 3, 5]])"
      ]
     },
     "execution_count": 93,
     "metadata": {},
     "output_type": "execute_result"
    }
   ],
   "source": [
    "delmat"
   ]
  },
  {
   "cell_type": "code",
   "execution_count": 94,
   "id": "7e25523e",
   "metadata": {},
   "outputs": [
    {
     "data": {
      "text/plain": [
       "array([[1, 3],\n",
       "       [4, 5]])"
      ]
     },
     "execution_count": 94,
     "metadata": {},
     "output_type": "execute_result"
    }
   ],
   "source": [
    "np.delete(delmat,1,axis=1)  "
   ]
  },
  {
   "cell_type": "markdown",
   "id": "e311493a",
   "metadata": {},
   "source": [
    "LCM"
   ]
  },
  {
   "cell_type": "code",
   "execution_count": 90,
   "id": "e81d5d57",
   "metadata": {},
   "outputs": [
    {
     "ename": "TypeError",
     "evalue": "lcm() takes from 2 to 3 positional arguments but 1 were given",
     "output_type": "error",
     "traceback": [
      "\u001b[1;31m---------------------------------------------------------------------------\u001b[0m",
      "\u001b[1;31mTypeError\u001b[0m                                 Traceback (most recent call last)",
      "Cell \u001b[1;32mIn[90], line 4\u001b[0m\n\u001b[0;32m      2\u001b[0m num2\u001b[38;5;241m=\u001b[39m\u001b[38;5;241m125\u001b[39m\n\u001b[0;32m      3\u001b[0m num3\u001b[38;5;241m=\u001b[39m\u001b[38;5;241m625\u001b[39m\n\u001b[1;32m----> 4\u001b[0m np\u001b[38;5;241m.\u001b[39mlcm([num1,num2,num3])\n",
      "\u001b[1;31mTypeError\u001b[0m: lcm() takes from 2 to 3 positional arguments but 1 were given"
     ]
    }
   ],
   "source": [
    "num1=25\n",
    "num2=125\n",
    "num3=625\n",
    "np.lcm([num1,num2,num3])"
   ]
  },
  {
   "cell_type": "code",
   "execution_count": 91,
   "id": "1f840058",
   "metadata": {},
   "outputs": [
    {
     "data": {
      "text/plain": [
       "625"
      ]
     },
     "execution_count": 91,
     "metadata": {},
     "output_type": "execute_result"
    }
   ],
   "source": [
    "num1=25\n",
    "num2=125\n",
    "num3=625\n",
    "np.lcm.reduce([num1,num2,num3])"
   ]
  },
  {
   "cell_type": "code",
   "execution_count": 86,
   "id": "301e85f6",
   "metadata": {},
   "outputs": [
    {
     "data": {
      "text/plain": [
       "array([2, 4, 6, 8, 9])"
      ]
     },
     "execution_count": 86,
     "metadata": {},
     "output_type": "execute_result"
    }
   ],
   "source": [
    "newarr"
   ]
  },
  {
   "cell_type": "code",
   "execution_count": 87,
   "id": "bf1a9214",
   "metadata": {},
   "outputs": [
    {
     "ename": "TypeError",
     "evalue": "lcm() takes from 2 to 3 positional arguments but 1 were given",
     "output_type": "error",
     "traceback": [
      "\u001b[1;31m---------------------------------------------------------------------------\u001b[0m",
      "\u001b[1;31mTypeError\u001b[0m                                 Traceback (most recent call last)",
      "Cell \u001b[1;32mIn[87], line 1\u001b[0m\n\u001b[1;32m----> 1\u001b[0m np\u001b[38;5;241m.\u001b[39mlcm(newarr)\n",
      "\u001b[1;31mTypeError\u001b[0m: lcm() takes from 2 to 3 positional arguments but 1 were given"
     ]
    }
   ],
   "source": [
    "np.lcm(newarr)"
   ]
  },
  {
   "cell_type": "code",
   "execution_count": 88,
   "id": "dd0cc4ad",
   "metadata": {},
   "outputs": [
    {
     "data": {
      "text/plain": [
       "72"
      ]
     },
     "execution_count": 88,
     "metadata": {},
     "output_type": "execute_result"
    }
   ],
   "source": [
    "np.lcm.reduce(newarr)"
   ]
  },
  {
   "cell_type": "markdown",
   "id": "2960368a",
   "metadata": {},
   "source": [
    "GCD-> Greatest common divisor"
   ]
  },
  {
   "cell_type": "code",
   "execution_count": 95,
   "id": "7f4f18a4",
   "metadata": {},
   "outputs": [
    {
     "data": {
      "text/plain": [
       "3"
      ]
     },
     "execution_count": 95,
     "metadata": {},
     "output_type": "execute_result"
    }
   ],
   "source": [
    "a=6\n",
    "b=9\n",
    "\n",
    "#gcd()\n",
    "np.gcd(a,b)"
   ]
  },
  {
   "cell_type": "code",
   "execution_count": 96,
   "id": "5bc15e58",
   "metadata": {},
   "outputs": [
    {
     "data": {
      "text/plain": [
       "1"
      ]
     },
     "execution_count": 96,
     "metadata": {},
     "output_type": "execute_result"
    }
   ],
   "source": [
    "np.gcd.reduce(newarr)"
   ]
  },
  {
   "cell_type": "code",
   "execution_count": 98,
   "id": "eeaa49c3",
   "metadata": {},
   "outputs": [],
   "source": [
    "newarr=np.array([2,4,6,8,10])"
   ]
  },
  {
   "cell_type": "code",
   "execution_count": 99,
   "id": "6314d8bc",
   "metadata": {},
   "outputs": [
    {
     "data": {
      "text/plain": [
       "2"
      ]
     },
     "execution_count": 99,
     "metadata": {},
     "output_type": "execute_result"
    }
   ],
   "source": [
    "np.gcd.reduce(newarr)"
   ]
  },
  {
   "cell_type": "markdown",
   "id": "0d8866a7",
   "metadata": {},
   "source": [
    "# 3x+4y=90 ,9x+6y=10 linear equation"
   ]
  },
  {
   "cell_type": "code",
   "execution_count": 101,
   "id": "05330700",
   "metadata": {},
   "outputs": [],
   "source": [
    "#3x+y=9\n",
    "#x+2y=8\n",
    "\n",
    "a=np.array([[3,1],[1,2]])\n",
    "b=np.array([9,8])"
   ]
  },
  {
   "cell_type": "code",
   "execution_count": 102,
   "id": "e4a92efc",
   "metadata": {},
   "outputs": [
    {
     "data": {
      "text/plain": [
       "array([2., 3.])"
      ]
     },
     "execution_count": 102,
     "metadata": {},
     "output_type": "execute_result"
    }
   ],
   "source": [
    "np.linalg.solve(a,b)"
   ]
  },
  {
   "cell_type": "markdown",
   "id": "c87af45e",
   "metadata": {},
   "source": [
    "Quadratic equation"
   ]
  },
  {
   "cell_type": "code",
   "execution_count": 103,
   "id": "210fb067",
   "metadata": {},
   "outputs": [],
   "source": [
    "# x^2+4x = -4\n",
    "# x^2+4x+4=0\n",
    "\n",
    "coeff=np.array([1,4,4])"
   ]
  },
  {
   "cell_type": "code",
   "execution_count": 105,
   "id": "3d0f72c1",
   "metadata": {},
   "outputs": [
    {
     "data": {
      "text/plain": [
       "array([-2.+1.3377935e-08j, -2.-1.3377935e-08j])"
      ]
     },
     "execution_count": 105,
     "metadata": {},
     "output_type": "execute_result"
    }
   ],
   "source": [
    "# roots\n",
    "\n",
    "np.roots(coeff)"
   ]
  },
  {
   "cell_type": "code",
   "execution_count": 106,
   "id": "41f810f4",
   "metadata": {},
   "outputs": [],
   "source": [
    "a=np.array([[1,2,3],[4,5,6]])\n",
    "b=np.array([[10,20,30],[40,50,60]])"
   ]
  },
  {
   "cell_type": "code",
   "execution_count": 107,
   "id": "10a0c7c7",
   "metadata": {},
   "outputs": [
    {
     "data": {
      "text/plain": [
       "910"
      ]
     },
     "execution_count": 107,
     "metadata": {},
     "output_type": "execute_result"
    }
   ],
   "source": [
    "np.vdot(a,b)"
   ]
  },
  {
   "cell_type": "code",
   "execution_count": 108,
   "id": "288fb2b4",
   "metadata": {},
   "outputs": [
    {
     "data": {
      "text/plain": [
       "array([[1, 2, 3],\n",
       "       [4, 5, 6]])"
      ]
     },
     "execution_count": 108,
     "metadata": {},
     "output_type": "execute_result"
    }
   ],
   "source": [
    "a"
   ]
  },
  {
   "cell_type": "code",
   "execution_count": 109,
   "id": "9d62cc9a",
   "metadata": {},
   "outputs": [
    {
     "data": {
      "text/plain": [
       "3.5"
      ]
     },
     "execution_count": 109,
     "metadata": {},
     "output_type": "execute_result"
    }
   ],
   "source": [
    "np.mean(a)"
   ]
  },
  {
   "cell_type": "markdown",
   "id": "3afab242",
   "metadata": {},
   "source": [
    " weighted mean"
   ]
  },
  {
   "cell_type": "code",
   "execution_count": 110,
   "id": "26a726c2",
   "metadata": {},
   "outputs": [],
   "source": [
    "array=np.array([1,2,3,4])\n",
    "weight=np.array([4,3,2,1])"
   ]
  },
  {
   "cell_type": "code",
   "execution_count": 111,
   "id": "d80d7734",
   "metadata": {},
   "outputs": [
    {
     "data": {
      "text/plain": [
       "2.0"
      ]
     },
     "execution_count": 111,
     "metadata": {},
     "output_type": "execute_result"
    }
   ],
   "source": [
    "np.average(array,weights=weight)"
   ]
  },
  {
   "cell_type": "code",
   "execution_count": 112,
   "id": "ff75eb13",
   "metadata": {},
   "outputs": [],
   "source": [
    "array=np.array([-10,0.3,1.5,19,-50,-3.5,11.5,9])"
   ]
  },
  {
   "cell_type": "code",
   "execution_count": 113,
   "id": "901a6fb6",
   "metadata": {},
   "outputs": [
    {
     "data": {
      "text/plain": [
       "array([-10. ,   0.3,   1.5,  19. , -50. ,  -3.5,  11.5,   9. ])"
      ]
     },
     "execution_count": 113,
     "metadata": {},
     "output_type": "execute_result"
    }
   ],
   "source": [
    "array"
   ]
  },
  {
   "cell_type": "code",
   "execution_count": 115,
   "id": "1fc3b54e",
   "metadata": {},
   "outputs": [
    {
     "data": {
      "text/plain": [
       "array([-50. , -10. ,  -3.5,   0.3,   1.5,   9. ,  11.5,  19. ])"
      ]
     },
     "execution_count": 115,
     "metadata": {},
     "output_type": "execute_result"
    }
   ],
   "source": [
    "np.sort(array)"
   ]
  },
  {
   "cell_type": "markdown",
   "id": "1e695446",
   "metadata": {},
   "source": [
    "argsort()"
   ]
  },
  {
   "cell_type": "code",
   "execution_count": 116,
   "id": "7b9120ba",
   "metadata": {},
   "outputs": [
    {
     "data": {
      "text/plain": [
       "array([4, 0, 5, 1, 2, 7, 6, 3], dtype=int64)"
      ]
     },
     "execution_count": 116,
     "metadata": {},
     "output_type": "execute_result"
    }
   ],
   "source": [
    "np.argsort(array)"
   ]
  },
  {
   "cell_type": "code",
   "execution_count": 117,
   "id": "3c53a98e",
   "metadata": {},
   "outputs": [
    {
     "data": {
      "text/plain": [
       "array([1.0000e+02, 9.0000e-02, 2.2500e+00, 3.6100e+02, 2.5000e+03,\n",
       "       1.2250e+01, 1.3225e+02, 8.1000e+01])"
      ]
     },
     "execution_count": 117,
     "metadata": {},
     "output_type": "execute_result"
    }
   ],
   "source": [
    "array**2"
   ]
  },
  {
   "cell_type": "code",
   "execution_count": 119,
   "id": "fc621abb",
   "metadata": {},
   "outputs": [
    {
     "data": {
      "text/plain": [
       "array([1.41421356, 2.        , 2.44948974, 2.82842712, 3.16227766])"
      ]
     },
     "execution_count": 119,
     "metadata": {},
     "output_type": "execute_result"
    }
   ],
   "source": [
    "np.sqrt(newarr)"
   ]
  },
  {
   "cell_type": "code",
   "execution_count": 122,
   "id": "0579d6de",
   "metadata": {},
   "outputs": [
    {
     "data": {
      "text/plain": [
       "array([  4,  16,  36,  64, 100])"
      ]
     },
     "execution_count": 122,
     "metadata": {},
     "output_type": "execute_result"
    }
   ],
   "source": [
    "np.square(newarr)"
   ]
  }
 ],
 "metadata": {
  "kernelspec": {
   "display_name": "Python 3 (ipykernel)",
   "language": "python",
   "name": "python3"
  },
  "language_info": {
   "codemirror_mode": {
    "name": "ipython",
    "version": 3
   },
   "file_extension": ".py",
   "mimetype": "text/x-python",
   "name": "python",
   "nbconvert_exporter": "python",
   "pygments_lexer": "ipython3",
   "version": "3.11.5"
  }
 },
 "nbformat": 4,
 "nbformat_minor": 5
}
