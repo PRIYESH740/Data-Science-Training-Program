{
 "cells": [
  {
   "cell_type": "markdown",
   "id": "66af17d3",
   "metadata": {},
   "source": [
    "#  CRUD OPERATION "
   ]
  },
  {
   "cell_type": "code",
   "execution_count": 1,
   "id": "5e4d9ba4",
   "metadata": {},
   "outputs": [],
   "source": [
    "import numpy as np"
   ]
  },
  {
   "cell_type": "code",
   "execution_count": 3,
   "id": "b629a83f",
   "metadata": {},
   "outputs": [],
   "source": [
    "arr=np.array([[1,2,3],[4,5,6]])"
   ]
  },
  {
   "cell_type": "code",
   "execution_count": 4,
   "id": "7d0e8b1a",
   "metadata": {},
   "outputs": [
    {
     "data": {
      "text/plain": [
       "2"
      ]
     },
     "execution_count": 4,
     "metadata": {},
     "output_type": "execute_result"
    }
   ],
   "source": [
    "arr.ndim"
   ]
  },
  {
   "cell_type": "code",
   "execution_count": 5,
   "id": "c4518097",
   "metadata": {},
   "outputs": [
    {
     "data": {
      "text/plain": [
       "array([[1, 2, 3],\n",
       "       [4, 5, 6]])"
      ]
     },
     "execution_count": 5,
     "metadata": {},
     "output_type": "execute_result"
    }
   ],
   "source": [
    "#np.zeros()\n",
    "arr"
   ]
  },
  {
   "cell_type": "code",
   "execution_count": 6,
   "id": "77fedd61",
   "metadata": {},
   "outputs": [],
   "source": [
    "arr=np.zeros((3,3))  # 2D array shape -> no. of rows and no. of columns"
   ]
  },
  {
   "cell_type": "code",
   "execution_count": 7,
   "id": "54a19b57",
   "metadata": {},
   "outputs": [
    {
     "data": {
      "text/plain": [
       "array([[0., 0., 0.],\n",
       "       [0., 0., 0.],\n",
       "       [0., 0., 0.]])"
      ]
     },
     "execution_count": 7,
     "metadata": {},
     "output_type": "execute_result"
    }
   ],
   "source": [
    "arr\n"
   ]
  },
  {
   "cell_type": "code",
   "execution_count": 8,
   "id": "88659359",
   "metadata": {},
   "outputs": [],
   "source": [
    "arr1=np.zeros(10)  # 1D  array"
   ]
  },
  {
   "cell_type": "code",
   "execution_count": 9,
   "id": "3923d337",
   "metadata": {},
   "outputs": [
    {
     "data": {
      "text/plain": [
       "array([0., 0., 0., 0., 0., 0., 0., 0., 0., 0.])"
      ]
     },
     "execution_count": 9,
     "metadata": {},
     "output_type": "execute_result"
    }
   ],
   "source": [
    "arr1"
   ]
  },
  {
   "cell_type": "code",
   "execution_count": null,
   "id": "9e4305e9",
   "metadata": {},
   "outputs": [],
   "source": [
    "arr2.np.zeros([10,10])   # provide argument [list]and (tuple)"
   ]
  },
  {
   "cell_type": "code",
   "execution_count": 10,
   "id": "51f991a8",
   "metadata": {},
   "outputs": [],
   "source": [
    "arr=np.zeros([10,3,4])"
   ]
  },
  {
   "cell_type": "code",
   "execution_count": 11,
   "id": "7f4d3f40",
   "metadata": {},
   "outputs": [
    {
     "data": {
      "text/plain": [
       "array([[[0., 0., 0., 0.],\n",
       "        [0., 0., 0., 0.],\n",
       "        [0., 0., 0., 0.]],\n",
       "\n",
       "       [[0., 0., 0., 0.],\n",
       "        [0., 0., 0., 0.],\n",
       "        [0., 0., 0., 0.]],\n",
       "\n",
       "       [[0., 0., 0., 0.],\n",
       "        [0., 0., 0., 0.],\n",
       "        [0., 0., 0., 0.]],\n",
       "\n",
       "       [[0., 0., 0., 0.],\n",
       "        [0., 0., 0., 0.],\n",
       "        [0., 0., 0., 0.]],\n",
       "\n",
       "       [[0., 0., 0., 0.],\n",
       "        [0., 0., 0., 0.],\n",
       "        [0., 0., 0., 0.]],\n",
       "\n",
       "       [[0., 0., 0., 0.],\n",
       "        [0., 0., 0., 0.],\n",
       "        [0., 0., 0., 0.]],\n",
       "\n",
       "       [[0., 0., 0., 0.],\n",
       "        [0., 0., 0., 0.],\n",
       "        [0., 0., 0., 0.]],\n",
       "\n",
       "       [[0., 0., 0., 0.],\n",
       "        [0., 0., 0., 0.],\n",
       "        [0., 0., 0., 0.]],\n",
       "\n",
       "       [[0., 0., 0., 0.],\n",
       "        [0., 0., 0., 0.],\n",
       "        [0., 0., 0., 0.]],\n",
       "\n",
       "       [[0., 0., 0., 0.],\n",
       "        [0., 0., 0., 0.],\n",
       "        [0., 0., 0., 0.]]])"
      ]
     },
     "execution_count": 11,
     "metadata": {},
     "output_type": "execute_result"
    }
   ],
   "source": [
    "arr"
   ]
  },
  {
   "cell_type": "code",
   "execution_count": 14,
   "id": "109bc777",
   "metadata": {},
   "outputs": [],
   "source": [
    "#np.ones()\n",
    "arr=np.ones([10])"
   ]
  },
  {
   "cell_type": "code",
   "execution_count": 15,
   "id": "6cba38f3",
   "metadata": {},
   "outputs": [
    {
     "data": {
      "text/plain": [
       "array([1., 1., 1., 1., 1., 1., 1., 1., 1., 1.])"
      ]
     },
     "execution_count": 15,
     "metadata": {},
     "output_type": "execute_result"
    }
   ],
   "source": [
    "arr"
   ]
  },
  {
   "cell_type": "code",
   "execution_count": 21,
   "id": "8122b94f",
   "metadata": {},
   "outputs": [],
   "source": [
    "#np.empty()\n",
    "\n",
    "arr1=np.empty([3,4])"
   ]
  },
  {
   "cell_type": "code",
   "execution_count": 22,
   "id": "1320be78",
   "metadata": {},
   "outputs": [
    {
     "data": {
      "text/plain": [
       "array([[3.56043053e-307, 1.60219306e-306, 7.56571288e-307,\n",
       "        7.56587584e-307],\n",
       "       [1.37961302e-306, 1.05699242e-307, 8.01097889e-307,\n",
       "        1.24611538e-306],\n",
       "       [6.23054293e-307, 1.95821982e-306, 1.42410974e-306,\n",
       "        1.42410974e-306]])"
      ]
     },
     "execution_count": 22,
     "metadata": {},
     "output_type": "execute_result"
    }
   ],
   "source": [
    "arr1"
   ]
  },
  {
   "cell_type": "code",
   "execution_count": 27,
   "id": "1f38cbcf",
   "metadata": {},
   "outputs": [],
   "source": [
    "arr2=np.empty([2,2])"
   ]
  },
  {
   "cell_type": "code",
   "execution_count": 28,
   "id": "c6c7b55b",
   "metadata": {},
   "outputs": [
    {
     "data": {
      "text/plain": [
       "array([[2.12199579e-314, 1.38990724e-311],\n",
       "       [4.88136858e-321, 6.95208344e-310]])"
      ]
     },
     "execution_count": 28,
     "metadata": {},
     "output_type": "execute_result"
    }
   ],
   "source": [
    "arr2"
   ]
  },
  {
   "cell_type": "code",
   "execution_count": 31,
   "id": "6fbe3616",
   "metadata": {},
   "outputs": [],
   "source": [
    "arr=np.full([3,4,4],5)"
   ]
  },
  {
   "cell_type": "code",
   "execution_count": 32,
   "id": "6e772779",
   "metadata": {},
   "outputs": [
    {
     "data": {
      "text/plain": [
       "array([[[5, 5, 5, 5],\n",
       "        [5, 5, 5, 5],\n",
       "        [5, 5, 5, 5],\n",
       "        [5, 5, 5, 5]],\n",
       "\n",
       "       [[5, 5, 5, 5],\n",
       "        [5, 5, 5, 5],\n",
       "        [5, 5, 5, 5],\n",
       "        [5, 5, 5, 5]],\n",
       "\n",
       "       [[5, 5, 5, 5],\n",
       "        [5, 5, 5, 5],\n",
       "        [5, 5, 5, 5],\n",
       "        [5, 5, 5, 5]]])"
      ]
     },
     "execution_count": 32,
     "metadata": {},
     "output_type": "execute_result"
    }
   ],
   "source": [
    "arr"
   ]
  },
  {
   "cell_type": "code",
   "execution_count": 33,
   "id": "89e35ae3",
   "metadata": {},
   "outputs": [],
   "source": [
    "# identity matrix -all princepal diagonal should zero rest will be zero.\n",
    "# no. of row is equal to no. of column\n",
    "\n",
    "arr=np.eye(9)  #eye([9,9])"
   ]
  },
  {
   "cell_type": "code",
   "execution_count": 34,
   "id": "0a77ce80",
   "metadata": {},
   "outputs": [
    {
     "data": {
      "text/plain": [
       "array([[1., 0., 0., 0., 0., 0., 0., 0., 0.],\n",
       "       [0., 1., 0., 0., 0., 0., 0., 0., 0.],\n",
       "       [0., 0., 1., 0., 0., 0., 0., 0., 0.],\n",
       "       [0., 0., 0., 1., 0., 0., 0., 0., 0.],\n",
       "       [0., 0., 0., 0., 1., 0., 0., 0., 0.],\n",
       "       [0., 0., 0., 0., 0., 1., 0., 0., 0.],\n",
       "       [0., 0., 0., 0., 0., 0., 1., 0., 0.],\n",
       "       [0., 0., 0., 0., 0., 0., 0., 1., 0.],\n",
       "       [0., 0., 0., 0., 0., 0., 0., 0., 1.]])"
      ]
     },
     "execution_count": 34,
     "metadata": {},
     "output_type": "execute_result"
    }
   ],
   "source": [
    "arr"
   ]
  },
  {
   "cell_type": "code",
   "execution_count": 35,
   "id": "42b30d47",
   "metadata": {},
   "outputs": [],
   "source": [
    "arr=np.diag([1,2,3,4,5,6,7])"
   ]
  },
  {
   "cell_type": "code",
   "execution_count": 36,
   "id": "acd09742",
   "metadata": {},
   "outputs": [
    {
     "data": {
      "text/plain": [
       "array([[1, 0, 0, 0, 0, 0, 0],\n",
       "       [0, 2, 0, 0, 0, 0, 0],\n",
       "       [0, 0, 3, 0, 0, 0, 0],\n",
       "       [0, 0, 0, 4, 0, 0, 0],\n",
       "       [0, 0, 0, 0, 5, 0, 0],\n",
       "       [0, 0, 0, 0, 0, 6, 0],\n",
       "       [0, 0, 0, 0, 0, 0, 7]])"
      ]
     },
     "execution_count": 36,
     "metadata": {},
     "output_type": "execute_result"
    }
   ],
   "source": [
    "arr"
   ]
  },
  {
   "cell_type": "code",
   "execution_count": 39,
   "id": "ce86fe30",
   "metadata": {},
   "outputs": [],
   "source": [
    "#np.linspace(10,100,10)\n",
    "\n",
    "arr=np.linspace(1,10,20)"
   ]
  },
  {
   "cell_type": "code",
   "execution_count": 40,
   "id": "764114aa",
   "metadata": {},
   "outputs": [
    {
     "data": {
      "text/plain": [
       "array([ 1.        ,  1.47368421,  1.94736842,  2.42105263,  2.89473684,\n",
       "        3.36842105,  3.84210526,  4.31578947,  4.78947368,  5.26315789,\n",
       "        5.73684211,  6.21052632,  6.68421053,  7.15789474,  7.63157895,\n",
       "        8.10526316,  8.57894737,  9.05263158,  9.52631579, 10.        ])"
      ]
     },
     "execution_count": 40,
     "metadata": {},
     "output_type": "execute_result"
    }
   ],
   "source": [
    "arr"
   ]
  },
  {
   "cell_type": "code",
   "execution_count": 43,
   "id": "6c8b407a",
   "metadata": {},
   "outputs": [],
   "source": [
    "arr=np.random.randint(15,25,size=(2,3))"
   ]
  },
  {
   "cell_type": "code",
   "execution_count": 44,
   "id": "a2ce08a6",
   "metadata": {},
   "outputs": [
    {
     "data": {
      "text/plain": [
       "array([[21, 21, 16],\n",
       "       [22, 19, 17]])"
      ]
     },
     "execution_count": 44,
     "metadata": {},
     "output_type": "execute_result"
    }
   ],
   "source": [
    "arr"
   ]
  },
  {
   "cell_type": "code",
   "execution_count": 48,
   "id": "410ebf0a",
   "metadata": {},
   "outputs": [],
   "source": [
    "# np.arange()\n",
    "\n",
    "arr=np.arange(1,12,2)"
   ]
  },
  {
   "cell_type": "code",
   "execution_count": 49,
   "id": "18ced111",
   "metadata": {},
   "outputs": [
    {
     "data": {
      "text/plain": [
       "array([ 1,  3,  5,  7,  9, 11])"
      ]
     },
     "execution_count": 49,
     "metadata": {},
     "output_type": "execute_result"
    }
   ],
   "source": [
    "arr"
   ]
  },
  {
   "cell_type": "markdown",
   "id": "5df3d58d",
   "metadata": {},
   "source": [
    "#  Update "
   ]
  },
  {
   "cell_type": "code",
   "execution_count": 64,
   "id": "1b66a6cc",
   "metadata": {},
   "outputs": [],
   "source": [
    "arr1=np.array([1,2,3,4,5])\n",
    "arr2 =np.array([[1,2,3,4],[5,6,7,8],[1,3,5,7]])\n",
    "arr3 =np.array([[\n",
    "    [1,2,3,4],\n",
    "    [5,6,7,8]\n",
    "     ]\n",
    "    ,[[1,3,5,7],\n",
    "    [8,9,10,12]]\n",
    "])"
   ]
  },
  {
   "cell_type": "code",
   "execution_count": 65,
   "id": "567d5ad9",
   "metadata": {},
   "outputs": [
    {
     "data": {
      "text/plain": [
       "3"
      ]
     },
     "execution_count": 65,
     "metadata": {},
     "output_type": "execute_result"
    }
   ],
   "source": [
    "arr3.ndim"
   ]
  },
  {
   "cell_type": "code",
   "execution_count": 59,
   "id": "24622406",
   "metadata": {},
   "outputs": [
    {
     "data": {
      "text/plain": [
       "array([[1, 2, 3, 4],\n",
       "       [5, 6, 7, 8],\n",
       "       [1, 3, 5, 7]])"
      ]
     },
     "execution_count": 59,
     "metadata": {},
     "output_type": "execute_result"
    }
   ],
   "source": [
    "arr2"
   ]
  },
  {
   "cell_type": "code",
   "execution_count": 62,
   "id": "57d1395c",
   "metadata": {},
   "outputs": [
    {
     "data": {
      "text/plain": [
       "5"
      ]
     },
     "execution_count": 62,
     "metadata": {},
     "output_type": "execute_result"
    }
   ],
   "source": [
    "#indexing \n",
    "\n",
    "#1D array \n",
    "arr1[-1]\n",
    "arr1[4]\n",
    "\n",
    "#2D array\n",
    "\n",
    "arr2[1][2]\n",
    "arr2[2,2]"
   ]
  },
  {
   "cell_type": "code",
   "execution_count": 67,
   "id": "d757b48e",
   "metadata": {},
   "outputs": [
    {
     "data": {
      "text/plain": [
       "array([[[ 1,  2,  3,  4],\n",
       "        [ 5,  6,  7,  8]],\n",
       "\n",
       "       [[ 1,  3,  5,  7],\n",
       "        [ 8,  9, 10, 12]]])"
      ]
     },
     "execution_count": 67,
     "metadata": {},
     "output_type": "execute_result"
    }
   ],
   "source": [
    "arr3"
   ]
  },
  {
   "cell_type": "code",
   "execution_count": 68,
   "id": "7951a029",
   "metadata": {},
   "outputs": [],
   "source": [
    "arr3[0,1,1] =23  # 6 replace with 23"
   ]
  },
  {
   "cell_type": "code",
   "execution_count": 69,
   "id": "d538c5e5",
   "metadata": {},
   "outputs": [
    {
     "data": {
      "text/plain": [
       "array([[[ 1,  2,  3,  4],\n",
       "        [ 5, 23,  7,  8]],\n",
       "\n",
       "       [[ 1,  3,  5,  7],\n",
       "        [ 8,  9, 10, 12]]])"
      ]
     },
     "execution_count": 69,
     "metadata": {},
     "output_type": "execute_result"
    }
   ],
   "source": [
    "arr3"
   ]
  },
  {
   "cell_type": "markdown",
   "id": "7d9a5bc9",
   "metadata": {},
   "source": [
    "# slicing   -> only you think about row \n"
   ]
  },
  {
   "cell_type": "code",
   "execution_count": 71,
   "id": "be409cd3",
   "metadata": {},
   "outputs": [
    {
     "data": {
      "text/plain": [
       "array([[5, 6, 7, 8]])"
      ]
     },
     "execution_count": 71,
     "metadata": {},
     "output_type": "execute_result"
    }
   ],
   "source": [
    "arr2[1:2]    # row 1 -> inclusive and row 2 -> exclusive"
   ]
  },
  {
   "cell_type": "code",
   "execution_count": 72,
   "id": "1ad107f3",
   "metadata": {},
   "outputs": [
    {
     "data": {
      "text/plain": [
       "array([[[ 1,  2,  3,  4],\n",
       "        [ 5, 23,  7,  8]]])"
      ]
     },
     "execution_count": 72,
     "metadata": {},
     "output_type": "execute_result"
    }
   ],
   "source": [
    "arr3[0:1]"
   ]
  },
  {
   "cell_type": "code",
   "execution_count": 76,
   "id": "b21a6c3c",
   "metadata": {},
   "outputs": [
    {
     "data": {
      "text/plain": [
       "array([[ 5, 23,  7,  8]])"
      ]
     },
     "execution_count": 76,
     "metadata": {},
     "output_type": "execute_result"
    }
   ],
   "source": [
    "arr3[0,1:]    # arr3[0,1]"
   ]
  },
  {
   "cell_type": "code",
   "execution_count": 79,
   "id": "4b80cf6f",
   "metadata": {},
   "outputs": [
    {
     "data": {
      "text/plain": [
       "array([ 5, 23])"
      ]
     },
     "execution_count": 79,
     "metadata": {},
     "output_type": "execute_result"
    }
   ],
   "source": [
    "arr3[0,1,0:2]"
   ]
  },
  {
   "cell_type": "code",
   "execution_count": 80,
   "id": "a3030bd1",
   "metadata": {},
   "outputs": [
    {
     "data": {
      "text/plain": [
       "array([ 5, 23])"
      ]
     },
     "execution_count": 80,
     "metadata": {},
     "output_type": "execute_result"
    }
   ],
   "source": [
    "arr3[0,1][0:2]"
   ]
  },
  {
   "cell_type": "code",
   "execution_count": 82,
   "id": "0baf0a7e",
   "metadata": {},
   "outputs": [
    {
     "ename": "SyntaxError",
     "evalue": "invalid syntax (4019501843.py, line 1)",
     "output_type": "error",
     "traceback": [
      "\u001b[1;36m  Cell \u001b[1;32mIn[82], line 1\u001b[1;36m\u001b[0m\n\u001b[1;33m    arr3[0,1,[0:2]]\u001b[0m\n\u001b[1;37m               ^\u001b[0m\n\u001b[1;31mSyntaxError\u001b[0m\u001b[1;31m:\u001b[0m invalid syntax\n"
     ]
    }
   ],
   "source": [
    "arr3[0,1,[0:2]]"
   ]
  },
  {
   "cell_type": "code",
   "execution_count": null,
   "id": "a16e108f",
   "metadata": {},
   "outputs": [],
   "source": [
    "# Quiz\n",
    "\n",
    "\n",
    "#create a matrix 3x4 , 10 to 500"
   ]
  },
  {
   "cell_type": "code",
   "execution_count": 83,
   "id": "44950c3b",
   "metadata": {},
   "outputs": [],
   "source": [
    "arr4=np.linspace(10,500,12)"
   ]
  },
  {
   "cell_type": "code",
   "execution_count": 84,
   "id": "088e8775",
   "metadata": {},
   "outputs": [
    {
     "data": {
      "text/plain": [
       "array([ 10.        ,  54.54545455,  99.09090909, 143.63636364,\n",
       "       188.18181818, 232.72727273, 277.27272727, 321.81818182,\n",
       "       366.36363636, 410.90909091, 455.45454545, 500.        ])"
      ]
     },
     "execution_count": 84,
     "metadata": {},
     "output_type": "execute_result"
    }
   ],
   "source": [
    "arr4"
   ]
  },
  {
   "cell_type": "code",
   "execution_count": 85,
   "id": "2a34c5b1",
   "metadata": {},
   "outputs": [
    {
     "data": {
      "text/plain": [
       "array([[ 10.        ,  54.54545455,  99.09090909, 143.63636364],\n",
       "       [188.18181818, 232.72727273, 277.27272727, 321.81818182],\n",
       "       [366.36363636, 410.90909091, 455.45454545, 500.        ]])"
      ]
     },
     "execution_count": 85,
     "metadata": {},
     "output_type": "execute_result"
    }
   ],
   "source": [
    "arr4.reshape(3,4)"
   ]
  },
  {
   "cell_type": "code",
   "execution_count": 86,
   "id": "f5c109c4",
   "metadata": {},
   "outputs": [
    {
     "data": {
      "text/plain": [
       "array([[ 10.        ],\n",
       "       [ 54.54545455],\n",
       "       [ 99.09090909],\n",
       "       [143.63636364],\n",
       "       [188.18181818],\n",
       "       [232.72727273],\n",
       "       [277.27272727],\n",
       "       [321.81818182],\n",
       "       [366.36363636],\n",
       "       [410.90909091],\n",
       "       [455.45454545],\n",
       "       [500.        ]])"
      ]
     },
     "execution_count": 86,
     "metadata": {},
     "output_type": "execute_result"
    }
   ],
   "source": [
    "arr4.reshape(12,1)"
   ]
  },
  {
   "cell_type": "code",
   "execution_count": 87,
   "id": "d4d086b8",
   "metadata": {},
   "outputs": [
    {
     "data": {
      "text/plain": [
       "array([[[ 10.        ,  54.54545455],\n",
       "        [ 99.09090909, 143.63636364],\n",
       "        [188.18181818, 232.72727273]],\n",
       "\n",
       "       [[277.27272727, 321.81818182],\n",
       "        [366.36363636, 410.90909091],\n",
       "        [455.45454545, 500.        ]]])"
      ]
     },
     "execution_count": 87,
     "metadata": {},
     "output_type": "execute_result"
    }
   ],
   "source": [
    "arr4.reshape(2,3,2)"
   ]
  },
  {
   "cell_type": "code",
   "execution_count": null,
   "id": "e0ff23f7",
   "metadata": {},
   "outputs": [],
   "source": [
    "# create a 7*9 matrix where allthe elements are random"
   ]
  },
  {
   "cell_type": "code",
   "execution_count": 88,
   "id": "b1a1c1b9",
   "metadata": {},
   "outputs": [],
   "source": [
    "arr=np.random.randint(1,15,size=(7,9))"
   ]
  },
  {
   "cell_type": "code",
   "execution_count": 89,
   "id": "55e2dd56",
   "metadata": {},
   "outputs": [
    {
     "data": {
      "text/plain": [
       "array([[10, 13,  2, 14, 14,  8,  1, 11,  5],\n",
       "       [14,  9,  6, 11,  9, 11,  5, 14,  8],\n",
       "       [14,  8,  1, 14,  9, 11, 12,  5,  5],\n",
       "       [ 1,  9,  9,  6,  1,  9, 14, 12,  7],\n",
       "       [ 9, 10,  8, 11,  1,  6,  6, 12,  7],\n",
       "       [ 3, 10,  7, 13,  1, 10,  1,  5,  5],\n",
       "       [ 7, 10, 14,  5,  1, 13, 13,  7,  5]])"
      ]
     },
     "execution_count": 89,
     "metadata": {},
     "output_type": "execute_result"
    }
   ],
   "source": [
    "arr"
   ]
  },
  {
   "cell_type": "code",
   "execution_count": 90,
   "id": "2fd0fcc2",
   "metadata": {},
   "outputs": [],
   "source": [
    "arr=np.random.rand(63).reshape(7,9)"
   ]
  },
  {
   "cell_type": "code",
   "execution_count": 91,
   "id": "1834b15e",
   "metadata": {},
   "outputs": [
    {
     "data": {
      "text/plain": [
       "array([[0.62178397, 0.2140841 , 0.27882203, 0.73004131, 0.2086905 ,\n",
       "        0.2629794 , 0.19310981, 0.76377743, 0.02614771],\n",
       "       [0.41919493, 0.08729019, 0.10430495, 0.52758876, 0.93308498,\n",
       "        0.73125098, 0.12048553, 0.15047007, 0.39293846],\n",
       "       [0.01506562, 0.95858087, 0.87886286, 0.60029561, 0.87752954,\n",
       "        0.92734656, 0.81675196, 0.1976763 , 0.90342784],\n",
       "       [0.27921554, 0.49668774, 0.40487392, 0.24883584, 0.26985505,\n",
       "        0.11935769, 0.99926441, 0.39530311, 0.57931227],\n",
       "       [0.73064784, 0.08089301, 0.30466339, 0.73795897, 0.1326606 ,\n",
       "        0.62189835, 0.24125481, 0.17835785, 0.07120376],\n",
       "       [0.52814992, 0.59418388, 0.61070495, 0.24256557, 0.04900772,\n",
       "        0.14627135, 0.98365568, 0.9928747 , 0.29257095],\n",
       "       [0.51749129, 0.91302114, 0.27003798, 0.04823677, 0.88717073,\n",
       "        0.92000218, 0.02423931, 0.73716571, 0.14238326]])"
      ]
     },
     "execution_count": 91,
     "metadata": {},
     "output_type": "execute_result"
    }
   ],
   "source": [
    "arr\n"
   ]
  },
  {
   "cell_type": "code",
   "execution_count": 92,
   "id": "e73a840b",
   "metadata": {},
   "outputs": [
    {
     "data": {
      "text/plain": [
       "array([[1, 2, 3, 4],\n",
       "       [5, 6, 7, 8],\n",
       "       [1, 3, 5, 7]])"
      ]
     },
     "execution_count": 92,
     "metadata": {},
     "output_type": "execute_result"
    }
   ],
   "source": [
    "arr2"
   ]
  },
  {
   "cell_type": "code",
   "execution_count": 2,
   "id": "3f52407c",
   "metadata": {},
   "outputs": [],
   "source": [
    "arr2d=np.array([15,16,17,18])\n",
    "arr2dd=np.array([15,16,17,18])"
   ]
  },
  {
   "cell_type": "code",
   "execution_count": 3,
   "id": "40122116",
   "metadata": {},
   "outputs": [
    {
     "data": {
      "text/plain": [
       "array([15, 16, 17, 18, 15, 16, 17, 18])"
      ]
     },
     "execution_count": 3,
     "metadata": {},
     "output_type": "execute_result"
    }
   ],
   "source": [
    "np.append(arr2d,arr2dd) "
   ]
  },
  {
   "cell_type": "code",
   "execution_count": 4,
   "id": "0e06323b",
   "metadata": {},
   "outputs": [],
   "source": [
    "arrop =np.array([[1,2,3,4],[5,6,7,8],[1,3,5,7]])\n",
    "arrpo =np.array([[1,2,3,4],[5,6,7,8],[1,3,5,7]])"
   ]
  },
  {
   "cell_type": "code",
   "execution_count": 106,
   "id": "1a642142",
   "metadata": {},
   "outputs": [
    {
     "data": {
      "text/plain": [
       "array([[1, 2, 3, 4],\n",
       "       [5, 6, 7, 8],\n",
       "       [1, 3, 5, 7],\n",
       "       [1, 2, 3, 4],\n",
       "       [5, 6, 7, 8],\n",
       "       [1, 3, 5, 7]])"
      ]
     },
     "execution_count": 106,
     "metadata": {},
     "output_type": "execute_result"
    }
   ],
   "source": [
    "np.append(arrop,arrpo,axis=0)    # dimensional is same "
   ]
  },
  {
   "cell_type": "code",
   "execution_count": 108,
   "id": "5ca9600b",
   "metadata": {},
   "outputs": [
    {
     "data": {
      "text/plain": [
       "array([[ 2,  4,  6,  8],\n",
       "       [10, 12, 14, 16],\n",
       "       [ 2,  6, 10, 14]])"
      ]
     },
     "execution_count": 108,
     "metadata": {},
     "output_type": "execute_result"
    }
   ],
   "source": [
    "arrop+arrpo    # add the corresponding element "
   ]
  },
  {
   "cell_type": "code",
   "execution_count": 109,
   "id": "b61310e6",
   "metadata": {},
   "outputs": [
    {
     "data": {
      "text/plain": [
       "[1, 2, 3, 1, 1, 1]"
      ]
     },
     "execution_count": 109,
     "metadata": {},
     "output_type": "execute_result"
    }
   ],
   "source": [
    "list1=[1,2,3]\n",
    "list2=[1,1,1]\n",
    "list1+list2    # this will concatenate list1 and list2"
   ]
  },
  {
   "cell_type": "code",
   "execution_count": 110,
   "id": "2638ee30",
   "metadata": {},
   "outputs": [
    {
     "data": {
      "text/plain": [
       "array([[11, 12, 13, 14],\n",
       "       [15, 16, 17, 18],\n",
       "       [11, 13, 15, 17]])"
      ]
     },
     "execution_count": 110,
     "metadata": {},
     "output_type": "execute_result"
    }
   ],
   "source": [
    "arrop+10     # each element of array add 10 value      "
   ]
  },
  {
   "cell_type": "code",
   "execution_count": 111,
   "id": "9563c895",
   "metadata": {},
   "outputs": [
    {
     "data": {
      "text/plain": [
       "array([[10, 20, 30, 40],\n",
       "       [50, 60, 70, 80],\n",
       "       [10, 30, 50, 70]])"
      ]
     },
     "execution_count": 111,
     "metadata": {},
     "output_type": "execute_result"
    }
   ],
   "source": [
    "arrop *10   # all element is multiply by 10 "
   ]
  },
  {
   "cell_type": "code",
   "execution_count": 112,
   "id": "da54394c",
   "metadata": {},
   "outputs": [
    {
     "data": {
      "text/plain": [
       "array([[0.1, 0.2, 0.3, 0.4],\n",
       "       [0.5, 0.6, 0.7, 0.8],\n",
       "       [0.1, 0.3, 0.5, 0.7]])"
      ]
     },
     "execution_count": 112,
     "metadata": {},
     "output_type": "execute_result"
    }
   ],
   "source": [
    "arrop/10"
   ]
  },
  {
   "cell_type": "code",
   "execution_count": 113,
   "id": "77d78c1d",
   "metadata": {},
   "outputs": [
    {
     "data": {
      "text/plain": [
       "array([[ 1,  4,  9, 16],\n",
       "       [25, 36, 49, 64],\n",
       "       [ 1,  9, 25, 49]])"
      ]
     },
     "execution_count": 113,
     "metadata": {},
     "output_type": "execute_result"
    }
   ],
   "source": [
    "arrop **2"
   ]
  },
  {
   "cell_type": "code",
   "execution_count": 114,
   "id": "707e2c71",
   "metadata": {},
   "outputs": [
    {
     "data": {
      "text/plain": [
       "array([[-1,  0,  1,  2],\n",
       "       [ 3,  4,  5,  6],\n",
       "       [-1,  1,  3,  5]])"
      ]
     },
     "execution_count": 114,
     "metadata": {},
     "output_type": "execute_result"
    }
   ],
   "source": [
    "arrop-2"
   ]
  },
  {
   "cell_type": "code",
   "execution_count": 115,
   "id": "7080a4fc",
   "metadata": {},
   "outputs": [
    {
     "data": {
      "text/plain": [
       "array([[ 1,  4,  9, 16],\n",
       "       [25, 36, 49, 64],\n",
       "       [ 1,  9, 25, 49]])"
      ]
     },
     "execution_count": 115,
     "metadata": {},
     "output_type": "execute_result"
    }
   ],
   "source": [
    "arrop * arrpo   # it will be cross multi\n",
    "\n",
    "# 2type - cross and dot multiplecation "
   ]
  }
 ],
 "metadata": {
  "kernelspec": {
   "display_name": "Python 3 (ipykernel)",
   "language": "python",
   "name": "python3"
  },
  "language_info": {
   "codemirror_mode": {
    "name": "ipython",
    "version": 3
   },
   "file_extension": ".py",
   "mimetype": "text/x-python",
   "name": "python",
   "nbconvert_exporter": "python",
   "pygments_lexer": "ipython3",
   "version": "3.11.5"
  }
 },
 "nbformat": 4,
 "nbformat_minor": 5
}
