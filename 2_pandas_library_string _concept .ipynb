{
 "cells": [
  {
   "cell_type": "code",
   "execution_count": 1,
   "id": "c02d64f7",
   "metadata": {},
   "outputs": [
    {
     "name": "stderr",
     "output_type": "stream",
     "text": [
      "C:\\Users\\asus\\AppData\\Roaming\\Python\\Python311\\site-packages\\pandas\\core\\arrays\\masked.py:60: UserWarning: Pandas requires version '1.3.6' or newer of 'bottleneck' (version '1.3.5' currently installed).\n",
      "  from pandas.core import (\n"
     ]
    }
   ],
   "source": [
    "import pandas as pd"
   ]
  },
  {
   "cell_type": "code",
   "execution_count": 3,
   "id": "90dd3e87",
   "metadata": {},
   "outputs": [],
   "source": [
    "string_name=pd.Series([\"priyesh mishra\",\"shivam singh\",\"akash pandey\",\"vikas singh\",\"sanjeet gupta\"])\n",
    "string_prof=pd.Series((\"Fresher\",\"M.Tech Nit\",\"Quality Assurance\",\"Software Engineering\",\"Backend Developer\"))\n",
    "string_dept=pd.Series([\"cse\",'it','ee','ece','mechanical'])"
   ]
  },
  {
   "cell_type": "code",
   "execution_count": 4,
   "id": "d8b0a615",
   "metadata": {},
   "outputs": [],
   "source": [
    "df=pd.DataFrame()"
   ]
  },
  {
   "cell_type": "code",
   "execution_count": 5,
   "id": "0c6f2ebe",
   "metadata": {},
   "outputs": [],
   "source": [
    "df['col1']=string_name\n",
    "df['col2']=string_prof\n",
    "df['col3']=string_dept"
   ]
  },
  {
   "cell_type": "code",
   "execution_count": 6,
   "id": "67d0474f",
   "metadata": {},
   "outputs": [
    {
     "data": {
      "text/html": [
       "<div>\n",
       "<style scoped>\n",
       "    .dataframe tbody tr th:only-of-type {\n",
       "        vertical-align: middle;\n",
       "    }\n",
       "\n",
       "    .dataframe tbody tr th {\n",
       "        vertical-align: top;\n",
       "    }\n",
       "\n",
       "    .dataframe thead th {\n",
       "        text-align: right;\n",
       "    }\n",
       "</style>\n",
       "<table border=\"1\" class=\"dataframe\">\n",
       "  <thead>\n",
       "    <tr style=\"text-align: right;\">\n",
       "      <th></th>\n",
       "      <th>col1</th>\n",
       "      <th>col2</th>\n",
       "      <th>col3</th>\n",
       "    </tr>\n",
       "  </thead>\n",
       "  <tbody>\n",
       "    <tr>\n",
       "      <th>0</th>\n",
       "      <td>priyesh mishra</td>\n",
       "      <td>Fresher</td>\n",
       "      <td>cse</td>\n",
       "    </tr>\n",
       "    <tr>\n",
       "      <th>1</th>\n",
       "      <td>shivam singh</td>\n",
       "      <td>M.Tech Nit</td>\n",
       "      <td>it</td>\n",
       "    </tr>\n",
       "    <tr>\n",
       "      <th>2</th>\n",
       "      <td>akash pandey</td>\n",
       "      <td>Quality Assurance</td>\n",
       "      <td>ee</td>\n",
       "    </tr>\n",
       "    <tr>\n",
       "      <th>3</th>\n",
       "      <td>vikas singh</td>\n",
       "      <td>Software Engineering</td>\n",
       "      <td>ece</td>\n",
       "    </tr>\n",
       "    <tr>\n",
       "      <th>4</th>\n",
       "      <td>sanjeet gupta</td>\n",
       "      <td>Backend Developer</td>\n",
       "      <td>mechanical</td>\n",
       "    </tr>\n",
       "  </tbody>\n",
       "</table>\n",
       "</div>"
      ],
      "text/plain": [
       "             col1                  col2        col3\n",
       "0  priyesh mishra               Fresher         cse\n",
       "1    shivam singh            M.Tech Nit          it\n",
       "2    akash pandey     Quality Assurance          ee\n",
       "3     vikas singh  Software Engineering         ece\n",
       "4   sanjeet gupta     Backend Developer  mechanical"
      ]
     },
     "execution_count": 6,
     "metadata": {},
     "output_type": "execute_result"
    }
   ],
   "source": [
    "df"
   ]
  },
  {
   "cell_type": "markdown",
   "id": "cf7f5930",
   "metadata": {},
   "source": [
    "##### COLUMNS"
   ]
  },
  {
   "cell_type": "code",
   "execution_count": 14,
   "id": "4edbb15c",
   "metadata": {},
   "outputs": [
    {
     "data": {
      "text/plain": [
       "0                 fresher\n",
       "1              m.tech nit\n",
       "2       quality assurance\n",
       "3    software engineering\n",
       "4       backend developer\n",
       "Name: col2, dtype: object"
      ]
     },
     "execution_count": 14,
     "metadata": {},
     "output_type": "execute_result"
    }
   ],
   "source": [
    "#df.col2.str.lower()\n",
    "df['col2'].str.lower()"
   ]
  },
  {
   "cell_type": "code",
   "execution_count": 16,
   "id": "a526cf7b",
   "metadata": {},
   "outputs": [
    {
     "data": {
      "text/plain": [
       "0    PRIYESH MISHRA\n",
       "1      SHIVAM SINGH\n",
       "2      AKASH PANDEY\n",
       "3       VIKAS SINGH\n",
       "4     SANJEET GUPTA\n",
       "Name: col1, dtype: object"
      ]
     },
     "execution_count": 16,
     "metadata": {},
     "output_type": "execute_result"
    }
   ],
   "source": [
    "df['col1'].str.upper()"
   ]
  },
  {
   "cell_type": "code",
   "execution_count": 32,
   "id": "c7d0ebc4",
   "metadata": {},
   "outputs": [
    {
     "data": {
      "text/plain": [
       "0    False\n",
       "1    False\n",
       "2    False\n",
       "3    False\n",
       "4    False\n",
       "Name: col1, dtype: bool"
      ]
     },
     "execution_count": 32,
     "metadata": {},
     "output_type": "execute_result"
    }
   ],
   "source": [
    "df['col1'].str.isupper()"
   ]
  },
  {
   "cell_type": "code",
   "execution_count": 33,
   "id": "c08ebd92",
   "metadata": {},
   "outputs": [
    {
     "data": {
      "text/plain": [
       "0    True\n",
       "1    True\n",
       "2    True\n",
       "3    True\n",
       "4    True\n",
       "Name: col3, dtype: bool"
      ]
     },
     "execution_count": 33,
     "metadata": {},
     "output_type": "execute_result"
    }
   ],
   "source": [
    "df['col3'].str.islower()"
   ]
  },
  {
   "cell_type": "code",
   "execution_count": 39,
   "id": "37ee1435",
   "metadata": {},
   "outputs": [
    {
     "data": {
      "text/plain": [
       "0    Priyesh mishra\n",
       "1      Shivam singh\n",
       "2      Akash pandey\n",
       "3       Vikas singh\n",
       "4     Sanjeet gupta\n",
       "Name: col1, dtype: object"
      ]
     },
     "execution_count": 39,
     "metadata": {},
     "output_type": "execute_result"
    }
   ],
   "source": [
    "df['col1'].str.capitalize()"
   ]
  },
  {
   "cell_type": "code",
   "execution_count": 42,
   "id": "54f61161",
   "metadata": {},
   "outputs": [
    {
     "data": {
      "text/plain": [
       "0    Priyesh Mishra\n",
       "1      Shivam Singh\n",
       "2      Akash Pandey\n",
       "3       Vikas Singh\n",
       "4     Sanjeet Gupta\n",
       "Name: col1, dtype: object"
      ]
     },
     "execution_count": 42,
     "metadata": {},
     "output_type": "execute_result"
    }
   ],
   "source": [
    "df['col1'].str.title()"
   ]
  },
  {
   "cell_type": "code",
   "execution_count": 46,
   "id": "5c3b61dc",
   "metadata": {},
   "outputs": [
    {
     "data": {
      "text/plain": [
       "0    [priyesh, mishra]\n",
       "1      [shivam, singh]\n",
       "2      [akash, pandey]\n",
       "3       [vikas, singh]\n",
       "4     [sanjeet, gupta]\n",
       "Name: col1, dtype: object"
      ]
     },
     "execution_count": 46,
     "metadata": {},
     "output_type": "execute_result"
    }
   ],
   "source": [
    "df['col1'].str.split()"
   ]
  },
  {
   "cell_type": "code",
   "execution_count": 47,
   "id": "b2d253c3",
   "metadata": {},
   "outputs": [
    {
     "data": {
      "text/plain": [
       "0           [cse]\n",
       "1            [it]\n",
       "2            [ee]\n",
       "3           [ece]\n",
       "4    [mechanical]\n",
       "Name: col3, dtype: object"
      ]
     },
     "execution_count": 47,
     "metadata": {},
     "output_type": "execute_result"
    }
   ],
   "source": [
    "df['col3'].str.split()"
   ]
  },
  {
   "cell_type": "code",
   "execution_count": 49,
   "id": "f1f0f859",
   "metadata": {},
   "outputs": [
    {
     "data": {
      "text/plain": [
       "0    False\n",
       "1     True\n",
       "2    False\n",
       "3     True\n",
       "4    False\n",
       "Name: col1, dtype: bool"
      ]
     },
     "execution_count": 49,
     "metadata": {},
     "output_type": "execute_result"
    }
   ],
   "source": [
    "df['col1'].str.endswith('gh')"
   ]
  },
  {
   "cell_type": "code",
   "execution_count": 50,
   "id": "ebef3605",
   "metadata": {
    "scrolled": true
   },
   "outputs": [
    {
     "data": {
      "text/plain": [
       "0    False\n",
       "1    False\n",
       "2    False\n",
       "3     True\n",
       "4    False\n",
       "Name: col1, dtype: bool"
      ]
     },
     "execution_count": 50,
     "metadata": {},
     "output_type": "execute_result"
    }
   ],
   "source": [
    "df['col1'].str.startswith('vi')"
   ]
  },
  {
   "cell_type": "code",
   "execution_count": 51,
   "id": "868c78f7",
   "metadata": {},
   "outputs": [
    {
     "data": {
      "text/plain": [
       "0   -1\n",
       "1   -1\n",
       "2    6\n",
       "3   -1\n",
       "4   -1\n",
       "Name: col1, dtype: int64"
      ]
     },
     "execution_count": 51,
     "metadata": {},
     "output_type": "execute_result"
    }
   ],
   "source": [
    "df['col1'].str.find('pan')   #this positon 'p' start in given columnn"
   ]
  },
  {
   "cell_type": "code",
   "execution_count": 56,
   "id": "889e775e",
   "metadata": {},
   "outputs": [
    {
     "data": {
      "text/plain": [
       "0    priyesh mishra\n",
       "1      shivam singh\n",
       "2      akash pandey\n",
       "3       vikas singh\n",
       "4     sanjeet gupta\n",
       "Name: col1, dtype: object"
      ]
     },
     "execution_count": 56,
     "metadata": {},
     "output_type": "execute_result"
    }
   ],
   "source": [
    "df['col1'].str.strip()   #remove leading and trailing Spaces"
   ]
  },
  {
   "cell_type": "code",
   "execution_count": 57,
   "id": "536d9d41",
   "metadata": {},
   "outputs": [
    {
     "data": {
      "text/plain": [
       "0    priyesh mishra\n",
       "1      shivam singh\n",
       "2      akash pandey\n",
       "3       vikas singh\n",
       "4     sanjeet gupta\n",
       "Name: col1, dtype: object"
      ]
     },
     "execution_count": 57,
     "metadata": {},
     "output_type": "execute_result"
    }
   ],
   "source": [
    "df['col1'].str.lstrip()"
   ]
  },
  {
   "cell_type": "code",
   "execution_count": 58,
   "id": "147d33cc",
   "metadata": {},
   "outputs": [
    {
     "data": {
      "text/plain": [
       "0    priyesh mishra\n",
       "1      shivam singh\n",
       "2      akash pandey\n",
       "3       vikas singh\n",
       "4     sanjeet gupta\n",
       "Name: col1, dtype: object"
      ]
     },
     "execution_count": 58,
     "metadata": {},
     "output_type": "execute_result"
    }
   ],
   "source": [
    "df['col1'].str.rstrip()"
   ]
  },
  {
   "cell_type": "code",
   "execution_count": 59,
   "id": "64ef6437",
   "metadata": {},
   "outputs": [
    {
     "data": {
      "text/plain": [
       "0    priyesh mishra\n",
       "1      shivam singh\n",
       "2      akash pandey\n",
       "3       vikas singh\n",
       "4    sanjeet mishra\n",
       "Name: col1, dtype: object"
      ]
     },
     "execution_count": 59,
     "metadata": {},
     "output_type": "execute_result"
    }
   ],
   "source": [
    "df['col1'].str.replace(\"gupta\",\"mishra\")"
   ]
  },
  {
   "cell_type": "code",
   "execution_count": 67,
   "id": "36544eb9",
   "metadata": {},
   "outputs": [
    {
     "data": {
      "text/plain": [
       "0    False\n",
       "1    False\n",
       "2     True\n",
       "3    False\n",
       "4    False\n",
       "Name: col2, dtype: bool"
      ]
     },
     "execution_count": 67,
     "metadata": {},
     "output_type": "execute_result"
    }
   ],
   "source": [
    "df['col2'].str.contains(\"Quality\")"
   ]
  },
  {
   "cell_type": "code",
   "execution_count": 68,
   "id": "de7794aa",
   "metadata": {},
   "outputs": [
    {
     "data": {
      "text/plain": [
       "0    14\n",
       "1    12\n",
       "2    12\n",
       "3    11\n",
       "4    13\n",
       "Name: col1, dtype: int64"
      ]
     },
     "execution_count": 68,
     "metadata": {},
     "output_type": "execute_result"
    }
   ],
   "source": [
    "df['col1'].str.len()"
   ]
  },
  {
   "cell_type": "code",
   "execution_count": 71,
   "id": "7aca2e00",
   "metadata": {},
   "outputs": [
    {
     "data": {
      "text/plain": [
       "'priyesh mishra-,shivam singh-,akash pandey-,vikas singh-,sanjeet gupta'"
      ]
     },
     "execution_count": 71,
     "metadata": {},
     "output_type": "execute_result"
    }
   ],
   "source": [
    "df['col1'].str.cat(sep=\"-,\")"
   ]
  },
  {
   "cell_type": "code",
   "execution_count": 74,
   "id": "c33cce6f",
   "metadata": {},
   "outputs": [
    {
     "data": {
      "text/plain": [
       "0    ****************priyesh mishra\n",
       "1    ******************shivam singh\n",
       "2    ******************akash pandey\n",
       "3    *******************vikas singh\n",
       "4    *****************sanjeet gupta\n",
       "Name: col1, dtype: object"
      ]
     },
     "execution_count": 74,
     "metadata": {},
     "output_type": "execute_result"
    }
   ],
   "source": [
    "df['col1'].str.pad(width=30, side='left', fillchar='*')\n"
   ]
  },
  {
   "cell_type": "code",
   "execution_count": 75,
   "id": "6af0b321",
   "metadata": {},
   "outputs": [
    {
     "data": {
      "text/plain": [
       "0    priyesh mishra$$$$$$\n",
       "1    shivam singh$$$$$$$$\n",
       "2    akash pandey$$$$$$$$\n",
       "3    vikas singh$$$$$$$$$\n",
       "4    sanjeet gupta$$$$$$$\n",
       "Name: col1, dtype: object"
      ]
     },
     "execution_count": 75,
     "metadata": {},
     "output_type": "execute_result"
    }
   ],
   "source": [
    "df['col1'].str.pad(width=20, side='right', fillchar='$')\n"
   ]
  },
  {
   "cell_type": "code",
   "execution_count": 77,
   "id": "569feca6",
   "metadata": {},
   "outputs": [
    {
     "data": {
      "text/plain": [
       "0    0priyesh mishra\n",
       "1    000shivam singh\n",
       "2    000akash pandey\n",
       "3    0000vikas singh\n",
       "4    00sanjeet gupta\n",
       "Name: col1, dtype: object"
      ]
     },
     "execution_count": 77,
     "metadata": {},
     "output_type": "execute_result"
    }
   ],
   "source": [
    "df['col1'].str.zfill(15)  # 15 is the width\n"
   ]
  },
  {
   "cell_type": "code",
   "execution_count": 85,
   "id": "425063f0",
   "metadata": {},
   "outputs": [
    {
     "data": {
      "text/html": [
       "<div>\n",
       "<style scoped>\n",
       "    .dataframe tbody tr th:only-of-type {\n",
       "        vertical-align: middle;\n",
       "    }\n",
       "\n",
       "    .dataframe tbody tr th {\n",
       "        vertical-align: top;\n",
       "    }\n",
       "\n",
       "    .dataframe thead th {\n",
       "        text-align: right;\n",
       "    }\n",
       "</style>\n",
       "<table border=\"1\" class=\"dataframe\">\n",
       "  <thead>\n",
       "    <tr style=\"text-align: right;\">\n",
       "      <th></th>\n",
       "      <th>0</th>\n",
       "    </tr>\n",
       "  </thead>\n",
       "  <tbody>\n",
       "    <tr>\n",
       "      <th>0</th>\n",
       "      <td>priyesh</td>\n",
       "    </tr>\n",
       "    <tr>\n",
       "      <th>1</th>\n",
       "      <td>shivam</td>\n",
       "    </tr>\n",
       "    <tr>\n",
       "      <th>2</th>\n",
       "      <td>akash</td>\n",
       "    </tr>\n",
       "    <tr>\n",
       "      <th>3</th>\n",
       "      <td>vikas</td>\n",
       "    </tr>\n",
       "    <tr>\n",
       "      <th>4</th>\n",
       "      <td>sanjeet</td>\n",
       "    </tr>\n",
       "  </tbody>\n",
       "</table>\n",
       "</div>"
      ],
      "text/plain": [
       "         0\n",
       "0  priyesh\n",
       "1   shivam\n",
       "2    akash\n",
       "3    vikas\n",
       "4  sanjeet"
      ]
     },
     "execution_count": 85,
     "metadata": {},
     "output_type": "execute_result"
    }
   ],
   "source": [
    "df['col1'].str.extract(r'(\\w+)') "
   ]
  },
  {
   "cell_type": "code",
   "execution_count": 90,
   "id": "d48fed3d",
   "metadata": {},
   "outputs": [
    {
     "data": {
      "text/html": [
       "<div>\n",
       "<style scoped>\n",
       "    .dataframe tbody tr th:only-of-type {\n",
       "        vertical-align: middle;\n",
       "    }\n",
       "\n",
       "    .dataframe tbody tr th {\n",
       "        vertical-align: top;\n",
       "    }\n",
       "\n",
       "    .dataframe thead th {\n",
       "        text-align: right;\n",
       "    }\n",
       "</style>\n",
       "<table border=\"1\" class=\"dataframe\">\n",
       "  <thead>\n",
       "    <tr style=\"text-align: right;\">\n",
       "      <th></th>\n",
       "      <th>0</th>\n",
       "    </tr>\n",
       "  </thead>\n",
       "  <tbody>\n",
       "    <tr>\n",
       "      <th>0</th>\n",
       "      <td>NaN</td>\n",
       "    </tr>\n",
       "    <tr>\n",
       "      <th>1</th>\n",
       "      <td>NaN</td>\n",
       "    </tr>\n",
       "    <tr>\n",
       "      <th>2</th>\n",
       "      <td>NaN</td>\n",
       "    </tr>\n",
       "    <tr>\n",
       "      <th>3</th>\n",
       "      <td>NaN</td>\n",
       "    </tr>\n",
       "    <tr>\n",
       "      <th>4</th>\n",
       "      <td>NaN</td>\n",
       "    </tr>\n",
       "  </tbody>\n",
       "</table>\n",
       "</div>"
      ],
      "text/plain": [
       "     0\n",
       "0  NaN\n",
       "1  NaN\n",
       "2  NaN\n",
       "3  NaN\n",
       "4  NaN"
      ]
     },
     "execution_count": 90,
     "metadata": {},
     "output_type": "execute_result"
    }
   ],
   "source": [
    "df['col1'].str.extract(r'(\\d+)')  "
   ]
  },
  {
   "cell_type": "code",
   "execution_count": null,
   "id": "21fa20df",
   "metadata": {},
   "outputs": [],
   "source": [
    "df['col1'].str.count(r'') "
   ]
  },
  {
   "cell_type": "markdown",
   "id": "79d828b5",
   "metadata": {},
   "source": [
    "##### Rows"
   ]
  },
  {
   "cell_type": "code",
   "execution_count": 10,
   "id": "04a75572",
   "metadata": {},
   "outputs": [
    {
     "data": {
      "text/plain": [
       "col1         akash pandey\n",
       "col2    quality assurance\n",
       "col3                   ee\n",
       "Name: 2, dtype: object"
      ]
     },
     "execution_count": 10,
     "metadata": {},
     "output_type": "execute_result"
    }
   ],
   "source": [
    "df.loc[2].str.lower()"
   ]
  },
  {
   "cell_type": "code",
   "execution_count": 17,
   "id": "887be04a",
   "metadata": {
    "scrolled": true
   },
   "outputs": [
    {
     "data": {
      "text/plain": [
       "col1        SANJEET GUPTA\n",
       "col2    BACKEND DEVELOPER\n",
       "col3           MECHANICAL\n",
       "Name: 4, dtype: object"
      ]
     },
     "execution_count": 17,
     "metadata": {},
     "output_type": "execute_result"
    }
   ],
   "source": [
    "df.loc[4].str.upper()"
   ]
  },
  {
   "cell_type": "code",
   "execution_count": 34,
   "id": "52a6f1e1",
   "metadata": {},
   "outputs": [
    {
     "data": {
      "text/plain": [
       "col1     True\n",
       "col2    False\n",
       "col3     True\n",
       "Name: 1, dtype: bool"
      ]
     },
     "execution_count": 34,
     "metadata": {},
     "output_type": "execute_result"
    }
   ],
   "source": [
    "df.loc[1].str.islower()"
   ]
  },
  {
   "cell_type": "code",
   "execution_count": 40,
   "id": "1a3ad7d6",
   "metadata": {},
   "outputs": [
    {
     "data": {
      "text/plain": [
       "col1             Vikas singh\n",
       "col2    Software engineering\n",
       "col3                     Ece\n",
       "Name: 3, dtype: object"
      ]
     },
     "execution_count": 40,
     "metadata": {},
     "output_type": "execute_result"
    }
   ],
   "source": [
    "df.loc[3].str.capitalize()"
   ]
  },
  {
   "cell_type": "code",
   "execution_count": 66,
   "id": "58a2979f",
   "metadata": {},
   "outputs": [
    {
     "data": {
      "text/plain": [
       "col1         vikas singh\n",
       "col2    Data Engineering\n",
       "col3                 ece\n",
       "Name: 3, dtype: object"
      ]
     },
     "execution_count": 66,
     "metadata": {},
     "output_type": "execute_result"
    }
   ],
   "source": [
    "df.loc[3].str.replace(\"Software\",\"Data\")"
   ]
  },
  {
   "cell_type": "code",
   "execution_count": 44,
   "id": "239b35f7",
   "metadata": {},
   "outputs": [
    {
     "data": {
      "text/plain": [
       "col1    Priyesh Mishra\n",
       "col2           Fresher\n",
       "col3               Cse\n",
       "Name: 0, dtype: object"
      ]
     },
     "execution_count": 44,
     "metadata": {},
     "output_type": "execute_result"
    }
   ],
   "source": [
    "df.loc[0].str.title()"
   ]
  },
  {
   "cell_type": "code",
   "execution_count": 82,
   "id": "d3b18be6",
   "metadata": {},
   "outputs": [
    {
     "data": {
      "text/plain": [
       "col1    p-r-i-y-e-s-h- -m-i-s-h-r-a\n",
       "col2                  F-r-e-s-h-e-r\n",
       "col3                          c-s-e\n",
       "Name: 0, dtype: object"
      ]
     },
     "execution_count": 82,
     "metadata": {},
     "output_type": "execute_result"
    }
   ],
   "source": [
    "df.loc[0].str.join(\"-\")"
   ]
  },
  {
   "cell_type": "markdown",
   "id": "ef647fd1",
   "metadata": {},
   "source": [
    "##### Particular value "
   ]
  },
  {
   "cell_type": "code",
   "execution_count": 26,
   "id": "6adcfbea",
   "metadata": {},
   "outputs": [
    {
     "data": {
      "text/plain": [
       "'CSE'"
      ]
     },
     "execution_count": 26,
     "metadata": {},
     "output_type": "execute_result"
    }
   ],
   "source": [
    "df.loc[0,'col3'].upper()"
   ]
  },
  {
   "cell_type": "code",
   "execution_count": 29,
   "id": "ccccd469",
   "metadata": {},
   "outputs": [
    {
     "data": {
      "text/plain": [
       "'AKASH PANDEY'"
      ]
     },
     "execution_count": 29,
     "metadata": {},
     "output_type": "execute_result"
    }
   ],
   "source": [
    "df.loc[2].col1.upper()"
   ]
  },
  {
   "cell_type": "code",
   "execution_count": 36,
   "id": "4fece5be",
   "metadata": {},
   "outputs": [
    {
     "data": {
      "text/plain": [
       "True"
      ]
     },
     "execution_count": 36,
     "metadata": {},
     "output_type": "execute_result"
    }
   ],
   "source": [
    "df.loc[3,'col3'].islower()"
   ]
  },
  {
   "cell_type": "code",
   "execution_count": 37,
   "id": "59ddaf99",
   "metadata": {},
   "outputs": [
    {
     "data": {
      "text/plain": [
       "False"
      ]
     },
     "execution_count": 37,
     "metadata": {},
     "output_type": "execute_result"
    }
   ],
   "source": [
    "df.loc[2,'col3'].isupper()"
   ]
  },
  {
   "cell_type": "code",
   "execution_count": 41,
   "id": "4468e450",
   "metadata": {},
   "outputs": [
    {
     "data": {
      "text/plain": [
       "'Priyesh mishra'"
      ]
     },
     "execution_count": 41,
     "metadata": {},
     "output_type": "execute_result"
    }
   ],
   "source": [
    "df.loc[0,'col1'].capitalize()"
   ]
  },
  {
   "cell_type": "code",
   "execution_count": 45,
   "id": "e7eab489",
   "metadata": {
    "scrolled": true
   },
   "outputs": [
    {
     "data": {
      "text/plain": [
       "'Shivam singh'"
      ]
     },
     "execution_count": 45,
     "metadata": {},
     "output_type": "execute_result"
    }
   ],
   "source": [
    "df.loc[1,'col1'].capitalize()"
   ]
  },
  {
   "cell_type": "code",
   "execution_count": 52,
   "id": "598484a7",
   "metadata": {},
   "outputs": [
    {
     "data": {
      "text/plain": [
       "['shivam', 'singh']"
      ]
     },
     "execution_count": 52,
     "metadata": {},
     "output_type": "execute_result"
    }
   ],
   "source": [
    "df.loc[1,'col1'].split()"
   ]
  },
  {
   "cell_type": "code",
   "execution_count": 53,
   "id": "191d6699",
   "metadata": {},
   "outputs": [
    {
     "data": {
      "text/plain": [
       "True"
      ]
     },
     "execution_count": 53,
     "metadata": {},
     "output_type": "execute_result"
    }
   ],
   "source": [
    "df.loc[1,'col2'].endswith('it')"
   ]
  },
  {
   "cell_type": "code",
   "execution_count": 54,
   "id": "3209b13c",
   "metadata": {},
   "outputs": [
    {
     "data": {
      "text/plain": [
       "False"
      ]
     },
     "execution_count": 54,
     "metadata": {},
     "output_type": "execute_result"
    }
   ],
   "source": [
    "df.loc[2,'col2'].startswith('qua')"
   ]
  },
  {
   "cell_type": "code",
   "execution_count": 55,
   "id": "798c2962",
   "metadata": {},
   "outputs": [
    {
     "data": {
      "text/plain": [
       "9"
      ]
     },
     "execution_count": 55,
     "metadata": {},
     "output_type": "execute_result"
    }
   ],
   "source": [
    "df.loc[1,'col1'].find('ng')"
   ]
  },
  {
   "cell_type": "code",
   "execution_count": 65,
   "id": "c4594e63",
   "metadata": {},
   "outputs": [
    {
     "data": {
      "text/plain": [
       "'Frontend Developer'"
      ]
     },
     "execution_count": 65,
     "metadata": {},
     "output_type": "execute_result"
    }
   ],
   "source": [
    "df.loc[4,'col2'].replace(\"Backend\",\"Frontend\")"
   ]
  },
  {
   "cell_type": "code",
   "execution_count": null,
   "id": "60d7544a",
   "metadata": {},
   "outputs": [],
   "source": []
  }
 ],
 "metadata": {
  "kernelspec": {
   "display_name": "Python 3 (ipykernel)",
   "language": "python",
   "name": "python3"
  },
  "language_info": {
   "codemirror_mode": {
    "name": "ipython",
    "version": 3
   },
   "file_extension": ".py",
   "mimetype": "text/x-python",
   "name": "python",
   "nbconvert_exporter": "python",
   "pygments_lexer": "ipython3",
   "version": "3.11.5"
  }
 },
 "nbformat": 4,
 "nbformat_minor": 5
}
