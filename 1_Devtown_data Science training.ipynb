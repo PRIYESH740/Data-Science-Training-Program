{
 "cells": [
  {
   "cell_type": "code",
   "execution_count": 1,
   "id": "f028e209",
   "metadata": {},
   "outputs": [],
   "source": [
    "seti={11,3,7,1,8,9}"
   ]
  },
  {
   "cell_type": "code",
   "execution_count": 2,
   "id": "af4c1e3f",
   "metadata": {},
   "outputs": [
    {
     "data": {
      "text/plain": [
       "{1, 3, 7, 8, 9, 11}"
      ]
     },
     "execution_count": 2,
     "metadata": {},
     "output_type": "execute_result"
    }
   ],
   "source": [
    "seti # ascending order"
   ]
  },
  {
   "cell_type": "code",
   "execution_count": 3,
   "id": "beab5d9f",
   "metadata": {},
   "outputs": [],
   "source": [
    "seti={\"apple\",\"mangoes\",\"cherries\"}"
   ]
  },
  {
   "cell_type": "code",
   "execution_count": 4,
   "id": "f3fbef4a",
   "metadata": {},
   "outputs": [
    {
     "data": {
      "text/plain": [
       "{'apple', 'cherries', 'mangoes'}"
      ]
     },
     "execution_count": 4,
     "metadata": {},
     "output_type": "execute_result"
    }
   ],
   "source": [
    "seti"
   ]
  },
  {
   "cell_type": "code",
   "execution_count": 5,
   "id": "5e1914b3",
   "metadata": {},
   "outputs": [],
   "source": [
    "seti={\"apple\",\"mangoes\",\"cherries\",\"Cherries\"}"
   ]
  },
  {
   "cell_type": "code",
   "execution_count": 6,
   "id": "8b604f0f",
   "metadata": {},
   "outputs": [
    {
     "data": {
      "text/plain": [
       "{'Cherries', 'apple', 'cherries', 'mangoes'}"
      ]
     },
     "execution_count": 6,
     "metadata": {},
     "output_type": "execute_result"
    }
   ],
   "source": [
    "seti   # upperCase character having high Precedance than lowerCase"
   ]
  },
  {
   "cell_type": "code",
   "execution_count": 7,
   "id": "daf3b475",
   "metadata": {},
   "outputs": [],
   "source": [
    "stri1=\"Monday\""
   ]
  },
  {
   "cell_type": "code",
   "execution_count": 8,
   "id": "58f1874d",
   "metadata": {},
   "outputs": [
    {
     "name": "stdout",
     "output_type": "stream",
     "text": [
      "Hello\n"
     ]
    }
   ],
   "source": [
    "if stri1:\n",
    "    print(\"Hello\")\n",
    "else:\n",
    "    print(\"bye World\")"
   ]
  },
  {
   "cell_type": "code",
   "execution_count": 3,
   "id": "161aa3e9",
   "metadata": {},
   "outputs": [
    {
     "name": "stdout",
     "output_type": "stream",
     "text": [
      "Www.HackerRaNK.CoM\n"
     ]
    }
   ],
   "source": [
    "string=\"wWW.hACKERrAnk.cOm\"\n",
    "s=\"\"\n",
    "for i in string:\n",
    "    if i.isupper():\n",
    "        s+=i.lower()\n",
    "    else:\n",
    "        s+=i.upper()\n",
    "print(s)\n",
    "    "
   ]
  },
  {
   "cell_type": "markdown",
   "id": "c31c4260",
   "metadata": {},
   "source": [
    "### Check Palindrome"
   ]
  },
  {
   "cell_type": "code",
   "execution_count": 9,
   "id": "75498eab",
   "metadata": {},
   "outputs": [
    {
     "name": "stdout",
     "output_type": "stream",
     "text": [
      "Enter the valid string radixa\n",
      "No\n"
     ]
    }
   ],
   "source": [
    "string=input(\"Enter the valid string \")\n",
    "list=[]\n",
    "s=\"\"\n",
    "for i in string:\n",
    "    list.append(i)\n",
    "list.reverse()\n",
    "\n",
    "for i in list:\n",
    "    s += i\n",
    "    \n",
    "if string==s:\n",
    "    print(\"yes it is palindrome\")\n",
    "else:\n",
    "    print(\"No\")\n"
   ]
  },
  {
   "cell_type": "code",
   "execution_count": 7,
   "id": "c130130b",
   "metadata": {},
   "outputs": [
    {
     "name": "stdout",
     "output_type": "stream",
     "text": [
      "enter the valid radix\n",
      "No\n"
     ]
    }
   ],
   "source": [
    "string1=input(\"enter the valid \")\n",
    "n=len(string1)\n",
    "s=\"\"\n",
    "for i in range(1,n+1):\n",
    "    s+=string1[-i]\n",
    "\n",
    "if string1==s:\n",
    "    print(\"yes it is palindrome\")\n",
    "else:\n",
    "    print(\"No\")"
   ]
  },
  {
   "cell_type": "code",
   "execution_count": 19,
   "id": "dd100c5d",
   "metadata": {},
   "outputs": [
    {
     "name": "stdout",
     "output_type": "stream",
     "text": [
      "12321\n",
      "Yes! it is Palindrome \n"
     ]
    }
   ],
   "source": [
    "var=input()\n",
    "#var1=reversed(var)\n",
    "var1=var[::-1]\n",
    "if var1==var:\n",
    "    print(\"Yes! it is Palindrome \")\n",
    "else: \n",
    "    print(\"No oh my God not palindrome\")\n",
    "    "
   ]
  },
  {
   "cell_type": "markdown",
   "id": "67f7e59e",
   "metadata": {},
   "source": [
    "## Function Concept"
   ]
  },
  {
   "cell_type": "code",
   "execution_count": 3,
   "id": "025cc6ca",
   "metadata": {},
   "outputs": [
    {
     "name": "stdout",
     "output_type": "stream",
     "text": [
      "91\n"
     ]
    }
   ],
   "source": [
    "def advanced(*more):\n",
    "    lis=list(more)\n",
    "    return sum(lis)\n",
    "\n",
    "#main Function\n",
    "ans=advanced(1,2,3,4,5,6,7,8,9,10,11,12,13)\n",
    "print(ans)"
   ]
  },
  {
   "cell_type": "markdown",
   "id": "c8f2297f",
   "metadata": {},
   "source": [
    "# *args return output as tuple \n",
    "# **kwargs return output as dictionary"
   ]
  },
  {
   "cell_type": "code",
   "execution_count": 8,
   "id": "7ac41111",
   "metadata": {},
   "outputs": [
    {
     "name": "stdout",
     "output_type": "stream",
     "text": [
      "{'fruits': ['mangoes', 'oranges', 'grapes'], 'movies': ('Marvel', 'DC', '3 odiots'), 'Meaning': {'express': 'what are you feeling', 'key': 122}}\n"
     ]
    }
   ],
   "source": [
    "def advanced(**kwargs):\n",
    "    print(kwargs)\n",
    "\n",
    "#main Function\n",
    "advanced(fruits=[\"mangoes\",\"oranges\",\"grapes\"], movies=(\"Marvel\",\"DC\",\"3 odiots\"),Meaning={\"express\":\"what are you feeling\",\"key\":122})\n"
   ]
  },
  {
   "cell_type": "code",
   "execution_count": 9,
   "id": "48b2943a",
   "metadata": {},
   "outputs": [],
   "source": [
    "tup=(12,3.4,1+2j,\"nameRaju\",(\"hey buddy\",\"what are feeling\"),[\"apples\",\"mango\",\"grapes\"],{\"x\":12,\"hello\":\"good morning\"})"
   ]
  },
  {
   "cell_type": "code",
   "execution_count": 10,
   "id": "ba1c100a",
   "metadata": {},
   "outputs": [
    {
     "data": {
      "text/plain": [
       "(12,\n",
       " 3.4,\n",
       " (1+2j),\n",
       " 'nameRaju',\n",
       " ('hey buddy', 'what are feeling'),\n",
       " ['apples', 'mango', 'grapes'],\n",
       " {'x': 12, 'hello': 'good morning'})"
      ]
     },
     "execution_count": 10,
     "metadata": {},
     "output_type": "execute_result"
    }
   ],
   "source": [
    "tup"
   ]
  },
  {
   "cell_type": "code",
   "execution_count": 5,
   "id": "8ea23abf",
   "metadata": {},
   "outputs": [
    {
     "data": {
      "text/plain": [
       "4"
      ]
     },
     "execution_count": 5,
     "metadata": {},
     "output_type": "execute_result"
    }
   ],
   "source": [
    "import math\n",
    "math.isqrt(19)"
   ]
  },
  {
   "cell_type": "code",
   "execution_count": 15,
   "id": "5a802476",
   "metadata": {},
   "outputs": [],
   "source": [
    "class Electronic:\n",
    "    def __init__(self,mobile,laptop):\n",
    "        self.mobile=mobile\n",
    "        self.laptop=laptop\n",
    "        print(f\"the mobile is {self.mobile} and laptop is {self.laptop}\")\n",
    "        \n",
    "    def __init__(self,speaker,mac):\n",
    "        self.speaker=speaker\n",
    "        self.mac=mac\n",
    "        print(f\"the speaker is {self.speaker} and mac is {self.mac}\")\n",
    "        \n",
    "    "
   ]
  },
  {
   "cell_type": "code",
   "execution_count": 16,
   "id": "136b6f0c",
   "metadata": {},
   "outputs": [
    {
     "name": "stdout",
     "output_type": "stream",
     "text": [
      "the speaker is iphone and mac is Mac\n"
     ]
    }
   ],
   "source": [
    "obj1=Electronic(\"iphone\",\"Mac\")"
   ]
  },
  {
   "cell_type": "code",
   "execution_count": 21,
   "id": "2aa16349",
   "metadata": {},
   "outputs": [],
   "source": [
    "class Priyesh:\n",
    "    a=4\n",
    "    def __init__(self,num):\n",
    "        self.num=num\n",
    "        \n",
    "    def abcd(self):\n",
    "        print(self.num*self.a)\n",
    "        \n"
   ]
  },
  {
   "cell_type": "code",
   "execution_count": 22,
   "id": "d9bea2de",
   "metadata": {},
   "outputs": [],
   "source": [
    "obj2=Priyesh(4)\n",
    "\n",
    "\n",
    "#Error \n",
    "#output :-16\n",
    "#no output"
   ]
  },
  {
   "cell_type": "code",
   "execution_count": 23,
   "id": "5c2fc966",
   "metadata": {},
   "outputs": [
    {
     "name": "stdout",
     "output_type": "stream",
     "text": [
      "16\n"
     ]
    }
   ],
   "source": [
    "obj2.abcd()"
   ]
  },
  {
   "cell_type": "code",
   "execution_count": 42,
   "id": "c97c9936",
   "metadata": {},
   "outputs": [],
   "source": [
    "class animal:\n",
    "    __a=4\n",
    "    def __init__(self):\n",
    "        print(\"ok, contructor is created right now\")\n",
    "        \n",
    "    def __del__(self):\n",
    "        print(\"ok, destructor is used to detroy the constructor\")"
   ]
  },
  {
   "cell_type": "code",
   "execution_count": 41,
   "id": "e90378b1",
   "metadata": {},
   "outputs": [
    {
     "name": "stdout",
     "output_type": "stream",
     "text": [
      "ok, contructor is created right now\n"
     ]
    }
   ],
   "source": [
    "hello=animal()     #destructor is not call by default (automatically)"
   ]
  },
  {
   "cell_type": "code",
   "execution_count": 39,
   "id": "6c30f87a",
   "metadata": {},
   "outputs": [
    {
     "ename": "AttributeError",
     "evalue": "'animal' object has no attribute '__a'",
     "output_type": "error",
     "traceback": [
      "\u001b[1;31m---------------------------------------------------------------------------\u001b[0m",
      "\u001b[1;31mAttributeError\u001b[0m                            Traceback (most recent call last)",
      "Cell \u001b[1;32mIn[39], line 1\u001b[0m\n\u001b[1;32m----> 1\u001b[0m hello\u001b[38;5;241m.\u001b[39m__a\n",
      "\u001b[1;31mAttributeError\u001b[0m: 'animal' object has no attribute '__a'"
     ]
    }
   ],
   "source": [
    "hello.__a\n"
   ]
  },
  {
   "cell_type": "code",
   "execution_count": 40,
   "id": "50638dd1",
   "metadata": {},
   "outputs": [],
   "source": [
    "del hello"
   ]
  },
  {
   "cell_type": "code",
   "execution_count": 57,
   "id": "dcac30e4",
   "metadata": {},
   "outputs": [],
   "source": [
    "class Animal:\n",
    "    __a=4\n",
    "    def speak(self):\n",
    "        print(f\"a is {type(self.__a)}\")\n",
    "        print(f\"a is {self.__a +1}\")\n",
    "        "
   ]
  },
  {
   "cell_type": "code",
   "execution_count": 58,
   "id": "d33cc3a4",
   "metadata": {},
   "outputs": [],
   "source": [
    "attribute=Animal()"
   ]
  },
  {
   "cell_type": "code",
   "execution_count": 59,
   "id": "0ecebaa4",
   "metadata": {},
   "outputs": [
    {
     "name": "stdout",
     "output_type": "stream",
     "text": [
      "a is <class 'int'>\n",
      "a is 5\n"
     ]
    }
   ],
   "source": [
    "attribute.speak()"
   ]
  },
  {
   "cell_type": "markdown",
   "id": "cdca316c",
   "metadata": {},
   "source": [
    "## File handling"
   ]
  },
  {
   "cell_type": "code",
   "execution_count": 41,
   "id": "90c2b8b9",
   "metadata": {},
   "outputs": [],
   "source": [
    "f=open(\"C:/Users/asus/Documents/MY_NAME.txt\")"
   ]
  },
  {
   "cell_type": "code",
   "execution_count": 37,
   "id": "5689e714",
   "metadata": {},
   "outputs": [
    {
     "data": {
      "text/plain": [
       "<_io.TextIOWrapper name='C:/Users/asus/Documents/MY_NAME.txt' mode='r' encoding='cp1252'>"
      ]
     },
     "execution_count": 37,
     "metadata": {},
     "output_type": "execute_result"
    }
   ],
   "source": [
    "f"
   ]
  },
  {
   "cell_type": "code",
   "execution_count": 30,
   "id": "e57ec2d1",
   "metadata": {},
   "outputs": [
    {
     "data": {
      "text/plain": [
       "' Priyesh M'"
      ]
     },
     "execution_count": 30,
     "metadata": {},
     "output_type": "execute_result"
    }
   ],
   "source": [
    "f.read(10)"
   ]
  },
  {
   "cell_type": "code",
   "execution_count": 31,
   "id": "3f63a4b5",
   "metadata": {},
   "outputs": [
    {
     "data": {
      "text/plain": [
       "'ishra and '"
      ]
     },
     "execution_count": 31,
     "metadata": {},
     "output_type": "execute_result"
    }
   ],
   "source": [
    " f.read(10)"
   ]
  },
  {
   "cell_type": "code",
   "execution_count": 25,
   "id": "b6c784e0",
   "metadata": {},
   "outputs": [],
   "source": [
    "f.close()"
   ]
  },
  {
   "cell_type": "code",
   "execution_count": 32,
   "id": "9613f234",
   "metadata": {},
   "outputs": [
    {
     "data": {
      "text/plain": [
       "30"
      ]
     },
     "execution_count": 32,
     "metadata": {},
     "output_type": "execute_result"
    }
   ],
   "source": [
    "f.tell()"
   ]
  },
  {
   "cell_type": "code",
   "execution_count": 33,
   "id": "08dfe367",
   "metadata": {},
   "outputs": [
    {
     "data": {
      "text/plain": [
       "0"
      ]
     },
     "execution_count": 33,
     "metadata": {},
     "output_type": "execute_result"
    }
   ],
   "source": [
    "f.seek(0)"
   ]
  },
  {
   "cell_type": "code",
   "execution_count": 34,
   "id": "e1263060",
   "metadata": {},
   "outputs": [
    {
     "data": {
      "text/plain": [
       "0"
      ]
     },
     "execution_count": 34,
     "metadata": {},
     "output_type": "execute_result"
    }
   ],
   "source": [
    "f.tell()"
   ]
  },
  {
   "cell_type": "code",
   "execution_count": 35,
   "id": "1bb7ccdc",
   "metadata": {},
   "outputs": [
    {
     "name": "stdout",
     "output_type": "stream",
     "text": [
      "My Name is Priyesh Mishra and I'm from Kushinagar Currently Pursuing Bachelor of Technology in stream of\n",
      "\n",
      "Computer Science Engineering from Veer Bahadur Singh Purwanchal University Jaunpur. During My Engineering i learned lot of\n",
      "\n",
      "technical technlogies with respective programming language knowledge it is important to build the technical\n",
      "\n",
      "concept with the suitable subject learning.Experienced Python developer with good knowledge of\n",
      "\n",
      "developing web pages using HTML, CSS, and JavaScript.\n",
      "\n",
      "\n",
      "\n",
      "2048 is a fun and engaging puzzle game that requires strategic thinking and planning. It's easy to learn but challenging to master, making it a great way to test your problem-solving skills.\n",
      "\n",
      "it have four moves up,down,right ,left .When tiles with the same number collide while sliding, they merge into a single tile with the sum of their values (e.g., 2 + 2 = 4, 4 + 4 = 8). Afterward, a new random tile, either a 2, appears in an empty space on the grid.\n"
     ]
    }
   ],
   "source": [
    "for i in f:\n",
    "    print(i)"
   ]
  },
  {
   "cell_type": "code",
   "execution_count": null,
   "id": "3e790426",
   "metadata": {},
   "outputs": [],
   "source": [
    "content=f.read()\n",
    "for i in content:\n",
    "    # it prints the chracters one by one from the file"
   ]
  },
  {
   "cell_type": "code",
   "execution_count": 42,
   "id": "d1983fd8",
   "metadata": {},
   "outputs": [
    {
     "data": {
      "text/plain": [
       "\"My Name is Priyesh Mishra and I'm from Kushinagar Currently Pursuing Bachelor of Technology in stream of\\n\""
      ]
     },
     "execution_count": 42,
     "metadata": {},
     "output_type": "execute_result"
    }
   ],
   "source": [
    "f.readline()"
   ]
  },
  {
   "cell_type": "code",
   "execution_count": 43,
   "id": "b0e7e38b",
   "metadata": {},
   "outputs": [
    {
     "data": {
      "text/plain": [
       "'Computer Science Engineering from Veer Bahadur Singh Purwanchal University Jaunpur. During My Engineering i learned lot of\\n'"
      ]
     },
     "execution_count": 43,
     "metadata": {},
     "output_type": "execute_result"
    }
   ],
   "source": [
    "f.readline()"
   ]
  },
  {
   "cell_type": "code",
   "execution_count": 44,
   "id": "ff266e38",
   "metadata": {},
   "outputs": [
    {
     "data": {
      "text/plain": [
       "['technical technlogies with respective programming language knowledge it is important to build the technical\\n',\n",
       " 'concept with the suitable subject learning.Experienced Python developer with good knowledge of\\n',\n",
       " 'developing web pages using HTML, CSS, and JavaScript.\\n',\n",
       " '\\n',\n",
       " \"2048 is a fun and engaging puzzle game that requires strategic thinking and planning. It's easy to learn but challenging to master, making it a great way to test your problem-solving skills.\\n\",\n",
       " 'it have four moves up,down,right ,left .When tiles with the same number collide while sliding, they merge into a single tile with the sum of their values (e.g., 2 + 2 = 4, 4 + 4 = 8). Afterward, a new random tile, either a 2, appears in an empty space on the grid.']"
      ]
     },
     "execution_count": 44,
     "metadata": {},
     "output_type": "execute_result"
    }
   ],
   "source": [
    "f.readlines()"
   ]
  },
  {
   "cell_type": "code",
   "execution_count": 45,
   "id": "d3a3a896",
   "metadata": {},
   "outputs": [
    {
     "data": {
      "text/plain": [
       "0"
      ]
     },
     "execution_count": 45,
     "metadata": {},
     "output_type": "execute_result"
    }
   ],
   "source": [
    "f.seek(0)"
   ]
  },
  {
   "cell_type": "code",
   "execution_count": 46,
   "id": "bcf7cb8c",
   "metadata": {},
   "outputs": [],
   "source": [
    "arr=f.readlines()"
   ]
  },
  {
   "cell_type": "code",
   "execution_count": 47,
   "id": "36e4eae8",
   "metadata": {},
   "outputs": [
    {
     "data": {
      "text/plain": [
       "8"
      ]
     },
     "execution_count": 47,
     "metadata": {},
     "output_type": "execute_result"
    }
   ],
   "source": [
    "len(arr)"
   ]
  },
  {
   "cell_type": "code",
   "execution_count": 48,
   "id": "4946a0a0",
   "metadata": {},
   "outputs": [
    {
     "name": "stdout",
     "output_type": "stream",
     "text": [
      "My Name is Priyesh Mishra and I'm from Kushinagar Currently Pursuing Bachelor of Technology in stream of\n",
      "+yes\n",
      "Computer Science Engineering from Veer Bahadur Singh Purwanchal University Jaunpur. During My Engineering i learned lot of\n",
      "+yes\n",
      "technical technlogies with respective programming language knowledge it is important to build the technical\n",
      "+yes\n",
      "concept with the suitable subject learning.Experienced Python developer with good knowledge of\n",
      "+yes\n",
      "developing web pages using HTML, CSS, and JavaScript.\n",
      "+yes\n",
      "\n",
      "+yes\n",
      "2048 is a fun and engaging puzzle game that requires strategic thinking and planning. It's easy to learn but challenging to master, making it a great way to test your problem-solving skills.\n",
      "+yes\n",
      "it have four moves up,down,right ,left .When tiles with the same number collide while sliding, they merge into a single tile with the sum of their values (e.g., 2 + 2 = 4, 4 + 4 = 8). Afterward, a new random tile, either a 2, appears in an empty space on the grid.+yes\n"
     ]
    }
   ],
   "source": [
    "for i in arr:\n",
    "    print(f\"{i}+yes\")"
   ]
  },
  {
   "cell_type": "code",
   "execution_count": null,
   "id": "868d1dab",
   "metadata": {},
   "outputs": [],
   "source": []
  },
  {
   "cell_type": "markdown",
   "id": "d9498e1a",
   "metadata": {},
   "source": [
    "## write"
   ]
  },
  {
   "cell_type": "code",
   "execution_count": 49,
   "id": "3477c62f",
   "metadata": {},
   "outputs": [],
   "source": [
    "f=open(\"C:/Users/asus/Documents/MY_NAME.txt\",\"w\")\n",
    "f.write(\"new avenager is added in this file\")\n",
    "f.close()"
   ]
  },
  {
   "cell_type": "code",
   "execution_count": 51,
   "id": "4f98b606",
   "metadata": {},
   "outputs": [
    {
     "data": {
      "text/plain": [
       "'new avenager is added in this file'"
      ]
     },
     "execution_count": 51,
     "metadata": {},
     "output_type": "execute_result"
    }
   ],
   "source": [
    "f=open(\"C:/Users/asus/Documents/MY_NAME.txt\",\"r\")\n",
    "f.read()"
   ]
  },
  {
   "cell_type": "markdown",
   "id": "da564a75",
   "metadata": {},
   "source": [
    "## append"
   ]
  },
  {
   "cell_type": "code",
   "execution_count": 52,
   "id": "366f1bab",
   "metadata": {},
   "outputs": [],
   "source": [
    "f=open(\"C:/Users/asus/Documents/MY_NAME.txt\",\"a\")\n",
    "f.write(\"*** new avenager is coming soon\")\n",
    "f.close()"
   ]
  },
  {
   "cell_type": "code",
   "execution_count": 53,
   "id": "395a8c70",
   "metadata": {},
   "outputs": [
    {
     "data": {
      "text/plain": [
       "'new avenager is added in this file*** new avenager is coming soon'"
      ]
     },
     "execution_count": 53,
     "metadata": {},
     "output_type": "execute_result"
    }
   ],
   "source": [
    "f=open(\"C:/Users/asus/Documents/MY_NAME.txt\",\"r\")\n",
    "f.read()"
   ]
  },
  {
   "cell_type": "code",
   "execution_count": 54,
   "id": "1b979591",
   "metadata": {},
   "outputs": [],
   "source": [
    "f=open(\"C:/Users/asus/Documents/MY_NAME.txt\",\"a\")\n",
    "f.write(\"*** some avenager is remain in list\\n\")\n",
    "f.close()"
   ]
  },
  {
   "cell_type": "code",
   "execution_count": 55,
   "id": "adb22dd7",
   "metadata": {},
   "outputs": [
    {
     "data": {
      "text/plain": [
       "'new avenager is added in this file*** new avenager is coming soon*** some avenager is remain in list\\n'"
      ]
     },
     "execution_count": 55,
     "metadata": {},
     "output_type": "execute_result"
    }
   ],
   "source": [
    "f=open(\"C:/Users/asus/Documents/MY_NAME.txt\",\"r\")\n",
    "f.read()"
   ]
  },
  {
   "cell_type": "code",
   "execution_count": 61,
   "id": "8eb7efc6",
   "metadata": {},
   "outputs": [],
   "source": [
    "f=open(\"C:/Users/asus/Documents/MY_NAME.txt\",\"r+\")"
   ]
  },
  {
   "cell_type": "code",
   "execution_count": 62,
   "id": "8e3cf81f",
   "metadata": {},
   "outputs": [
    {
     "data": {
      "text/plain": [
       "'Avenager is here dded in this file*** new avenager is coming soon*** some avenager is remain in list\\nAvenager is here Avenager is here '"
      ]
     },
     "execution_count": 62,
     "metadata": {},
     "output_type": "execute_result"
    }
   ],
   "source": [
    "\n",
    "f.write(\"Avenager is here \")\n",
    "f.seek(0)\n",
    "f.read()"
   ]
  },
  {
   "cell_type": "code",
   "execution_count": 63,
   "id": "9b0518dd",
   "metadata": {},
   "outputs": [],
   "source": [
    "f.close()"
   ]
  },
  {
   "cell_type": "code",
   "execution_count": 67,
   "id": "8787b636",
   "metadata": {},
   "outputs": [
    {
     "ename": "FileExistsError",
     "evalue": "[Errno 17] File exists: 'location_of_the_fīle.txt'",
     "output_type": "error",
     "traceback": [
      "\u001b[1;31m---------------------------------------------------------------------------\u001b[0m",
      "\u001b[1;31mFileExistsError\u001b[0m                           Traceback (most recent call last)",
      "Cell \u001b[1;32mIn[67], line 1\u001b[0m\n\u001b[1;32m----> 1\u001b[0m file\u001b[38;5;241m=\u001b[39m\u001b[38;5;28mopen\u001b[39m(\u001b[38;5;124m\"\u001b[39m\u001b[38;5;124mlocation_of_the_fīle.txt\u001b[39m\u001b[38;5;124m\"\u001b[39m,\u001b[38;5;124m'\u001b[39m\u001b[38;5;124mx\u001b[39m\u001b[38;5;124m'\u001b[39m)\n",
      "File \u001b[1;32m~\\anaconda3\\Lib\\site-packages\\IPython\\core\\interactiveshell.py:286\u001b[0m, in \u001b[0;36m_modified_open\u001b[1;34m(file, *args, **kwargs)\u001b[0m\n\u001b[0;32m    279\u001b[0m \u001b[38;5;28;01mif\u001b[39;00m file \u001b[38;5;129;01min\u001b[39;00m {\u001b[38;5;241m0\u001b[39m, \u001b[38;5;241m1\u001b[39m, \u001b[38;5;241m2\u001b[39m}:\n\u001b[0;32m    280\u001b[0m     \u001b[38;5;28;01mraise\u001b[39;00m \u001b[38;5;167;01mValueError\u001b[39;00m(\n\u001b[0;32m    281\u001b[0m         \u001b[38;5;124mf\u001b[39m\u001b[38;5;124m\"\u001b[39m\u001b[38;5;124mIPython won\u001b[39m\u001b[38;5;124m'\u001b[39m\u001b[38;5;124mt let you open fd=\u001b[39m\u001b[38;5;132;01m{\u001b[39;00mfile\u001b[38;5;132;01m}\u001b[39;00m\u001b[38;5;124m by default \u001b[39m\u001b[38;5;124m\"\u001b[39m\n\u001b[0;32m    282\u001b[0m         \u001b[38;5;124m\"\u001b[39m\u001b[38;5;124mas it is likely to crash IPython. If you know what you are doing, \u001b[39m\u001b[38;5;124m\"\u001b[39m\n\u001b[0;32m    283\u001b[0m         \u001b[38;5;124m\"\u001b[39m\u001b[38;5;124myou can use builtins\u001b[39m\u001b[38;5;124m'\u001b[39m\u001b[38;5;124m open.\u001b[39m\u001b[38;5;124m\"\u001b[39m\n\u001b[0;32m    284\u001b[0m     )\n\u001b[1;32m--> 286\u001b[0m \u001b[38;5;28;01mreturn\u001b[39;00m io_open(file, \u001b[38;5;241m*\u001b[39margs, \u001b[38;5;241m*\u001b[39m\u001b[38;5;241m*\u001b[39mkwargs)\n",
      "\u001b[1;31mFileExistsError\u001b[0m: [Errno 17] File exists: 'location_of_the_fīle.txt'"
     ]
    }
   ],
   "source": [
    "file=open(\"location_of_the_fīle.txt\",'x')"
   ]
  },
  {
   "cell_type": "code",
   "execution_count": 66,
   "id": "cab4fc4a",
   "metadata": {},
   "outputs": [
    {
     "ename": "FileExistsError",
     "evalue": "[Errno 17] File exists: 'C:/Users/asus/Documents/MY_NAME.txt'",
     "output_type": "error",
     "traceback": [
      "\u001b[1;31m---------------------------------------------------------------------------\u001b[0m",
      "\u001b[1;31mFileExistsError\u001b[0m                           Traceback (most recent call last)",
      "Cell \u001b[1;32mIn[66], line 1\u001b[0m\n\u001b[1;32m----> 1\u001b[0m f\u001b[38;5;241m=\u001b[39m\u001b[38;5;28mopen\u001b[39m(\u001b[38;5;124m\"\u001b[39m\u001b[38;5;124mC:/Users/asus/Documents/MY_NAME.txt\u001b[39m\u001b[38;5;124m\"\u001b[39m,\u001b[38;5;124m\"\u001b[39m\u001b[38;5;124mx\u001b[39m\u001b[38;5;124m\"\u001b[39m)\n",
      "File \u001b[1;32m~\\anaconda3\\Lib\\site-packages\\IPython\\core\\interactiveshell.py:286\u001b[0m, in \u001b[0;36m_modified_open\u001b[1;34m(file, *args, **kwargs)\u001b[0m\n\u001b[0;32m    279\u001b[0m \u001b[38;5;28;01mif\u001b[39;00m file \u001b[38;5;129;01min\u001b[39;00m {\u001b[38;5;241m0\u001b[39m, \u001b[38;5;241m1\u001b[39m, \u001b[38;5;241m2\u001b[39m}:\n\u001b[0;32m    280\u001b[0m     \u001b[38;5;28;01mraise\u001b[39;00m \u001b[38;5;167;01mValueError\u001b[39;00m(\n\u001b[0;32m    281\u001b[0m         \u001b[38;5;124mf\u001b[39m\u001b[38;5;124m\"\u001b[39m\u001b[38;5;124mIPython won\u001b[39m\u001b[38;5;124m'\u001b[39m\u001b[38;5;124mt let you open fd=\u001b[39m\u001b[38;5;132;01m{\u001b[39;00mfile\u001b[38;5;132;01m}\u001b[39;00m\u001b[38;5;124m by default \u001b[39m\u001b[38;5;124m\"\u001b[39m\n\u001b[0;32m    282\u001b[0m         \u001b[38;5;124m\"\u001b[39m\u001b[38;5;124mas it is likely to crash IPython. If you know what you are doing, \u001b[39m\u001b[38;5;124m\"\u001b[39m\n\u001b[0;32m    283\u001b[0m         \u001b[38;5;124m\"\u001b[39m\u001b[38;5;124myou can use builtins\u001b[39m\u001b[38;5;124m'\u001b[39m\u001b[38;5;124m open.\u001b[39m\u001b[38;5;124m\"\u001b[39m\n\u001b[0;32m    284\u001b[0m     )\n\u001b[1;32m--> 286\u001b[0m \u001b[38;5;28;01mreturn\u001b[39;00m io_open(file, \u001b[38;5;241m*\u001b[39margs, \u001b[38;5;241m*\u001b[39m\u001b[38;5;241m*\u001b[39mkwargs)\n",
      "\u001b[1;31mFileExistsError\u001b[0m: [Errno 17] File exists: 'C:/Users/asus/Documents/MY_NAME.txt'"
     ]
    }
   ],
   "source": [
    "f=open(\"C:/Users/asus/Documents/MY_NAME.txt\",\"x\")"
   ]
  },
  {
   "cell_type": "code",
   "execution_count": 68,
   "id": "fbc01691",
   "metadata": {},
   "outputs": [
    {
     "data": {
      "text/plain": [
       "24"
      ]
     },
     "execution_count": 68,
     "metadata": {},
     "output_type": "execute_result"
    }
   ],
   "source": [
    "file.write(\"laptop is new technology\")"
   ]
  },
  {
   "cell_type": "code",
   "execution_count": 72,
   "id": "5fc9a361",
   "metadata": {},
   "outputs": [
    {
     "data": {
      "text/plain": [
       "'laptop is new technology'"
      ]
     },
     "execution_count": 72,
     "metadata": {},
     "output_type": "execute_result"
    }
   ],
   "source": [
    "file=open(\"location_of_the_fīle.txt\",'r')\n",
    "file.seek(0)\n",
    "file.read()"
   ]
  },
  {
   "cell_type": "code",
   "execution_count": 74,
   "id": "0e1fdf9b",
   "metadata": {},
   "outputs": [],
   "source": [
    "file.close()"
   ]
  },
  {
   "cell_type": "code",
   "execution_count": 75,
   "id": "6848c300",
   "metadata": {},
   "outputs": [],
   "source": [
    "file=open(\"location_of_jupyter.txt\",'x')"
   ]
  },
  {
   "cell_type": "code",
   "execution_count": 76,
   "id": "eece021b",
   "metadata": {},
   "outputs": [
    {
     "data": {
      "text/plain": [
       "0"
      ]
     },
     "execution_count": 76,
     "metadata": {},
     "output_type": "execute_result"
    }
   ],
   "source": [
    "file.write(\"laptop\")\n",
    "file.seek(0)\n",
    "file.write(\"speaker\")\n",
    "file.write(\"Microphone\")\n",
    "file.seek(0)"
   ]
  },
  {
   "cell_type": "code",
   "execution_count": 77,
   "id": "bd0a4268",
   "metadata": {},
   "outputs": [],
   "source": [
    "file.close()"
   ]
  },
  {
   "cell_type": "code",
   "execution_count": 78,
   "id": "c7b37706",
   "metadata": {},
   "outputs": [
    {
     "data": {
      "text/plain": [
       "'speakerMicrophone'"
      ]
     },
     "execution_count": 78,
     "metadata": {},
     "output_type": "execute_result"
    }
   ],
   "source": [
    "file=open(\"location_of_jupyter.txt\",'r')\n",
    "file.read()"
   ]
  },
  {
   "cell_type": "code",
   "execution_count": 80,
   "id": "67874ccc",
   "metadata": {},
   "outputs": [],
   "source": [
    "with open(\"location_of_jupyter.txt\") as f:\n",
    "    f.read()    # here no need of close() to close with automatically done afteer perform the opertion"
   ]
  },
  {
   "cell_type": "code",
   "execution_count": 1,
   "id": "8a77e05f",
   "metadata": {},
   "outputs": [],
   "source": [
    "import os\n",
    "os.remove(\"location_of_jupyter.txt\")\n",
    "os.remove(\"location_of_the_fīle.txt\")"
   ]
  },
  {
   "cell_type": "code",
   "execution_count": 2,
   "id": "b59c0920",
   "metadata": {},
   "outputs": [
    {
     "name": "stdout",
     "output_type": "stream",
     "text": [
      "File is not exist that locations\n"
     ]
    }
   ],
   "source": [
    "import os\n",
    "if os.path.exists(\"location_of_jupyter.txt\"):\n",
    "    os.remove(\"location_of_jupyter.txt\")\n",
    "    \n",
    "else:\n",
    "    print(\"File is not exist that locations\")"
   ]
  },
  {
   "cell_type": "markdown",
   "id": "474b547e",
   "metadata": {},
   "source": [
    "## empty folder is delete using os module rmdir()"
   ]
  },
  {
   "cell_type": "code",
   "execution_count": 6,
   "id": "1186f93d",
   "metadata": {},
   "outputs": [],
   "source": [
    "import os \n",
    "os.rmdir(\"C:/Users/asus/OneDrive/Documents/New folder (2)\")"
   ]
  },
  {
   "cell_type": "markdown",
   "id": "64e3b4e7",
   "metadata": {},
   "source": [
    "### get Current working director"
   ]
  },
  {
   "cell_type": "code",
   "execution_count": 7,
   "id": "d1fa9329",
   "metadata": {},
   "outputs": [
    {
     "name": "stdout",
     "output_type": "stream",
     "text": [
      "C:\\Users\\asus\n"
     ]
    }
   ],
   "source": [
    "import os\n",
    "print(os.getcwd())"
   ]
  },
  {
   "cell_type": "markdown",
   "id": "590afce5",
   "metadata": {},
   "source": [
    "mkdir -> new directory\n",
    "rename() -> rename directory\n",
    "chdir() -> change the current working directory\n",
    "listdir() -> current working directory in listdir()\n"
   ]
  },
  {
   "cell_type": "code",
   "execution_count": 8,
   "id": "1ecf1ed7",
   "metadata": {},
   "outputs": [
    {
     "name": "stdout",
     "output_type": "stream",
     "text": [
      "['-1.14-windows.xml', '-auto_complete_example.ipynb', '.anaconda', '.bash_history', '.conda', '.condarc', '.continuum', '.git-for-windows-updater', '.gitconfig', '.ipynb_checkpoints', '.ipython', '.jupyter', '.lesshst', '.ssh', '.vscode', '1_Devtown_data Science training.ipynb', '1_Devtown_data_Science training mini project cricket match.ipynb', '1_new_revise.ipynb', '2048game.ipynb', '2D lists.ipynb', 'anaconda3', 'AppData', 'Application Data', 'application of complex analysis.ipynb', 'Armstrong number.ipynb', 'assignment 1 list.ipynb', 'Assignment 2 list.ipynb', 'Assignment in linked list.ipynb', 'assignment of linked list2.ipynb', 'assignment of list.ipynb', 'backtracking.ipynb', 'binary search tree1.ipynb', 'Binary search.ipynb', 'binary tree 1.ipynb', 'binarytree Assignment.ipynb', 'binarytree2.ipynb', 'booleans last checkpoint .ipynb', 'BST 2.ipynb', 'champ python.ipynb', 'check prime .ipynb', 'constants.ipynb', 'constants.py', 'Contacts', 'Cookies', 'diamond pattern.ipynb', 'dictionaries and map assignment.ipynb', 'Dictionaries maps.ipynb', 'Documents', 'Downloads', 'DSA REvision .ipynb', 'Dynamic programming 1.ipynb', 'Dynamic programming 2.ipynb', 'Error handling in code.ipynb', 'Favorites', 'feh to Celsius .ipynb', 'functioninstring.ipynb', 'generic tree assignment.ipynb', 'GenericTree Node.ipynb', 'graph 2.ipynb', 'graph.ipynb', 'helloworld.py', 'huffman coding.ipynb', 'IF and Else.ipynb', 'inputof2list.ipynb', 'jupyter notebook contents', 'linear search.ipynb', 'linked list.ipynb', 'linked list2.ipynb', 'Links', 'list part2.ipynb', 'list part3.ipynb', 'list.ipynb', 'Local Settings', 'LogicsFinal.ipynb', 'LogicsFinal.py', 'Music', 'My Documents', 'NetHood', 'new pattern .ipynb', 'NTUSER.DAT', 'ntuser.dat.LOG1', 'ntuser.dat.LOG2', 'NTUSER.DAT{a2332f18-cdbf-11ec-8680-002248483d79}.TM.blf', 'NTUSER.DAT{a2332f18-cdbf-11ec-8680-002248483d79}.TMContainer00000000000000000001.regtrans-ms', 'NTUSER.DAT{a2332f18-cdbf-11ec-8680-002248483d79}.TMContainer00000000000000000002.regtrans-ms', 'ntuser.ini', 'OneDrive', 'oop1 ii.ipynb', 'oop1.ipynb', 'oopII ii.ipynb', 'oopII.ipynb', 'oops youtube.ipynb', 'palindrome.ipynb', 'pattern 2.ipynb', 'pattern.ipynb', 'prime number.ipynb', 'Print all words with freq k last .ipynb', 'PrintHood', 'Priority Queue .ipynb', 'Priority Queue 2.ipynb', 'problem of linked list.ipynb', 'problem solving in dictionary .ipynb', 'problem solving.ipynb', 'Project.ipynb', 'python', 'queue.ipynb', 'queueII.ipynb', 'Recent', 'rectangular pattern.ipynb', 'Recursion -2.ipynb', 'Recursion 3.ipynb', 'recursion assignment .ipynb', 'Resursion.ipynb', 'reversing the list.ipynb', 'Saved Games', 'Searches', 'SendTo', 'stack using array.ipynb', 'Start Menu', 'strings.ipynb', 'Templates', 'Test 3.ipynb', 'test after generic tree.ipynb', 'test2.ipynb', 'ticket system.ipynb', 'time complex .ipynb', 'tuples.ipynb', 'untitled', 'Untitled Folder', 'Untitled.ipynb', 'Untitled1.cpp', 'Untitled1.ipynb', 'Untitled2.cpp', 'Untitled2.ipynb', 'Untitled3.ipynb', 'variable Length input and output .ipynb', 'variables_continued.ipynb', 'Videos', 'Whileloop.ipynb', '__pycache__']\n"
     ]
    }
   ],
   "source": [
    "import os\n",
    "print(os.listdir())"
   ]
  },
  {
   "cell_type": "markdown",
   "id": "a089554c",
   "metadata": {},
   "source": [
    "rmtree() -> use to delete non-empty directory it is harmful for system (in shutil module)"
   ]
  }
 ],
 "metadata": {
  "kernelspec": {
   "display_name": "Python 3 (ipykernel)",
   "language": "python",
   "name": "python3"
  },
  "language_info": {
   "codemirror_mode": {
    "name": "ipython",
    "version": 3
   },
   "file_extension": ".py",
   "mimetype": "text/x-python",
   "name": "python",
   "nbconvert_exporter": "python",
   "pygments_lexer": "ipython3",
   "version": "3.11.5"
  }
 },
 "nbformat": 4,
 "nbformat_minor": 5
}
