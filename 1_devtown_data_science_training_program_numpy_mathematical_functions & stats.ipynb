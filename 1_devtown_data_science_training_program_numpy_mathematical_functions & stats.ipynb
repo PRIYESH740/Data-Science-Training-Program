{
 "cells": [
  {
   "cell_type": "code",
   "execution_count": 2,
   "id": "a1adbfec",
   "metadata": {},
   "outputs": [],
   "source": [
    "import numpy as np"
   ]
  },
  {
   "cell_type": "code",
   "execution_count": 3,
   "id": "deb10c56",
   "metadata": {},
   "outputs": [],
   "source": [
    "arr1=np.array([[1,2,3,4,5],[6,7,8,9,10]])\n",
    "arr2=np.array([[10,9,8,7,6],[5,4,3,2,1]])"
   ]
  },
  {
   "cell_type": "markdown",
   "id": "cda4c7e0",
   "metadata": {},
   "source": [
    "# mathematical functional & stats"
   ]
  },
  {
   "cell_type": "raw",
   "id": "4cb7341c",
   "metadata": {},
   "source": [
    "# addition -> Add two matrices or add an element to A MATRIX"
   ]
  },
  {
   "cell_type": "code",
   "execution_count": 6,
   "id": "49b73f04",
   "metadata": {},
   "outputs": [
    {
     "data": {
      "text/plain": [
       "array([[21, 22, 23, 24, 25],\n",
       "       [26, 27, 28, 29, 30]])"
      ]
     },
     "execution_count": 6,
     "metadata": {},
     "output_type": "execute_result"
    }
   ],
   "source": [
    "#Addiing two matrices\n",
    "arr1 +arr2\n",
    "\n",
    "# Adding an element \n",
    "arr1+20"
   ]
  },
  {
   "cell_type": "code",
   "execution_count": 9,
   "id": "7d94058a",
   "metadata": {},
   "outputs": [],
   "source": [
    "arr3=np.array([1,2,3,4,5])"
   ]
  },
  {
   "cell_type": "code",
   "execution_count": 10,
   "id": "4161e814",
   "metadata": {},
   "outputs": [
    {
     "data": {
      "text/plain": [
       "array([[ 2,  4,  6,  8, 10],\n",
       "       [ 7,  9, 11, 13, 15]])"
      ]
     },
     "execution_count": 10,
     "metadata": {},
     "output_type": "execute_result"
    }
   ],
   "source": [
    "arr1+arr3"
   ]
  },
  {
   "cell_type": "code",
   "execution_count": 11,
   "id": "cb3bb377",
   "metadata": {},
   "outputs": [],
   "source": [
    "# substraction "
   ]
  },
  {
   "cell_type": "code",
   "execution_count": 12,
   "id": "01042848",
   "metadata": {},
   "outputs": [
    {
     "data": {
      "text/plain": [
       "array([[-9, -7, -5, -3, -1],\n",
       "       [ 1,  3,  5,  7,  9]])"
      ]
     },
     "execution_count": 12,
     "metadata": {},
     "output_type": "execute_result"
    }
   ],
   "source": [
    "arr1 -arr2"
   ]
  },
  {
   "cell_type": "code",
   "execution_count": 13,
   "id": "7d51488a",
   "metadata": {},
   "outputs": [
    {
     "data": {
      "text/plain": [
       "array([[-1,  0,  1,  2,  3],\n",
       "       [ 4,  5,  6,  7,  8]])"
      ]
     },
     "execution_count": 13,
     "metadata": {},
     "output_type": "execute_result"
    }
   ],
   "source": [
    "arr1-2"
   ]
  },
  {
   "cell_type": "code",
   "execution_count": 14,
   "id": "27ba78f0",
   "metadata": {},
   "outputs": [
    {
     "data": {
      "text/plain": [
       "array([[0, 0, 0, 0, 0],\n",
       "       [5, 5, 5, 5, 5]])"
      ]
     },
     "execution_count": 14,
     "metadata": {},
     "output_type": "execute_result"
    }
   ],
   "source": [
    "arr1-arr3"
   ]
  },
  {
   "cell_type": "code",
   "execution_count": 15,
   "id": "e9a2a0f3",
   "metadata": {},
   "outputs": [],
   "source": [
    "# division "
   ]
  },
  {
   "cell_type": "code",
   "execution_count": 16,
   "id": "8a1549f6",
   "metadata": {},
   "outputs": [
    {
     "data": {
      "text/plain": [
       "array([[ 0.1       ,  0.22222222,  0.375     ,  0.57142857,  0.83333333],\n",
       "       [ 1.2       ,  1.75      ,  2.66666667,  4.5       , 10.        ]])"
      ]
     },
     "execution_count": 16,
     "metadata": {},
     "output_type": "execute_result"
    }
   ],
   "source": [
    "arr1/arr2"
   ]
  },
  {
   "cell_type": "code",
   "execution_count": 17,
   "id": "a28c56a3",
   "metadata": {},
   "outputs": [
    {
     "data": {
      "text/plain": [
       "array([[1., 1., 1., 1., 1.],\n",
       "       [1., 1., 1., 1., 1.]])"
      ]
     },
     "execution_count": 17,
     "metadata": {},
     "output_type": "execute_result"
    }
   ],
   "source": [
    "arr1/arr1"
   ]
  },
  {
   "cell_type": "code",
   "execution_count": 18,
   "id": "b5a4d61b",
   "metadata": {},
   "outputs": [
    {
     "data": {
      "text/plain": [
       "array([[0.25, 0.5 , 0.75, 1.  , 1.25],\n",
       "       [1.5 , 1.75, 2.  , 2.25, 2.5 ]])"
      ]
     },
     "execution_count": 18,
     "metadata": {},
     "output_type": "execute_result"
    }
   ],
   "source": [
    "arr1/4"
   ]
  },
  {
   "cell_type": "code",
   "execution_count": 19,
   "id": "a2462b00",
   "metadata": {},
   "outputs": [
    {
     "data": {
      "text/plain": [
       "array([[1.        , 1.        , 1.        , 1.        , 1.        ],\n",
       "       [6.        , 3.5       , 2.66666667, 2.25      , 2.        ]])"
      ]
     },
     "execution_count": 19,
     "metadata": {},
     "output_type": "execute_result"
    }
   ],
   "source": [
    "arr1/arr3"
   ]
  },
  {
   "cell_type": "code",
   "execution_count": 20,
   "id": "07d45197",
   "metadata": {},
   "outputs": [],
   "source": [
    "# Exponential"
   ]
  },
  {
   "cell_type": "code",
   "execution_count": 21,
   "id": "163637ba",
   "metadata": {},
   "outputs": [
    {
     "data": {
      "text/plain": [
       "array([[    1,   512,  6561, 16384, 15625],\n",
       "       [ 7776,  2401,   512,    81,    10]])"
      ]
     },
     "execution_count": 21,
     "metadata": {},
     "output_type": "execute_result"
    }
   ],
   "source": [
    "arr1** arr2"
   ]
  },
  {
   "cell_type": "code",
   "execution_count": 22,
   "id": "91ce65c1",
   "metadata": {},
   "outputs": [
    {
     "data": {
      "text/plain": [
       "array([[  1,   4,   9,  16,  25],\n",
       "       [ 36,  49,  64,  81, 100]])"
      ]
     },
     "execution_count": 22,
     "metadata": {},
     "output_type": "execute_result"
    }
   ],
   "source": [
    "arr1 ** 2"
   ]
  },
  {
   "cell_type": "code",
   "execution_count": 23,
   "id": "980419ff",
   "metadata": {},
   "outputs": [],
   "source": [
    "# multiplication "
   ]
  },
  {
   "cell_type": "code",
   "execution_count": 4,
   "id": "c5f7995f",
   "metadata": {
    "scrolled": true
   },
   "outputs": [
    {
     "data": {
      "text/plain": [
       "array([[10, 18, 24, 28, 30],\n",
       "       [30, 28, 24, 18, 10]])"
      ]
     },
     "execution_count": 4,
     "metadata": {},
     "output_type": "execute_result"
    }
   ],
   "source": [
    "arr1 * arr2  #this is across product"
   ]
  },
  {
   "cell_type": "code",
   "execution_count": 5,
   "id": "1003a732",
   "metadata": {},
   "outputs": [
    {
     "data": {
      "text/plain": [
       "array([[ 1,  2,  3,  4,  5],\n",
       "       [ 6,  7,  8,  9, 10]])"
      ]
     },
     "execution_count": 5,
     "metadata": {},
     "output_type": "execute_result"
    }
   ],
   "source": [
    "# dot product \n",
    "\n",
    "arr1"
   ]
  },
  {
   "cell_type": "code",
   "execution_count": 6,
   "id": "399d5b42",
   "metadata": {},
   "outputs": [
    {
     "data": {
      "text/plain": [
       "array([[10,  9,  8,  7,  6],\n",
       "       [ 5,  4,  3,  2,  1]])"
      ]
     },
     "execution_count": 6,
     "metadata": {},
     "output_type": "execute_result"
    }
   ],
   "source": [
    "arr2"
   ]
  },
  {
   "cell_type": "code",
   "execution_count": 9,
   "id": "aa369860",
   "metadata": {},
   "outputs": [],
   "source": [
    "arr3=arr2.reshape(5,2)"
   ]
  },
  {
   "cell_type": "code",
   "execution_count": 11,
   "id": "4e4ec260",
   "metadata": {},
   "outputs": [
    {
     "data": {
      "text/plain": [
       "array([[ 70,  55],\n",
       "       [220, 180]])"
      ]
     },
     "execution_count": 11,
     "metadata": {},
     "output_type": "execute_result"
    }
   ],
   "source": [
    "np.dot(arr1,arr3)"
   ]
  },
  {
   "cell_type": "code",
   "execution_count": 12,
   "id": "204a560c",
   "metadata": {},
   "outputs": [
    {
     "data": {
      "text/plain": [
       "array([[ 64,  83, 102, 121, 140],\n",
       "       [ 50,  65,  80,  95, 110],\n",
       "       [ 36,  47,  58,  69,  80],\n",
       "       [ 22,  29,  36,  43,  50],\n",
       "       [  8,  11,  14,  17,  20]])"
      ]
     },
     "execution_count": 12,
     "metadata": {},
     "output_type": "execute_result"
    }
   ],
   "source": [
    "np.dot(arr3,arr1)"
   ]
  },
  {
   "cell_type": "code",
   "execution_count": 13,
   "id": "147125e6",
   "metadata": {},
   "outputs": [
    {
     "data": {
      "text/plain": [
       "array([[ 70,  55],\n",
       "       [220, 180]])"
      ]
     },
     "execution_count": 13,
     "metadata": {},
     "output_type": "execute_result"
    }
   ],
   "source": [
    "# dot product second method \n",
    "\n",
    "np.matmul(arr1,arr3)"
   ]
  },
  {
   "cell_type": "markdown",
   "id": "6f9310c9",
   "metadata": {},
   "source": [
    "# Determinant "
   ]
  },
  {
   "cell_type": "code",
   "execution_count": 17,
   "id": "6bdf3efc",
   "metadata": {},
   "outputs": [],
   "source": [
    "# square matrix -> no. of row is equal to no. of column \n",
    "detarray=np.array([[-4,10],[0,5]])   #|det| should be square matrix\n",
    "                                     \n",
    "    \n",
    "#det =(4*5) - (-10*0)=-20"
   ]
  },
  {
   "cell_type": "code",
   "execution_count": 18,
   "id": "a686b526",
   "metadata": {},
   "outputs": [
    {
     "data": {
      "text/plain": [
       "'[+ - +]\\n   [- + -]\\n   [+ - +]'"
      ]
     },
     "execution_count": 18,
     "metadata": {},
     "output_type": "execute_result"
    }
   ],
   "source": [
    "'''[+ - +]\n",
    "   [- + -]\n",
    "   [+ - +]'''"
   ]
  },
  {
   "cell_type": "code",
   "execution_count": 19,
   "id": "4657af7d",
   "metadata": {},
   "outputs": [
    {
     "data": {
      "text/plain": [
       "-19.999999999999996"
      ]
     },
     "execution_count": 19,
     "metadata": {},
     "output_type": "execute_result"
    }
   ],
   "source": [
    "np.linalg.det(detarray)"
   ]
  },
  {
   "cell_type": "code",
   "execution_count": 20,
   "id": "886ec7ea",
   "metadata": {},
   "outputs": [],
   "source": [
    "detarray=np.array([[-4,10,6],[0,5,7],[-9,6,0]])   "
   ]
  },
  {
   "cell_type": "code",
   "execution_count": 21,
   "id": "eb775242",
   "metadata": {},
   "outputs": [
    {
     "data": {
      "text/plain": [
       "-192.00000000000017"
      ]
     },
     "execution_count": 21,
     "metadata": {},
     "output_type": "execute_result"
    }
   ],
   "source": [
    "np.linalg.det(detarray)"
   ]
  },
  {
   "cell_type": "markdown",
   "id": "652ba14b",
   "metadata": {},
   "source": [
    "# Inverse of matrix "
   ]
  },
  {
   "cell_type": "code",
   "execution_count": 23,
   "id": "5b884992",
   "metadata": {},
   "outputs": [],
   "source": [
    "arrinv=np.array([[1,2],[3,4]])"
   ]
  },
  {
   "cell_type": "code",
   "execution_count": 24,
   "id": "3f9f83a7",
   "metadata": {},
   "outputs": [
    {
     "data": {
      "text/plain": [
       "array([[-2. ,  1. ],\n",
       "       [ 1.5, -0.5]])"
      ]
     },
     "execution_count": 24,
     "metadata": {},
     "output_type": "execute_result"
    }
   ],
   "source": [
    "np.linalg.inv(arrinv)\n",
    "\n",
    "#inverse of matrix = 1/det(matrix)*adjoint of matrix\n",
    "# adjoint = transpose ( co-facters of the matrix )"
   ]
  },
  {
   "cell_type": "code",
   "execution_count": 25,
   "id": "27409d29",
   "metadata": {
    "scrolled": true
   },
   "outputs": [
    {
     "data": {
      "text/plain": [
       "-2.0000000000000004"
      ]
     },
     "execution_count": 25,
     "metadata": {},
     "output_type": "execute_result"
    }
   ],
   "source": [
    "detmat=np.linalg.det(arrinv)\n",
    "detmat"
   ]
  },
  {
   "cell_type": "code",
   "execution_count": 26,
   "id": "2881a4b1",
   "metadata": {},
   "outputs": [
    {
     "data": {
      "text/plain": [
       "array([[-0.5, -1. ],\n",
       "       [-1.5, -2. ]])"
      ]
     },
     "execution_count": 26,
     "metadata": {},
     "output_type": "execute_result"
    }
   ],
   "source": [
    "#inverse of matrix \n",
    "arrinv/detmat"
   ]
  },
  {
   "cell_type": "markdown",
   "id": "c9ab6825",
   "metadata": {},
   "source": [
    "# Adjoint of the matrix"
   ]
  },
  {
   "cell_type": "code",
   "execution_count": 27,
   "id": "c5ec1236",
   "metadata": {},
   "outputs": [
    {
     "data": {
      "text/plain": [
       "array([[1, 3],\n",
       "       [2, 4]])"
      ]
     },
     "execution_count": 27,
     "metadata": {},
     "output_type": "execute_result"
    }
   ],
   "source": [
    "# transpose\n",
    "\n",
    "arrinv.transpose()\n"
   ]
  },
  {
   "cell_type": "code",
   "execution_count": 32,
   "id": "8bc1bf4a",
   "metadata": {},
   "outputs": [],
   "source": [
    "# reciprocal\n",
    "\n",
    "arreci=np.array([[10,20],[30,40]],dtype='float')"
   ]
  },
  {
   "cell_type": "code",
   "execution_count": 33,
   "id": "0cdbfa4d",
   "metadata": {},
   "outputs": [
    {
     "data": {
      "text/plain": [
       "array([[0.1       , 0.05      ],\n",
       "       [0.03333333, 0.025     ]])"
      ]
     },
     "execution_count": 33,
     "metadata": {},
     "output_type": "execute_result"
    }
   ],
   "source": [
    "np.reciprocal(arreci)"
   ]
  },
  {
   "cell_type": "markdown",
   "id": "c170ba4c",
   "metadata": {},
   "source": [
    "# statistics "
   ]
  },
  {
   "cell_type": "code",
   "execution_count": null,
   "id": "5a08ab08",
   "metadata": {},
   "outputs": [],
   "source": [
    "# distribution ,normal statistics"
   ]
  },
  {
   "cell_type": "code",
   "execution_count": 34,
   "id": "e264053c",
   "metadata": {},
   "outputs": [],
   "source": [
    "statarr=np.array([[20,-9,-40],[0,10,-1],[7,6,34]])"
   ]
  },
  {
   "cell_type": "markdown",
   "id": "3eca9a7b",
   "metadata": {},
   "source": [
    "max()"
   ]
  },
  {
   "cell_type": "code",
   "execution_count": 38,
   "id": "3e755b0f",
   "metadata": {},
   "outputs": [
    {
     "data": {
      "text/plain": [
       "34"
      ]
     },
     "execution_count": 38,
     "metadata": {},
     "output_type": "execute_result"
    }
   ],
   "source": [
    "np.max(statarr)"
   ]
  },
  {
   "cell_type": "code",
   "execution_count": 36,
   "id": "75b62bf6",
   "metadata": {},
   "outputs": [
    {
     "data": {
      "text/plain": [
       "array([20, 10, 34])"
      ]
     },
     "execution_count": 36,
     "metadata": {},
     "output_type": "execute_result"
    }
   ],
   "source": [
    "np.max(statarr,axis=0)"
   ]
  },
  {
   "cell_type": "code",
   "execution_count": 37,
   "id": "1c8e6cb2",
   "metadata": {},
   "outputs": [
    {
     "data": {
      "text/plain": [
       "array([20, 10, 34])"
      ]
     },
     "execution_count": 37,
     "metadata": {},
     "output_type": "execute_result"
    }
   ],
   "source": [
    "np.max(statarr,axis=1)"
   ]
  },
  {
   "cell_type": "markdown",
   "id": "77d22dac",
   "metadata": {},
   "source": [
    "min()"
   ]
  },
  {
   "cell_type": "code",
   "execution_count": 39,
   "id": "e04e35c3",
   "metadata": {},
   "outputs": [
    {
     "data": {
      "text/plain": [
       "-40"
      ]
     },
     "execution_count": 39,
     "metadata": {},
     "output_type": "execute_result"
    }
   ],
   "source": [
    "np.min(statarr)"
   ]
  },
  {
   "cell_type": "code",
   "execution_count": 41,
   "id": "4cb75be3",
   "metadata": {},
   "outputs": [
    {
     "data": {
      "text/plain": [
       "array([  0,  -9, -40])"
      ]
     },
     "execution_count": 41,
     "metadata": {},
     "output_type": "execute_result"
    }
   ],
   "source": [
    "np.min(statarr,axis=0)"
   ]
  },
  {
   "cell_type": "code",
   "execution_count": 42,
   "id": "3908d570",
   "metadata": {},
   "outputs": [
    {
     "data": {
      "text/plain": [
       "array([-40,  -1,   6])"
      ]
     },
     "execution_count": 42,
     "metadata": {},
     "output_type": "execute_result"
    }
   ],
   "source": [
    "np.min(statarr,axis=1)"
   ]
  },
  {
   "cell_type": "markdown",
   "id": "2eb5687b",
   "metadata": {},
   "source": [
    "sum()"
   ]
  },
  {
   "cell_type": "code",
   "execution_count": 43,
   "id": "42cadecc",
   "metadata": {},
   "outputs": [
    {
     "data": {
      "text/plain": [
       "27"
      ]
     },
     "execution_count": 43,
     "metadata": {},
     "output_type": "execute_result"
    }
   ],
   "source": [
    "np.sum(statarr)"
   ]
  },
  {
   "cell_type": "code",
   "execution_count": 44,
   "id": "2f589fca",
   "metadata": {},
   "outputs": [
    {
     "data": {
      "text/plain": [
       "array([27,  7, -7])"
      ]
     },
     "execution_count": 44,
     "metadata": {},
     "output_type": "execute_result"
    }
   ],
   "source": [
    "np.sum(statarr,axis=0)"
   ]
  },
  {
   "cell_type": "code",
   "execution_count": 45,
   "id": "1b829ea5",
   "metadata": {},
   "outputs": [
    {
     "data": {
      "text/plain": [
       "array([-29,   9,  47])"
      ]
     },
     "execution_count": 45,
     "metadata": {},
     "output_type": "execute_result"
    }
   ],
   "source": [
    "np.sum(statarr,axis=1)"
   ]
  },
  {
   "cell_type": "markdown",
   "id": "9e2bc568",
   "metadata": {},
   "source": [
    "argmax()"
   ]
  },
  {
   "cell_type": "code",
   "execution_count": 46,
   "id": "9eeb92c2",
   "metadata": {},
   "outputs": [
    {
     "data": {
      "text/plain": [
       "8"
      ]
     },
     "execution_count": 46,
     "metadata": {},
     "output_type": "execute_result"
    }
   ],
   "source": [
    "np.argmax(statarr)"
   ]
  },
  {
   "cell_type": "code",
   "execution_count": 47,
   "id": "56d6baf3",
   "metadata": {},
   "outputs": [
    {
     "data": {
      "text/plain": [
       "array([[ 20,  -9, -40],\n",
       "       [  0,  10,  -1],\n",
       "       [  7,   6,  34]])"
      ]
     },
     "execution_count": 47,
     "metadata": {},
     "output_type": "execute_result"
    }
   ],
   "source": [
    "statarr"
   ]
  },
  {
   "cell_type": "code",
   "execution_count": 49,
   "id": "e63a0e81",
   "metadata": {},
   "outputs": [
    {
     "data": {
      "text/plain": [
       "2"
      ]
     },
     "execution_count": 49,
     "metadata": {},
     "output_type": "execute_result"
    }
   ],
   "source": [
    "np.argmin(statarr)"
   ]
  },
  {
   "cell_type": "code",
   "execution_count": 50,
   "id": "7f4f5a4d",
   "metadata": {},
   "outputs": [],
   "source": [
    "statarr[1,0]=100\n",
    "statarr[2,1]=-100"
   ]
  },
  {
   "cell_type": "code",
   "execution_count": 51,
   "id": "fef09767",
   "metadata": {},
   "outputs": [
    {
     "data": {
      "text/plain": [
       "7"
      ]
     },
     "execution_count": 51,
     "metadata": {},
     "output_type": "execute_result"
    }
   ],
   "source": [
    "np.argmin(statarr)"
   ]
  },
  {
   "cell_type": "code",
   "execution_count": 52,
   "id": "970df4b2",
   "metadata": {},
   "outputs": [
    {
     "data": {
      "text/plain": [
       "array([1, 1, 2], dtype=int64)"
      ]
     },
     "execution_count": 52,
     "metadata": {},
     "output_type": "execute_result"
    }
   ],
   "source": [
    "np.argmax(statarr,axis=0)"
   ]
  },
  {
   "cell_type": "code",
   "execution_count": 53,
   "id": "3717715e",
   "metadata": {},
   "outputs": [
    {
     "data": {
      "text/plain": [
       "array([0, 0, 2], dtype=int64)"
      ]
     },
     "execution_count": 53,
     "metadata": {},
     "output_type": "execute_result"
    }
   ],
   "source": [
    "np.argmax(statarr,axis=1)"
   ]
  },
  {
   "cell_type": "code",
   "execution_count": 54,
   "id": "a674d9d3",
   "metadata": {},
   "outputs": [
    {
     "data": {
      "text/plain": [
       "array([2, 2, 0], dtype=int64)"
      ]
     },
     "execution_count": 54,
     "metadata": {},
     "output_type": "execute_result"
    }
   ],
   "source": [
    "np.argmin(statarr,axis=0)"
   ]
  },
  {
   "cell_type": "code",
   "execution_count": 55,
   "id": "bf6c6f31",
   "metadata": {},
   "outputs": [
    {
     "data": {
      "text/plain": [
       "array([2, 2, 1], dtype=int64)"
      ]
     },
     "execution_count": 55,
     "metadata": {},
     "output_type": "execute_result"
    }
   ],
   "source": [
    "np.argmin(statarr,axis=1)"
   ]
  },
  {
   "cell_type": "markdown",
   "id": "cb233b73",
   "metadata": {},
   "source": [
    "around()"
   ]
  },
  {
   "cell_type": "code",
   "execution_count": 62,
   "id": "faadaaa2",
   "metadata": {},
   "outputs": [],
   "source": [
    "arr=np.array([3.501,0.98])"
   ]
  },
  {
   "cell_type": "code",
   "execution_count": 64,
   "id": "a13b6757",
   "metadata": {},
   "outputs": [
    {
     "data": {
      "text/plain": [
       "array([3.5, 1. ])"
      ]
     },
     "execution_count": 64,
     "metadata": {},
     "output_type": "execute_result"
    }
   ],
   "source": [
    "np.around(arr,decimals=1)"
   ]
  },
  {
   "cell_type": "code",
   "execution_count": 65,
   "id": "015877c5",
   "metadata": {},
   "outputs": [
    {
     "data": {
      "text/plain": [
       "array([3.501, 0.98 ])"
      ]
     },
     "execution_count": 65,
     "metadata": {},
     "output_type": "execute_result"
    }
   ],
   "source": [
    "np.around(arr,decimals=3)"
   ]
  },
  {
   "cell_type": "markdown",
   "id": "f9917208",
   "metadata": {},
   "source": [
    "floor & ceil"
   ]
  },
  {
   "cell_type": "code",
   "execution_count": 66,
   "id": "177b8abe",
   "metadata": {},
   "outputs": [],
   "source": [
    "a=np.array([-1.7,-4,2,4.6,-0.7])"
   ]
  },
  {
   "cell_type": "code",
   "execution_count": 67,
   "id": "8f4760ae",
   "metadata": {},
   "outputs": [
    {
     "data": {
      "text/plain": [
       "array([-2., -4.,  2.,  4., -1.])"
      ]
     },
     "execution_count": 67,
     "metadata": {},
     "output_type": "execute_result"
    }
   ],
   "source": [
    "np.floor(a)"
   ]
  },
  {
   "cell_type": "code",
   "execution_count": 68,
   "id": "6fed08fa",
   "metadata": {},
   "outputs": [
    {
     "data": {
      "text/plain": [
       "array([-1., -4.,  2.,  5., -0.])"
      ]
     },
     "execution_count": 68,
     "metadata": {},
     "output_type": "execute_result"
    }
   ],
   "source": [
    "np.ceil(a)"
   ]
  },
  {
   "cell_type": "markdown",
   "id": "68d6b9f0",
   "metadata": {},
   "source": [
    "copy & view"
   ]
  },
  {
   "cell_type": "code",
   "execution_count": 69,
   "id": "9b34b818",
   "metadata": {},
   "outputs": [],
   "source": [
    " x=arr.copy()"
   ]
  },
  {
   "cell_type": "code",
   "execution_count": 70,
   "id": "3cad98c5",
   "metadata": {},
   "outputs": [
    {
     "data": {
      "text/plain": [
       "array([3.501, 0.98 ])"
      ]
     },
     "execution_count": 70,
     "metadata": {},
     "output_type": "execute_result"
    }
   ],
   "source": [
    "x"
   ]
  },
  {
   "cell_type": "code",
   "execution_count": 71,
   "id": "1a9f5011",
   "metadata": {},
   "outputs": [],
   "source": [
    "x[0]=10"
   ]
  },
  {
   "cell_type": "code",
   "execution_count": 72,
   "id": "f65d865b",
   "metadata": {},
   "outputs": [
    {
     "data": {
      "text/plain": [
       "array([10.  ,  0.98])"
      ]
     },
     "execution_count": 72,
     "metadata": {},
     "output_type": "execute_result"
    }
   ],
   "source": [
    "x"
   ]
  },
  {
   "cell_type": "code",
   "execution_count": 73,
   "id": "c4dd3c1f",
   "metadata": {},
   "outputs": [
    {
     "data": {
      "text/plain": [
       "array([3.501, 0.98 ])"
      ]
     },
     "execution_count": 73,
     "metadata": {},
     "output_type": "execute_result"
    }
   ],
   "source": [
    "arr"
   ]
  },
  {
   "cell_type": "code",
   "execution_count": 74,
   "id": "9e9586ac",
   "metadata": {},
   "outputs": [],
   "source": [
    "y=arr.view()"
   ]
  },
  {
   "cell_type": "code",
   "execution_count": 75,
   "id": "aad0ccc6",
   "metadata": {},
   "outputs": [
    {
     "data": {
      "text/plain": [
       "array([3.501, 0.98 ])"
      ]
     },
     "execution_count": 75,
     "metadata": {},
     "output_type": "execute_result"
    }
   ],
   "source": [
    "y"
   ]
  },
  {
   "cell_type": "code",
   "execution_count": 76,
   "id": "8b21e01c",
   "metadata": {},
   "outputs": [],
   "source": [
    "y[0]=10"
   ]
  },
  {
   "cell_type": "code",
   "execution_count": 77,
   "id": "9cebf811",
   "metadata": {},
   "outputs": [
    {
     "data": {
      "text/plain": [
       "array([10.  ,  0.98])"
      ]
     },
     "execution_count": 77,
     "metadata": {},
     "output_type": "execute_result"
    }
   ],
   "source": [
    "y"
   ]
  },
  {
   "cell_type": "code",
   "execution_count": 78,
   "id": "b05f8a20",
   "metadata": {},
   "outputs": [
    {
     "data": {
      "text/plain": [
       "array([10.  ,  0.98])"
      ]
     },
     "execution_count": 78,
     "metadata": {},
     "output_type": "execute_result"
    }
   ],
   "source": [
    "arr"
   ]
  },
  {
   "cell_type": "markdown",
   "id": "2de1b154",
   "metadata": {},
   "source": [
    "Iteration "
   ]
  },
  {
   "cell_type": "code",
   "execution_count": 79,
   "id": "76be3dc5",
   "metadata": {},
   "outputs": [
    {
     "name": "stdout",
     "output_type": "stream",
     "text": [
      "10.0\n",
      "0.98\n"
     ]
    }
   ],
   "source": [
    "for i in arr:\n",
    "    print(i)"
   ]
  },
  {
   "cell_type": "code",
   "execution_count": 81,
   "id": "90cb4379",
   "metadata": {},
   "outputs": [
    {
     "name": "stdout",
     "output_type": "stream",
     "text": [
      "1\n",
      "2\n",
      "3\n",
      "4\n",
      "5\n",
      "6\n",
      "7\n",
      "8\n",
      "9\n",
      "10\n"
     ]
    }
   ],
   "source": [
    "for i in arr1:\n",
    "    for j in i:\n",
    "        print(j)"
   ]
  },
  {
   "cell_type": "code",
   "execution_count": 82,
   "id": "e295f5c9",
   "metadata": {},
   "outputs": [
    {
     "name": "stdout",
     "output_type": "stream",
     "text": [
      "1\n",
      "2\n",
      "3\n",
      "4\n",
      "5\n",
      "6\n",
      "7\n",
      "8\n",
      "9\n",
      "10\n"
     ]
    }
   ],
   "source": [
    "for i in np.nditer(arr1):\n",
    "    print(i)"
   ]
  },
  {
   "cell_type": "code",
   "execution_count": 83,
   "id": "5805d542",
   "metadata": {},
   "outputs": [
    {
     "name": "stdout",
     "output_type": "stream",
     "text": [
      "6\n",
      "7\n",
      "8\n",
      "9\n",
      "10\n"
     ]
    }
   ],
   "source": [
    "for i in np.nditer(arr1[1]):\n",
    "    print(i)"
   ]
  }
 ],
 "metadata": {
  "kernelspec": {
   "display_name": "Python 3 (ipykernel)",
   "language": "python",
   "name": "python3"
  },
  "language_info": {
   "codemirror_mode": {
    "name": "ipython",
    "version": 3
   },
   "file_extension": ".py",
   "mimetype": "text/x-python",
   "name": "python",
   "nbconvert_exporter": "python",
   "pygments_lexer": "ipython3",
   "version": "3.11.5"
  }
 },
 "nbformat": 4,
 "nbformat_minor": 5
}
